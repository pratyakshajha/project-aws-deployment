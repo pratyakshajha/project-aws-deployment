{
 "cells": [
  {
   "cell_type": "markdown",
   "metadata": {
    "colab_type": "text",
    "id": "0dFlx7LqIAxy"
   },
   "source": [
    "# Creating a Sentiment Analysis Web App\n",
    "## Using PyTorch and SageMaker\n",
    "\n",
    "_Deep Learning Nanodegree Program | Deployment_\n",
    "\n",
    "---\n",
    "\n",
    "Now that we have a basic understanding of how SageMaker works we will try to use it to construct a complete project from end to end. Our goal will be to have a simple web page which a user can use to enter a movie review. The web page will then send the review off to our deployed model which will predict the sentiment of the entered review.\n",
    "\n",
    "## Instructions\n",
    "\n",
    "Some template code has already been provided for you, and you will need to implement additional functionality to successfully complete this notebook. You will not need to modify the included code beyond what is requested. Sections that begin with '**TODO**' in the header indicate that you need to complete or implement some portion within them. Instructions will be provided for each section and the specifics of the implementation are marked in the code block with a `# TODO: ...` comment. Please be sure to read the instructions carefully!\n",
    "\n",
    "In addition to implementing code, there will be questions for you to answer which relate to the task and your implementation. Each section where you will answer a question is preceded by a '**Question:**' header. Carefully read each question and provide your answer below the '**Answer:**' header by editing the Markdown cell.\n",
    "\n",
    "> **Note**: Code and Markdown cells can be executed using the **Shift+Enter** keyboard shortcut. In addition, a cell can be edited by typically clicking it (double-click for Markdown cells) or by pressing **Enter** while it is highlighted.\n",
    "\n",
    "## General Outline\n",
    "\n",
    "Recall the general outline for SageMaker projects using a notebook instance.\n",
    "\n",
    "1. Download or otherwise retrieve the data.\n",
    "2. Process / Prepare the data.\n",
    "3. Upload the processed data to S3.\n",
    "4. Train a chosen model.\n",
    "5. Test the trained model (typically using a batch transform job).\n",
    "6. Deploy the trained model.\n",
    "7. Use the deployed model.\n",
    "\n",
    "For this project, you will be following the steps in the general outline with some modifications. \n",
    "\n",
    "First, you will not be testing the model in its own step. You will still be testing the model, however, you will do it by deploying your model and then using the deployed model by sending the test data to it. One of the reasons for doing this is so that you can make sure that your deployed model is working correctly before moving forward.\n",
    "\n",
    "In addition, you will deploy and use your trained model a second time. In the second iteration you will customize the way that your trained model is deployed by including some of your own code. In addition, your newly deployed model will be used in the sentiment analysis web app."
   ]
  },
  {
   "cell_type": "markdown",
   "metadata": {
    "colab_type": "text",
    "id": "IEroONppIAx0"
   },
   "source": [
    "## Step 1: Downloading the data\n",
    "\n",
    "As in the XGBoost in SageMaker notebook, we will be using the [IMDb dataset](http://ai.stanford.edu/~amaas/data/sentiment/)\n",
    "\n",
    "> Maas, Andrew L., et al. [Learning Word Vectors for Sentiment Analysis](http://ai.stanford.edu/~amaas/data/sentiment/). In _Proceedings of the 49th Annual Meeting of the Association for Computational Linguistics: Human Language Technologies_. Association for Computational Linguistics, 2011."
   ]
  },
  {
   "cell_type": "code",
   "execution_count": 1,
   "metadata": {
    "colab": {
     "base_uri": "https://localhost:8080/",
     "height": 221
    },
    "colab_type": "code",
    "id": "cBhPjpDXIAx1",
    "outputId": "54279881-c463-46da-8f87-496559840352"
   },
   "outputs": [
    {
     "name": "stdout",
     "output_type": "stream",
     "text": [
      "mkdir: cannot create directory ‘../data’: File exists\n",
      "--2019-06-22 15:20:58--  http://ai.stanford.edu/~amaas/data/sentiment/aclImdb_v1.tar.gz\n",
      "Resolving ai.stanford.edu (ai.stanford.edu)... 171.64.68.10\n",
      "Connecting to ai.stanford.edu (ai.stanford.edu)|171.64.68.10|:80... connected.\n",
      "HTTP request sent, awaiting response... 200 OK\n",
      "Length: 84125825 (80M) [application/x-gzip]\n",
      "Saving to: ‘../data/aclImdb_v1.tar.gz’\n",
      "\n",
      "../data/aclImdb_v1. 100%[===================>]  80.23M  6.10MB/s    in 20s     \n",
      "\n",
      "2019-06-22 15:21:19 (4.05 MB/s) - ‘../data/aclImdb_v1.tar.gz’ saved [84125825/84125825]\n",
      "\n"
     ]
    }
   ],
   "source": [
    "%mkdir ../data\n",
    "!wget -O ../data/aclImdb_v1.tar.gz http://ai.stanford.edu/~amaas/data/sentiment/aclImdb_v1.tar.gz\n",
    "!tar -zxf ../data/aclImdb_v1.tar.gz -C ../data"
   ]
  },
  {
   "cell_type": "markdown",
   "metadata": {
    "colab_type": "text",
    "id": "DNpfX_4hIAx4"
   },
   "source": [
    "## Step 2: Preparing and Processing the data\n",
    "\n",
    "Also, as in the XGBoost notebook, we will be doing some initial data processing. The first few steps are the same as in the XGBoost example. To begin with, we will read in each of the reviews and combine them into a single input structure. Then, we will split the dataset into a training set and a testing set."
   ]
  },
  {
   "cell_type": "code",
   "execution_count": 29,
   "metadata": {
    "colab": {},
    "colab_type": "code",
    "id": "Hff0N3AZIAx4"
   },
   "outputs": [],
   "source": [
    "import os\n",
    "import glob\n",
    "\n",
    "def read_imdb_data(data_dir='../data/aclImdb'):\n",
    "    data = {}\n",
    "    labels = {}\n",
    "    \n",
    "    for data_type in ['train', 'test']:\n",
    "        data[data_type] = {}\n",
    "        labels[data_type] = {}\n",
    "        \n",
    "        for sentiment in ['pos', 'neg']:\n",
    "            data[data_type][sentiment] = []\n",
    "            labels[data_type][sentiment] = []\n",
    "            \n",
    "            path = os.path.join(data_dir, data_type, sentiment, '*.txt')\n",
    "            files = glob.glob(path)\n",
    "            \n",
    "            for f in files:\n",
    "                with open(f) as review:\n",
    "                    data[data_type][sentiment].append(review.read())\n",
    "                    # Here we represent a positive review by '1' and a negative review by '0'\n",
    "                    labels[data_type][sentiment].append(1 if sentiment == 'pos' else 0)\n",
    "                    \n",
    "            assert len(data[data_type][sentiment]) == len(labels[data_type][sentiment]), \\\n",
    "                    \"{}/{} data size does not match labels size\".format(data_type, sentiment)\n",
    "                \n",
    "    return data, labels"
   ]
  },
  {
   "cell_type": "code",
   "execution_count": 30,
   "metadata": {
    "colab": {
     "base_uri": "https://localhost:8080/",
     "height": 34
    },
    "colab_type": "code",
    "id": "hzm0SnGyIAx6",
    "outputId": "0caf5abf-41bd-4e03-f824-2b3d53ef3fe5"
   },
   "outputs": [
    {
     "name": "stdout",
     "output_type": "stream",
     "text": [
      "IMDB reviews: train = 12500 pos / 12500 neg, test = 12500 pos / 12500 neg\n"
     ]
    }
   ],
   "source": [
    "data, labels = read_imdb_data()\n",
    "print(\"IMDB reviews: train = {} pos / {} neg, test = {} pos / {} neg\".format(\n",
    "            len(data['train']['pos']), len(data['train']['neg']),\n",
    "            len(data['test']['pos']), len(data['test']['neg'])))"
   ]
  },
  {
   "cell_type": "markdown",
   "metadata": {
    "colab_type": "text",
    "id": "x2qTtdULIAx9"
   },
   "source": [
    "Now that we've read the raw training and testing data from the downloaded dataset, we will combine the positive and negative reviews and shuffle the resulting records."
   ]
  },
  {
   "cell_type": "code",
   "execution_count": 31,
   "metadata": {
    "colab": {},
    "colab_type": "code",
    "id": "ISbczp8uIAx9"
   },
   "outputs": [],
   "source": [
    "from sklearn.utils import shuffle\n",
    "\n",
    "def prepare_imdb_data(data, labels):\n",
    "    \"\"\"Prepare training and test sets from IMDb movie reviews.\"\"\"\n",
    "    \n",
    "    #Combine positive and negative reviews and labels\n",
    "    data_train = data['train']['pos'] + data['train']['neg']\n",
    "    data_test = data['test']['pos'] + data['test']['neg']\n",
    "    labels_train = labels['train']['pos'] + labels['train']['neg']\n",
    "    labels_test = labels['test']['pos'] + labels['test']['neg']\n",
    "    \n",
    "    #Shuffle reviews and corresponding labels within training and test sets\n",
    "    data_train, labels_train = shuffle(data_train, labels_train)\n",
    "    data_test, labels_test = shuffle(data_test, labels_test)\n",
    "    \n",
    "    # Return a unified training data, test data, training labels, test labets\n",
    "    return data_train, data_test, labels_train, labels_test"
   ]
  },
  {
   "cell_type": "code",
   "execution_count": 32,
   "metadata": {
    "colab": {
     "base_uri": "https://localhost:8080/",
     "height": 34
    },
    "colab_type": "code",
    "id": "aLx-0C3KIAx_",
    "outputId": "15e2fc9c-b7b5-46ef-9dcb-ec2b43f3e441"
   },
   "outputs": [
    {
     "name": "stdout",
     "output_type": "stream",
     "text": [
      "IMDb reviews (combined): train = 25000, test = 25000\n"
     ]
    }
   ],
   "source": [
    "train_X, test_X, train_y, test_y = prepare_imdb_data(data, labels)\n",
    "print(\"IMDb reviews (combined): train = {}, test = {}\".format(len(train_X), len(test_X)))"
   ]
  },
  {
   "cell_type": "markdown",
   "metadata": {
    "colab_type": "text",
    "id": "HMUVmFVgIAyB"
   },
   "source": [
    "Now that we have our training and testing sets unified and prepared, we should do a quick check and see an example of the data our model will be trained on. This is generally a good idea as it allows you to see how each of the further processing steps affects the reviews and it also ensures that the data has been loaded correctly."
   ]
  },
  {
   "cell_type": "code",
   "execution_count": 33,
   "metadata": {
    "colab": {
     "base_uri": "https://localhost:8080/",
     "height": 71
    },
    "colab_type": "code",
    "id": "gfvuhZG2IAyC",
    "outputId": "15b08fdf-a111-4d11-f286-dec6693d1477"
   },
   "outputs": [
    {
     "name": "stdout",
     "output_type": "stream",
     "text": [
      "I scooped up this title by accident with the Grindhouse Vol. 1 collection of pure Euro-trash movies. But this movie has a nice stamp of approval and should deserve a better transfer than what is out there. Stupednous it is not... satisfying it is! Watching this movie I couldn't help to wonder... how come Sergio Martino didn't make this flick? This has his signature all over it and punctuated by Edwedge Fenech (alas not as well known as she should be but she did get a nice cameo in Hostel II). Double-crosses and triple-crosses underly and cement this film from beginning to end with Lee Van Cleef oozing coolness under pressure from the 1st second. Did this guy have to go to Italy to finally reach his potential or did the studio system let this guy slip through? Besides Lee's more recognizable films, film-goers should try this on for size and see how if Sergio Leone would've lowered his epic scale down on Once Upon a Time in America to half the running time (and 1/4 of the budget) this is what it would've turned out to be like. So refreshing, it should be taken in during the day at home and make it for an couch matinée\n",
      "1\n"
     ]
    }
   ],
   "source": [
    "print(train_X[100])\n",
    "print(train_y[100])"
   ]
  },
  {
   "cell_type": "markdown",
   "metadata": {
    "colab_type": "text",
    "id": "ERstWob3IAyE"
   },
   "source": [
    "The first step in processing the reviews is to make sure that any html tags that appear should be removed. In addition we wish to tokenize our input, that way words such as *entertained* and *entertaining* are considered the same with regard to sentiment analysis."
   ]
  },
  {
   "cell_type": "code",
   "execution_count": 34,
   "metadata": {
    "colab": {},
    "colab_type": "code",
    "id": "GGJd9kkCIAyF"
   },
   "outputs": [],
   "source": [
    "import nltk\n",
    "from nltk.corpus import stopwords\n",
    "from nltk.stem.porter import *\n",
    "\n",
    "import re\n",
    "from bs4 import BeautifulSoup\n",
    "\n",
    "def review_to_words(review):\n",
    "    nltk.download(\"stopwords\", quiet=True)\n",
    "    stemmer = PorterStemmer()\n",
    "    \n",
    "    text = BeautifulSoup(review, \"html.parser\").get_text() # Remove HTML tags\n",
    "    text = re.sub(r\"[^a-zA-Z0-9]\", \" \", text.lower()) # Convert to lower case\n",
    "    words = text.split() # Split string into words\n",
    "    words = [w for w in words if w not in stopwords.words(\"english\")] # Remove stopwords\n",
    "    words = [PorterStemmer().stem(w) for w in words] # stem\n",
    "    \n",
    "    return words"
   ]
  },
  {
   "cell_type": "markdown",
   "metadata": {
    "colab_type": "text",
    "id": "yqJrIaq9IAyH"
   },
   "source": [
    "The `review_to_words` method defined above uses `BeautifulSoup` to remove any html tags that appear and uses the `nltk` package to tokenize the reviews. As a check to ensure we know how everything is working, try applying `review_to_words` to one of the reviews in the training set."
   ]
  },
  {
   "cell_type": "code",
   "execution_count": 35,
   "metadata": {
    "colab": {
     "base_uri": "https://localhost:8080/",
     "height": 4250
    },
    "colab_type": "code",
    "id": "pP32Z3O1IAyJ",
    "outputId": "35498a2d-782d-4527-8676-be5e143f04bb"
   },
   "outputs": [
    {
     "data": {
      "text/plain": [
       "['scoop',\n",
       " 'titl',\n",
       " 'accid',\n",
       " 'grindhous',\n",
       " 'vol',\n",
       " '1',\n",
       " 'collect',\n",
       " 'pure',\n",
       " 'euro',\n",
       " 'trash',\n",
       " 'movi',\n",
       " 'movi',\n",
       " 'nice',\n",
       " 'stamp',\n",
       " 'approv',\n",
       " 'deserv',\n",
       " 'better',\n",
       " 'transfer',\n",
       " 'stupedn',\n",
       " 'satisfi',\n",
       " 'watch',\n",
       " 'movi',\n",
       " 'help',\n",
       " 'wonder',\n",
       " 'come',\n",
       " 'sergio',\n",
       " 'martino',\n",
       " 'make',\n",
       " 'flick',\n",
       " 'signatur',\n",
       " 'punctuat',\n",
       " 'edwedg',\n",
       " 'fenech',\n",
       " 'ala',\n",
       " 'well',\n",
       " 'known',\n",
       " 'get',\n",
       " 'nice',\n",
       " 'cameo',\n",
       " 'hostel',\n",
       " 'ii',\n",
       " 'doubl',\n",
       " 'cross',\n",
       " 'tripl',\n",
       " 'cross',\n",
       " 'underli',\n",
       " 'cement',\n",
       " 'film',\n",
       " 'begin',\n",
       " 'end',\n",
       " 'lee',\n",
       " 'van',\n",
       " 'cleef',\n",
       " 'ooz',\n",
       " 'cool',\n",
       " 'pressur',\n",
       " '1st',\n",
       " 'second',\n",
       " 'guy',\n",
       " 'go',\n",
       " 'itali',\n",
       " 'final',\n",
       " 'reach',\n",
       " 'potenti',\n",
       " 'studio',\n",
       " 'system',\n",
       " 'let',\n",
       " 'guy',\n",
       " 'slip',\n",
       " 'besid',\n",
       " 'lee',\n",
       " 'recogniz',\n",
       " 'film',\n",
       " 'film',\n",
       " 'goer',\n",
       " 'tri',\n",
       " 'size',\n",
       " 'see',\n",
       " 'sergio',\n",
       " 'leon',\n",
       " 'would',\n",
       " 'lower',\n",
       " 'epic',\n",
       " 'scale',\n",
       " 'upon',\n",
       " 'time',\n",
       " 'america',\n",
       " 'half',\n",
       " 'run',\n",
       " 'time',\n",
       " '1',\n",
       " '4',\n",
       " 'budget',\n",
       " 'would',\n",
       " 'turn',\n",
       " 'like',\n",
       " 'refresh',\n",
       " 'taken',\n",
       " 'day',\n",
       " 'home',\n",
       " 'make',\n",
       " 'couch',\n",
       " 'matin',\n",
       " 'e']"
      ]
     },
     "execution_count": 35,
     "metadata": {},
     "output_type": "execute_result"
    }
   ],
   "source": [
    "review_to_words(train_X[100])\n"
   ]
  },
  {
   "cell_type": "markdown",
   "metadata": {
    "colab_type": "text",
    "id": "-vqW0KmtIAyO"
   },
   "source": [
    "**Question:** Above we mentioned that `review_to_words` method removes html formatting and allows us to tokenize the words found in a review, for example, converting *entertained* and *entertaining* into *entertain* so that they are treated as though they are the same word. What else, if anything, does this method do to the input?"
   ]
  },
  {
   "cell_type": "markdown",
   "metadata": {
    "colab_type": "text",
    "id": "0WAq7CQ2IAyP"
   },
   "source": [
    "**Answer:**\n",
    "\n",
    "Apart from reducing other word forms, review_to_words also:\n",
    "- Removes any of the HTML tags.\n",
    "- Turns all words to lower case.\n",
    "- Removes stopwords using nltk library"
   ]
  },
  {
   "cell_type": "markdown",
   "metadata": {
    "colab_type": "text",
    "id": "hayaNDLjIAyQ"
   },
   "source": [
    "The method below applies the `review_to_words` method to each of the reviews in the training and testing datasets. In addition it caches the results. This is because performing this processing step can take a long time. This way if you are unable to complete the notebook in the current session, you can come back without needing to process the data a second time."
   ]
  },
  {
   "cell_type": "code",
   "execution_count": 36,
   "metadata": {
    "colab": {},
    "colab_type": "code",
    "id": "9O5FYNDJIAyR"
   },
   "outputs": [],
   "source": [
    "import pickle\n",
    "\n",
    "cache_dir = os.path.join(\"../cache\", \"sentiment_analysis\")  # where to store cache files\n",
    "os.makedirs(cache_dir, exist_ok=True)  # ensure cache directory exists\n",
    "\n",
    "def preprocess_data(data_train, data_test, labels_train, labels_test,\n",
    "                    cache_dir=cache_dir, cache_file=\"preprocessed_data.pkl\"):\n",
    "    \"\"\"Convert each review to words; read from cache if available.\"\"\"\n",
    "\n",
    "    # If cache_file is not None, try to read from it first\n",
    "    cache_data = None\n",
    "    if cache_file is not None:\n",
    "        try:\n",
    "            with open(os.path.join(cache_dir, cache_file), \"rb\") as f:\n",
    "                cache_data = pickle.load(f)\n",
    "            print(\"Read preprocessed data from cache file:\", cache_file)\n",
    "        except:\n",
    "            pass  # unable to read from cache, but that's okay\n",
    "    \n",
    "    # If cache is missing, then do the heavy lifting\n",
    "    if cache_data is None:\n",
    "        # Preprocess training and test data to obtain words for each review\n",
    "        #words_train = list(map(review_to_words, data_train))\n",
    "        #words_test = list(map(review_to_words, data_test))\n",
    "        words_train = [review_to_words(review) for review in data_train]\n",
    "        words_test = [review_to_words(review) for review in data_test]\n",
    "        \n",
    "        # Write to cache file for future runs\n",
    "        if cache_file is not None:\n",
    "            cache_data = dict(words_train=words_train, words_test=words_test,\n",
    "                              labels_train=labels_train, labels_test=labels_test)\n",
    "            with open(os.path.join(cache_dir, cache_file), \"wb\") as f:\n",
    "                pickle.dump(cache_data, f)\n",
    "            print(\"Wrote preprocessed data to cache file:\", cache_file)\n",
    "    else:\n",
    "        # Unpack data loaded from cache file\n",
    "        words_train, words_test, labels_train, labels_test = (cache_data['words_train'],\n",
    "                cache_data['words_test'], cache_data['labels_train'], cache_data['labels_test'])\n",
    "    \n",
    "    return words_train, words_test, labels_train, labels_test"
   ]
  },
  {
   "cell_type": "code",
   "execution_count": null,
   "metadata": {
    "colab": {
     "base_uri": "https://localhost:8080/",
     "height": 34
    },
    "colab_type": "code",
    "id": "OkoO3w8DIAyU",
    "outputId": "96c2680b-8875-4de6-b240-35d09f650cd0"
   },
   "outputs": [
    {
     "name": "stdout",
     "output_type": "stream",
     "text": [
      "Wrote preprocessed data to cache file: preprocessed_data.pkl\n"
     ]
    }
   ],
   "source": [
    "# Preprocess data\n",
    "train_X, test_X, train_y, test_y = preprocess_data(train_X, test_X, train_y, test_y)"
   ]
  },
  {
   "cell_type": "code",
   "execution_count": null,
   "metadata": {},
   "outputs": [
    {
     "data": {
      "text/plain": [
       "25000"
      ]
     },
     "execution_count": 38,
     "metadata": {},
     "output_type": "execute_result"
    }
   ],
   "source": [
    "len(train_X)"
   ]
  },
  {
   "cell_type": "markdown",
   "metadata": {
    "colab_type": "text",
    "id": "_j3VZ5OwIAyW"
   },
   "source": [
    "## Transform the data\n",
    "\n",
    "In the XGBoost notebook we transformed the data from its word representation to a bag-of-words feature representation. For the model we are going to construct in this notebook we will construct a feature representation which is very similar. To start, we will represent each word as an integer. Of course, some of the words that appear in the reviews occur very infrequently and so likely don't contain much information for the purposes of sentiment analysis. The way we will deal with this problem is that we will fix the size of our working vocabulary and we will only include the words that appear most frequently. We will then combine all of the infrequent words into a single category and, in our case, we will label it as `1`.\n",
    "\n",
    "Since we will be using a recurrent neural network, it will be convenient if the length of each review is the same. To do this, we will fix a size for our reviews and then pad short reviews with the category 'no word' (which we will label `0`) and truncate long reviews."
   ]
  },
  {
   "cell_type": "markdown",
   "metadata": {
    "colab_type": "text",
    "id": "wp0ucXslIAyX"
   },
   "source": [
    "### (TODO) Create a word dictionary\n",
    "\n",
    "To begin with, we need to construct a way to map words that appear in the reviews to integers. Here we fix the size of our vocabulary (including the 'no word' and 'infrequent' categories) to be `5000` but you may wish to change this to see how it affects the model.\n",
    "\n",
    "> **TODO:** Complete the implementation for the `build_dict()` method below. Note that even though the vocab_size is set to `5000`, we only want to construct a mapping for the most frequently appearing `4998` words. This is because we want to reserve the special labels `0` for 'no word' and `1` for 'infrequent word'."
   ]
  },
  {
   "cell_type": "code",
   "execution_count": 39,
   "metadata": {
    "colab": {},
    "colab_type": "code",
    "id": "Rd4-kzgGIAyX"
   },
   "outputs": [],
   "source": [
    "import numpy as np\n",
    "import re\n",
    "from collections import Counter\n",
    "\n",
    "def build_dict(data, vocab_size = 5000):\n",
    "    \"\"\"Construct and return a dictionary mapping each of the most frequently appearing words to a unique integer.\"\"\"\n",
    "    \n",
    "    # TODO: Determine how often each word appears in `data`. Note that `data` is a list of sentences and that a\n",
    "    #       sentence is a list of words.\n",
    "    \n",
    "    word_count = Counter(np.concatenate( data, axis=0 ))\n",
    "    # A dict storing the words that appear in the reviews along with how often they occur\n",
    "    \n",
    "    # TODO: Sort the words found in `data` so that sorted_words[0] is the most frequently appearing word and\n",
    "    #       sorted_words[-1] is the least frequently appearing word.\n",
    "    \n",
    "    sorted_words = sorted(word_count, key=word_count.get, reverse=True)\n",
    "    \n",
    "    word_dict = {} # This is what we are building, a dictionary that translates words into integers\n",
    "    for idx, word in enumerate(sorted_words[:vocab_size - 2]): # The -2 is so that we save room for the 'no word'\n",
    "        word_dict[word] = idx + 2                              # 'infrequent' labels\n",
    "        \n",
    "    return word_dict"
   ]
  },
  {
   "cell_type": "code",
   "execution_count": 40,
   "metadata": {
    "colab": {},
    "colab_type": "code",
    "id": "8-BWkylFIAya"
   },
   "outputs": [],
   "source": [
    "word_dict = build_dict(train_X)"
   ]
  },
  {
   "cell_type": "markdown",
   "metadata": {
    "colab_type": "text",
    "id": "8CJBxAHqIAyc"
   },
   "source": [
    "**Question:** What are the five most frequently appearing (tokenized) words in the training set? Does it makes sense that these words appear frequently in the training set?"
   ]
  },
  {
   "cell_type": "markdown",
   "metadata": {
    "colab_type": "text",
    "id": "UA0iaXZlIAyc"
   },
   "source": [
    "**Answer:**\n",
    "\n",
    "The 5 most common words are scariest, epitom, masterson, weari and weaker"
   ]
  },
  {
   "cell_type": "code",
   "execution_count": 41,
   "metadata": {
    "colab": {
     "base_uri": "https://localhost:8080/",
     "height": 17034
    },
    "colab_type": "code",
    "id": "GkAKEFERQxr4",
    "outputId": "85fa0dcc-b860-4c64-ef2d-8b4d416997d8"
   },
   "outputs": [
    {
     "data": {
      "text/plain": [
       "OrderedDict([('scariest', 4999),\n",
       "             ('epitom', 4998),\n",
       "             ('masterson', 4997),\n",
       "             ('weari', 4996),\n",
       "             ('weaker', 4995),\n",
       "             ('orchestr', 4994),\n",
       "             ('jill', 4993),\n",
       "             ('modest', 4992),\n",
       "             ('verg', 4991),\n",
       "             ('reincarn', 4990),\n",
       "             ('hackman', 4989),\n",
       "             ('spill', 4988),\n",
       "             ('rapidli', 4987),\n",
       "             ('macabr', 4986),\n",
       "             ('drone', 4985),\n",
       "             ('handicap', 4984),\n",
       "             ('optimist', 4983),\n",
       "             ('assort', 4982),\n",
       "             ('hostil', 4981),\n",
       "             ('sparkl', 4980),\n",
       "             ('vastli', 4979),\n",
       "             ('substanti', 4978),\n",
       "             ('dubiou', 4977),\n",
       "             ('bach', 4976),\n",
       "             ('bravo', 4975),\n",
       "             ('monti', 4974),\n",
       "             ('ghetto', 4973),\n",
       "             ('21st', 4972),\n",
       "             ('ingrid', 4971),\n",
       "             ('incorrect', 4970),\n",
       "             ('growth', 4969),\n",
       "             ('omin', 4968),\n",
       "             ('asset', 4967),\n",
       "             ('evan', 4966),\n",
       "             ('playboy', 4965),\n",
       "             ('profil', 4964),\n",
       "             ('bsg', 4963),\n",
       "             ('inclus', 4962),\n",
       "             ('ash', 4961),\n",
       "             ('miniseri', 4960),\n",
       "             ('cape', 4959),\n",
       "             ('unattract', 4958),\n",
       "             ('tokyo', 4957),\n",
       "             ('walt', 4956),\n",
       "             ('truman', 4955),\n",
       "             ('miami', 4954),\n",
       "             ('genet', 4953),\n",
       "             ('palm', 4952),\n",
       "             ('basket', 4951),\n",
       "             ('forgiven', 4950),\n",
       "             ('propheci', 4949),\n",
       "             ('poker', 4948),\n",
       "             ('pepper', 4947),\n",
       "             ('abound', 4946),\n",
       "             ('conan', 4945),\n",
       "             ('knee', 4944),\n",
       "             ('blur', 4943),\n",
       "             ('pioneer', 4942),\n",
       "             ('aussi', 4941),\n",
       "             ('vignett', 4940),\n",
       "             ('lauren', 4939),\n",
       "             ('porter', 4938),\n",
       "             ('lanc', 4937),\n",
       "             ('curtain', 4936),\n",
       "             ('sacrif', 4935),\n",
       "             ('comprehens', 4934),\n",
       "             ('paula', 4933),\n",
       "             ('goldblum', 4932),\n",
       "             ('inaccur', 4931),\n",
       "             ('vain', 4930),\n",
       "             ('mum', 4929),\n",
       "             ('id', 4928),\n",
       "             ('rosario', 4927),\n",
       "             ('galaxi', 4926),\n",
       "             ('fruit', 4925),\n",
       "             ('1985', 4924),\n",
       "             ('decapit', 4923),\n",
       "             ('comb', 4922),\n",
       "             ('carmen', 4921),\n",
       "             ('relentless', 4920),\n",
       "             ('groan', 4919),\n",
       "             ('spray', 4918),\n",
       "             ('roar', 4917),\n",
       "             ('kiddi', 4916),\n",
       "             ('meal', 4915),\n",
       "             ('subtli', 4914),\n",
       "             ('bait', 4913),\n",
       "             ('antonio', 4912),\n",
       "             ('congratul', 4911),\n",
       "             ('sidewalk', 4910),\n",
       "             ('unsuspect', 4909),\n",
       "             ('bori', 4908),\n",
       "             ('jule', 4907),\n",
       "             ('evelyn', 4906),\n",
       "             ('jedi', 4905),\n",
       "             ('wtf', 4904),\n",
       "             ('mcqueen', 4903),\n",
       "             ('constitut', 4902),\n",
       "             ('belli', 4901),\n",
       "             ('undead', 4900),\n",
       "             ('capot', 4899),\n",
       "             ('spectacl', 4898),\n",
       "             ('gilliam', 4897),\n",
       "             ('ol', 4896),\n",
       "             ('alleg', 4895),\n",
       "             ('randolph', 4894),\n",
       "             ('creek', 4893),\n",
       "             ('1977', 4892),\n",
       "             ('cecil', 4891),\n",
       "             ('jare', 4890),\n",
       "             ('lex', 4889),\n",
       "             ('clara', 4888),\n",
       "             ('nina', 4887),\n",
       "             ('armstrong', 4886),\n",
       "             ('1974', 4885),\n",
       "             ('liu', 4884),\n",
       "             ('undertak', 4883),\n",
       "             ('signal', 4882),\n",
       "             ('eleven', 4881),\n",
       "             ('kent', 4880),\n",
       "             ('outright', 4879),\n",
       "             ('embark', 4878),\n",
       "             ('healthi', 4877),\n",
       "             ('sorrow', 4876),\n",
       "             ('kazan', 4875),\n",
       "             ('judd', 4874),\n",
       "             ('occup', 4873),\n",
       "             ('inaccuraci', 4872),\n",
       "             ('fluid', 4871),\n",
       "             ('historian', 4870),\n",
       "             ('bulk', 4869),\n",
       "             ('pronounc', 4868),\n",
       "             ('appl', 4867),\n",
       "             ('replay', 4866),\n",
       "             ('ie', 4865),\n",
       "             ('neatli', 4864),\n",
       "             ('jam', 4863),\n",
       "             ('luxuri', 4862),\n",
       "             ('trauma', 4861),\n",
       "             ('firmli', 4860),\n",
       "             ('goldsworthi', 4859),\n",
       "             ('durat', 4858),\n",
       "             ('snatch', 4857),\n",
       "             ('collector', 4856),\n",
       "             ('spine', 4855),\n",
       "             ('spawn', 4854),\n",
       "             ('mitch', 4853),\n",
       "             ('client', 4852),\n",
       "             ('corn', 4851),\n",
       "             ('lifeless', 4850),\n",
       "             ('4th', 4849),\n",
       "             ('conrad', 4848),\n",
       "             ('deliver', 4847),\n",
       "             ('newer', 4846),\n",
       "             ('whack', 4845),\n",
       "             ('btw', 4844),\n",
       "             ('1991', 4843),\n",
       "             ('einstein', 4842),\n",
       "             ('potter', 4841),\n",
       "             ('lavish', 4840),\n",
       "             ('boo', 4839),\n",
       "             ('bogu', 4838),\n",
       "             ('lighter', 4837),\n",
       "             ('breakdown', 4836),\n",
       "             ('cemeteri', 4835),\n",
       "             ('toe', 4834),\n",
       "             ('chip', 4833),\n",
       "             ('salman', 4832),\n",
       "             ('monument', 4831),\n",
       "             ('phenomen', 4830),\n",
       "             ('moe', 4829),\n",
       "             ('tara', 4828),\n",
       "             ('braveheart', 4827),\n",
       "             ('bastard', 4826),\n",
       "             ('1994', 4825),\n",
       "             ('sleaz', 4824),\n",
       "             ('cuban', 4823),\n",
       "             ('energet', 4822),\n",
       "             ('senat', 4821),\n",
       "             ('greet', 4820),\n",
       "             ('evolut', 4819),\n",
       "             ('plate', 4818),\n",
       "             ('summar', 4817),\n",
       "             ('compris', 4816),\n",
       "             ('uniformli', 4815),\n",
       "             ('gilbert', 4814),\n",
       "             ('boyer', 4813),\n",
       "             ('dudley', 4812),\n",
       "             ('gunga', 4811),\n",
       "             ('linear', 4810),\n",
       "             ('abund', 4809),\n",
       "             ('wrestler', 4808),\n",
       "             ('psych', 4807),\n",
       "             ('affleck', 4806),\n",
       "             ('outdat', 4805),\n",
       "             ('shorter', 4804),\n",
       "             ('leather', 4803),\n",
       "             ('tack', 4802),\n",
       "             ('highway', 4801),\n",
       "             ('peer', 4800),\n",
       "             ('comprehend', 4799),\n",
       "             ('oppon', 4798),\n",
       "             ('nightclub', 4797),\n",
       "             ('deem', 4796),\n",
       "             ('magician', 4795),\n",
       "             ('disregard', 4794),\n",
       "             ('retriev', 4793),\n",
       "             ('cartoonish', 4792),\n",
       "             ('swept', 4791),\n",
       "             ('styliz', 4790),\n",
       "             ('huston', 4789),\n",
       "             ('knightley', 4788),\n",
       "             ('clinic', 4787),\n",
       "             ('audrey', 4786),\n",
       "             ('ceremoni', 4785),\n",
       "             ('frog', 4784),\n",
       "             ('ideolog', 4783),\n",
       "             ('howl', 4782),\n",
       "             ('fifth', 4781),\n",
       "             ('smack', 4780),\n",
       "             ('charlton', 4779),\n",
       "             ('glare', 4778),\n",
       "             ('turd', 4777),\n",
       "             ('feminin', 4776),\n",
       "             ('sicken', 4775),\n",
       "             ('misfortun', 4774),\n",
       "             ('vanessa', 4773),\n",
       "             ('winchest', 4772),\n",
       "             ('rooki', 4771),\n",
       "             ('shepherd', 4770),\n",
       "             ('nope', 4769),\n",
       "             ('blatantli', 4768),\n",
       "             ('venom', 4767),\n",
       "             ('isra', 4766),\n",
       "             ('token', 4765),\n",
       "             ('lucil', 4764),\n",
       "             ('http', 4763),\n",
       "             ('estrang', 4762),\n",
       "             ('razor', 4761),\n",
       "             ('marlon', 4760),\n",
       "             ('bikini', 4759),\n",
       "             ('static', 4758),\n",
       "             ('cerebr', 4757),\n",
       "             ('antholog', 4756),\n",
       "             ('foil', 4755),\n",
       "             ('alexandr', 4754),\n",
       "             ('orphan', 4753),\n",
       "             ('trier', 4752),\n",
       "             ('toronto', 4751),\n",
       "             ('articl', 4750),\n",
       "             ('choke', 4749),\n",
       "             ('eli', 4748),\n",
       "             ('mathieu', 4747),\n",
       "             ('bondag', 4746),\n",
       "             ('akin', 4745),\n",
       "             ('milo', 4744),\n",
       "             ('aris', 4743),\n",
       "             ('flavor', 4742),\n",
       "             ('electron', 4741),\n",
       "             ('feast', 4740),\n",
       "             ('lui', 4739),\n",
       "             ('mason', 4738),\n",
       "             ('jo', 4737),\n",
       "             ('seedi', 4736),\n",
       "             ('jordan', 4735),\n",
       "             ('breakfast', 4734),\n",
       "             ('pc', 4733),\n",
       "             ('holocaust', 4732),\n",
       "             ('vile', 4731),\n",
       "             ('illus', 4730),\n",
       "             ('redneck', 4729),\n",
       "             ('legitim', 4728),\n",
       "             ('northern', 4727),\n",
       "             ('wardrob', 4726),\n",
       "             ('uma', 4725),\n",
       "             ('colin', 4724),\n",
       "             ('cliffhang', 4723),\n",
       "             ('proclaim', 4722),\n",
       "             ('casino', 4721),\n",
       "             ('europa', 4720),\n",
       "             ('helm', 4719),\n",
       "             ('earnest', 4718),\n",
       "             ('miracul', 4717),\n",
       "             ('dylan', 4716),\n",
       "             ('loretta', 4715),\n",
       "             ('biblic', 4714),\n",
       "             ('hug', 4713),\n",
       "             ('dim', 4712),\n",
       "             ('undermin', 4711),\n",
       "             ('mobster', 4710),\n",
       "             ('hilar', 4709),\n",
       "             ('bate', 4708),\n",
       "             ('rot', 4707),\n",
       "             ('pacif', 4706),\n",
       "             ('ish', 4705),\n",
       "             ('hapless', 4704),\n",
       "             ('anton', 4703),\n",
       "             ('cher', 4702),\n",
       "             ('parson', 4701),\n",
       "             ('dame', 4700),\n",
       "             ('pickford', 4699),\n",
       "             ('fragil', 4698),\n",
       "             ('cb', 4697),\n",
       "             ('prophet', 4696),\n",
       "             ('clad', 4695),\n",
       "             ('vibrant', 4694),\n",
       "             ('wendigo', 4693),\n",
       "             ('pixar', 4692),\n",
       "             ('banter', 4691),\n",
       "             ('artwork', 4690),\n",
       "             ('melissa', 4689),\n",
       "             ('neill', 4688),\n",
       "             ('luka', 4687),\n",
       "             ('traffic', 4686),\n",
       "             ('submit', 4685),\n",
       "             ('kathryn', 4684),\n",
       "             ('cycl', 4683),\n",
       "             ('senior', 4682),\n",
       "             ('timberlak', 4681),\n",
       "             ('jade', 4680),\n",
       "             ('carlo', 4679),\n",
       "             ('heartwarm', 4678),\n",
       "             ('harrison', 4677),\n",
       "             ('frontier', 4676),\n",
       "             ('recit', 4675),\n",
       "             ('axe', 4674),\n",
       "             ('raj', 4673),\n",
       "             ('interestingli', 4672),\n",
       "             ('1945', 4671),\n",
       "             ('strive', 4670),\n",
       "             ('sensual', 4669),\n",
       "             ('www', 4668),\n",
       "             ('fishburn', 4667),\n",
       "             ('aborigin', 4666),\n",
       "             ('boob', 4665),\n",
       "             ('mobil', 4664),\n",
       "             ('mol', 4663),\n",
       "             ('repris', 4662),\n",
       "             ('inflict', 4661),\n",
       "             ('hara', 4660),\n",
       "             ('28', 4659),\n",
       "             ('persuad', 4658),\n",
       "             ('divin', 4657),\n",
       "             ('discern', 4656),\n",
       "             ('bachelor', 4655),\n",
       "             ('instruct', 4654),\n",
       "             ('barn', 4653),\n",
       "             ('neurot', 4652),\n",
       "             ('someday', 4651),\n",
       "             ('scandal', 4650),\n",
       "             ('resum', 4649),\n",
       "             ('vaniti', 4648),\n",
       "             ('carey', 4647),\n",
       "             ('off', 4646),\n",
       "             ('bitten', 4645),\n",
       "             ('deer', 4644),\n",
       "             ('flock', 4643),\n",
       "             ('wield', 4642),\n",
       "             ('ritchi', 4641),\n",
       "             ('danish', 4640),\n",
       "             ('info', 4639),\n",
       "             ('archiv', 4638),\n",
       "             ('95', 4637),\n",
       "             ('brush', 4636),\n",
       "             ('claud', 4635),\n",
       "             ('departur', 4634),\n",
       "             ('triangl', 4633),\n",
       "             ('spinal', 4632),\n",
       "             ('fascist', 4631),\n",
       "             ('rhyme', 4630),\n",
       "             ('harold', 4629),\n",
       "             ('radiat', 4628),\n",
       "             ('preced', 4627),\n",
       "             ('spree', 4626),\n",
       "             ('flashi', 4625),\n",
       "             ('gabl', 4624),\n",
       "             ('mount', 4623),\n",
       "             ('1976', 4622),\n",
       "             ('keen', 4621),\n",
       "             ('proport', 4620),\n",
       "             ('cush', 4619),\n",
       "             ('widescreen', 4618),\n",
       "             ('corman', 4617),\n",
       "             ('schlock', 4616),\n",
       "             ('antagonist', 4615),\n",
       "             ('conquer', 4614),\n",
       "             ('beard', 4613),\n",
       "             ('obligatori', 4612),\n",
       "             ('shield', 4611),\n",
       "             ('margin', 4610),\n",
       "             ('faint', 4609),\n",
       "             ('transplant', 4608),\n",
       "             ('perman', 4607),\n",
       "             ('1981', 4606),\n",
       "             ('naschi', 4605),\n",
       "             ('strongest', 4604),\n",
       "             ('cow', 4603),\n",
       "             ('trivia', 4602),\n",
       "             ('astronaut', 4601),\n",
       "             ('cohen', 4600),\n",
       "             ('gasp', 4599),\n",
       "             ('messi', 4598),\n",
       "             ('assert', 4597),\n",
       "             ('zane', 4596),\n",
       "             ('shred', 4595),\n",
       "             ('dwarf', 4594),\n",
       "             ('frantic', 4593),\n",
       "             ('down', 4592),\n",
       "             ('muscl', 4591),\n",
       "             ('nolt', 4590),\n",
       "             ('flirt', 4589),\n",
       "             ('remad', 4588),\n",
       "             ('mutual', 4587),\n",
       "             ('flag', 4586),\n",
       "             ('joker', 4585),\n",
       "             ('alvin', 4584),\n",
       "             ('cassavet', 4583),\n",
       "             ('salt', 4582),\n",
       "             ('filth', 4581),\n",
       "             ('immatur', 4580),\n",
       "             ('oldest', 4579),\n",
       "             ('spade', 4578),\n",
       "             ('hostag', 4577),\n",
       "             ('sox', 4576),\n",
       "             ('boston', 4575),\n",
       "             ('foolish', 4574),\n",
       "             ('idol', 4573),\n",
       "             ('zoom', 4572),\n",
       "             ('fluff', 4571),\n",
       "             ('corbett', 4570),\n",
       "             ('ebert', 4569),\n",
       "             ('scorses', 4568),\n",
       "             ('surgeri', 4567),\n",
       "             ('dismal', 4566),\n",
       "             ('hooker', 4565),\n",
       "             ('ariel', 4564),\n",
       "             ('hokey', 4563),\n",
       "             ('glorifi', 4562),\n",
       "             ('guin', 4561),\n",
       "             ('contempt', 4560),\n",
       "             ('phenomenon', 4559),\n",
       "             ('amor', 4558),\n",
       "             ('gere', 4557),\n",
       "             ('bent', 4556),\n",
       "             ('camcord', 4555),\n",
       "             ('steer', 4554),\n",
       "             ('tripl', 4553),\n",
       "             ('redund', 4552),\n",
       "             ('intric', 4551),\n",
       "             ('slimi', 4550),\n",
       "             ('dish', 4549),\n",
       "             ('claustrophob', 4548),\n",
       "             ('overlong', 4547),\n",
       "             ('stimul', 4546),\n",
       "             ('macho', 4545),\n",
       "             ('stair', 4544),\n",
       "             ('whore', 4543),\n",
       "             ('sooner', 4542),\n",
       "             ('loi', 4541),\n",
       "             ('suprem', 4540),\n",
       "             ('preachi', 4539),\n",
       "             ('sleepwalk', 4538),\n",
       "             ('73', 4537),\n",
       "             ('candl', 4536),\n",
       "             ('outlaw', 4535),\n",
       "             ('virtu', 4534),\n",
       "             ('housewif', 4533),\n",
       "             ('dandi', 4532),\n",
       "             ('tick', 4531),\n",
       "             ('loath', 4530),\n",
       "             ('headach', 4529),\n",
       "             ('scar', 4528),\n",
       "             ('goof', 4527),\n",
       "             ('fontain', 4526),\n",
       "             ('analyz', 4525),\n",
       "             ('renaiss', 4524),\n",
       "             ('enlist', 4523),\n",
       "             ('harmless', 4522),\n",
       "             ('injur', 4521),\n",
       "             ('dilemma', 4520),\n",
       "             ('uh', 4519),\n",
       "             ('hepburn', 4518),\n",
       "             ('mermaid', 4517),\n",
       "             ('biker', 4516),\n",
       "             ('circu', 4515),\n",
       "             ('taboo', 4514),\n",
       "             ('lester', 4513),\n",
       "             ('insipid', 4512),\n",
       "             ('19', 4511),\n",
       "             ('rome', 4510),\n",
       "             ('viewpoint', 4509),\n",
       "             ('astound', 4508),\n",
       "             ('angst', 4507),\n",
       "             ('mayhem', 4506),\n",
       "             ('trigger', 4505),\n",
       "             ('shatter', 4504),\n",
       "             ('hain', 4503),\n",
       "             ('narrow', 4502),\n",
       "             ('hammi', 4501),\n",
       "             ('despic', 4500),\n",
       "             ('athlet', 4499),\n",
       "             ('sweat', 4498),\n",
       "             ('patricia', 4497),\n",
       "             ('decept', 4496),\n",
       "             ('christin', 4495),\n",
       "             ('effici', 4494),\n",
       "             ('acquaint', 4493),\n",
       "             ('brendan', 4492),\n",
       "             ('martha', 4491),\n",
       "             ('baffl', 4490),\n",
       "             ('bewar', 4489),\n",
       "             ('bounc', 4488),\n",
       "             ('fuel', 4487),\n",
       "             ('clueless', 4486),\n",
       "             ('disastr', 4485),\n",
       "             ('weather', 4484),\n",
       "             ('1969', 4483),\n",
       "             ('bronson', 4482),\n",
       "             ('underworld', 4481),\n",
       "             ('exterior', 4480),\n",
       "             ('kline', 4479),\n",
       "             ('niec', 4478),\n",
       "             ('spontan', 4477),\n",
       "             ('gina', 4476),\n",
       "             ('preming', 4475),\n",
       "             ('heap', 4474),\n",
       "             ('gillian', 4473),\n",
       "             ('oblig', 4472),\n",
       "             ('hk', 4471),\n",
       "             ('1979', 4470),\n",
       "             ('vader', 4469),\n",
       "             ('puppi', 4468),\n",
       "             ('graini', 4467),\n",
       "             ('buzz', 4466),\n",
       "             ('reliabl', 4465),\n",
       "             ('obstacl', 4464),\n",
       "             ('kitti', 4463),\n",
       "             ('kidman', 4462),\n",
       "             ('artsi', 4461),\n",
       "             ('cruelti', 4460),\n",
       "             ('out', 4459),\n",
       "             ('poe', 4458),\n",
       "             ('rosemari', 4457),\n",
       "             ('egg', 4456),\n",
       "             ('moder', 4455),\n",
       "             ('dont', 4454),\n",
       "             ('grin', 4453),\n",
       "             ('carlito', 4452),\n",
       "             ('bye', 4451),\n",
       "             ('tyler', 4450),\n",
       "             ('uncut', 4449),\n",
       "             ('hopelessli', 4448),\n",
       "             ('mytholog', 4447),\n",
       "             ('spiral', 4446),\n",
       "             ('brood', 4445),\n",
       "             ('facil', 4444),\n",
       "             ('setup', 4443),\n",
       "             ('diari', 4442),\n",
       "             ('steadi', 4441),\n",
       "             ('youngest', 4440),\n",
       "             ('unexplain', 4439),\n",
       "             ('characteris', 4438),\n",
       "             ('bean', 4437),\n",
       "             ('enabl', 4436),\n",
       "             ('geni', 4435),\n",
       "             ('nolan', 4434),\n",
       "             ('laurenc', 4433),\n",
       "             ('ratso', 4432),\n",
       "             ('watcher', 4431),\n",
       "             ('sublim', 4430),\n",
       "             ('sassi', 4429),\n",
       "             ('policeman', 4428),\n",
       "             ('missil', 4427),\n",
       "             ('esther', 4426),\n",
       "             ('skeptic', 4425),\n",
       "             ('yearn', 4424),\n",
       "             ('1986', 4423),\n",
       "             ('morbid', 4422),\n",
       "             ('nemesi', 4421),\n",
       "             ('convert', 4420),\n",
       "             ('ace', 4419),\n",
       "             ('lindsay', 4418),\n",
       "             ('entitl', 4417),\n",
       "             ('clan', 4416),\n",
       "             ('duel', 4415),\n",
       "             ('bernard', 4414),\n",
       "             ('moreov', 4413),\n",
       "             ('attenborough', 4412),\n",
       "             ('misguid', 4411),\n",
       "             ('heartfelt', 4410),\n",
       "             ('injuri', 4409),\n",
       "             ('variat', 4408),\n",
       "             ('quaid', 4407),\n",
       "             ('transcend', 4406),\n",
       "             ('cattl', 4405),\n",
       "             ('enthral', 4404),\n",
       "             ('net', 4403),\n",
       "             ('chavez', 4402),\n",
       "             ('wwe', 4401),\n",
       "             ('choppi', 4400),\n",
       "             ('literari', 4399),\n",
       "             ('iv', 4398),\n",
       "             ('ingeni', 4397),\n",
       "             ('secondari', 4396),\n",
       "             ('lectur', 4395),\n",
       "             ('dirt', 4394),\n",
       "             ('curli', 4393),\n",
       "             ('cancer', 4392),\n",
       "             ('abrupt', 4391),\n",
       "             ('entranc', 4390),\n",
       "             ('1939', 4389),\n",
       "             ('hopkin', 4388),\n",
       "             ('75', 4387),\n",
       "             ('straightforward', 4386),\n",
       "             ('en', 4385),\n",
       "             ('brit', 4384),\n",
       "             ('penn', 4383),\n",
       "             ('posey', 4382),\n",
       "             ('naughti', 4381),\n",
       "             ('smell', 4380),\n",
       "             ('grudg', 4379),\n",
       "             ('springer', 4378),\n",
       "             ('leigh', 4377),\n",
       "             ('1989', 4376),\n",
       "             ('ram', 4375),\n",
       "             ('inmat', 4374),\n",
       "             ('worship', 4373),\n",
       "             ('atroc', 4372),\n",
       "             ('chamberlain', 4371),\n",
       "             ('couch', 4370),\n",
       "             ('recogniz', 4369),\n",
       "             ('paxton', 4368),\n",
       "             ('bread', 4367),\n",
       "             ('counterpart', 4366),\n",
       "             ('beverli', 4365),\n",
       "             ('immers', 4364),\n",
       "             ('impos', 4363),\n",
       "             ('minist', 4362),\n",
       "             ('standout', 4361),\n",
       "             ('rub', 4360),\n",
       "             ('tierney', 4359),\n",
       "             ('heist', 4358),\n",
       "             ('teas', 4357),\n",
       "             ('quietli', 4356),\n",
       "             ('prank', 4355),\n",
       "             ('suspicion', 4354),\n",
       "             ('19th', 4353),\n",
       "             ('newcom', 4352),\n",
       "             ('filler', 4351),\n",
       "             ('thunderbird', 4350),\n",
       "             ('stream', 4349),\n",
       "             ('loneli', 4348),\n",
       "             ('lurk', 4347),\n",
       "             ('tomorrow', 4346),\n",
       "             ('hulk', 4345),\n",
       "             ('paradis', 4344),\n",
       "             ('shortcom', 4343),\n",
       "             ('visitor', 4342),\n",
       "             ('paramount', 4341),\n",
       "             ('el', 4340),\n",
       "             ('coaster', 4339),\n",
       "             ('suffici', 4338),\n",
       "             ('weav', 4337),\n",
       "             ('fright', 4336),\n",
       "             ('spice', 4335),\n",
       "             ('globe', 4334),\n",
       "             ('1978', 4333),\n",
       "             ('rumor', 4332),\n",
       "             ('basing', 4331),\n",
       "             ('1988', 4330),\n",
       "             ('amazon', 4329),\n",
       "             ('hackney', 4328),\n",
       "             ('wildli', 4327),\n",
       "             ('minu', 4326),\n",
       "             ('1920', 4325),\n",
       "             ('hungri', 4324),\n",
       "             ('rhythm', 4323),\n",
       "             ('conscienc', 4322),\n",
       "             ('scoop', 4321),\n",
       "             ('financ', 4320),\n",
       "             ('aristocrat', 4319),\n",
       "             ('sung', 4318),\n",
       "             ('elit', 4317),\n",
       "             ('underneath', 4316),\n",
       "             ('tasteless', 4315),\n",
       "             ('wagner', 4314),\n",
       "             ('kolchak', 4313),\n",
       "             ('foxx', 4312),\n",
       "             ('yeti', 4311),\n",
       "             ('feat', 4310),\n",
       "             ('horn', 4309),\n",
       "             ('vet', 4308),\n",
       "             ('ladder', 4307),\n",
       "             ('karl', 4306),\n",
       "             ('22', 4305),\n",
       "             ('delet', 4304),\n",
       "             ('tripe', 4303),\n",
       "             ('rampag', 4302),\n",
       "             ('1936', 4301),\n",
       "             ('arrow', 4300),\n",
       "             ('awhil', 4299),\n",
       "             ('sharon', 4298),\n",
       "             ('rehears', 4297),\n",
       "             ('behaviour', 4296),\n",
       "             ('wrench', 4295),\n",
       "             ('mccoy', 4294),\n",
       "             ('bacon', 4293),\n",
       "             ('pale', 4292),\n",
       "             ('lush', 4291),\n",
       "             ('asylum', 4290),\n",
       "             ('aesthet', 4289),\n",
       "             ('tendenc', 4288),\n",
       "             ('chainsaw', 4287),\n",
       "             ('cap', 4286),\n",
       "             ('rod', 4285),\n",
       "             ('improb', 4284),\n",
       "             ('jodi', 4283),\n",
       "             ('marc', 4282),\n",
       "             ('cigarett', 4281),\n",
       "             ('russia', 4280),\n",
       "             ('invad', 4279),\n",
       "             ('sentinel', 4278),\n",
       "             ('alicia', 4277),\n",
       "             ('gregori', 4276),\n",
       "             ('restrict', 4275),\n",
       "             ('kansa', 4274),\n",
       "             ('sugar', 4273),\n",
       "             ('jacket', 4272),\n",
       "             ('drove', 4271),\n",
       "             ('unexpectedli', 4270),\n",
       "             ('rehash', 4269),\n",
       "             ('delv', 4268),\n",
       "             ('bloom', 4267),\n",
       "             ('inabl', 4266),\n",
       "             ('boyl', 4265),\n",
       "             ('culmin', 4264),\n",
       "             ('palanc', 4263),\n",
       "             ('agenc', 4262),\n",
       "             ('rear', 4261),\n",
       "             ('consciou', 4260),\n",
       "             ('flair', 4259),\n",
       "             ('newman', 4258),\n",
       "             ('connor', 4257),\n",
       "             ('propos', 4256),\n",
       "             ('sniper', 4255),\n",
       "             ('passag', 4254),\n",
       "             ('alley', 4253),\n",
       "             ('vomit', 4252),\n",
       "             ('downey', 4251),\n",
       "             ('lacklust', 4250),\n",
       "             ('liberti', 4249),\n",
       "             ('implic', 4248),\n",
       "             ('phil', 4247),\n",
       "             ('bridget', 4246),\n",
       "             ('legaci', 4245),\n",
       "             ('robber', 4244),\n",
       "             ('shell', 4243),\n",
       "             ('stark', 4242),\n",
       "             ('schedul', 4241),\n",
       "             ('technicolor', 4240),\n",
       "             ('stuart', 4239),\n",
       "             ('scriptwrit', 4238),\n",
       "             ('conscious', 4237),\n",
       "             ('guitar', 4236),\n",
       "             ('bias', 4235),\n",
       "             ('canyon', 4234),\n",
       "             ('pete', 4233),\n",
       "             ('clau', 4232),\n",
       "             ('despis', 4231),\n",
       "             ('preston', 4230),\n",
       "             ('outlin', 4229),\n",
       "             ('isabel', 4228),\n",
       "             ('divid', 4227),\n",
       "             ('tactic', 4226),\n",
       "             ('penni', 4225),\n",
       "             ('critiqu', 4224),\n",
       "             ('runner', 4223),\n",
       "             ('helpless', 4222),\n",
       "             ('preposter', 4221),\n",
       "             ('sweep', 4220),\n",
       "             ('rita', 4219),\n",
       "             ('exhaust', 4218),\n",
       "             ('soup', 4217),\n",
       "             ('fundament', 4216),\n",
       "             ('grief', 4215),\n",
       "             ('squad', 4214),\n",
       "             ('sheet', 4213),\n",
       "             ('shanghai', 4212),\n",
       "             ('vanc', 4211),\n",
       "             ('mode', 4210),\n",
       "             ('logan', 4209),\n",
       "             ('bake', 4208),\n",
       "             ('fought', 4207),\n",
       "             ('darn', 4206),\n",
       "             ('nicola', 4205),\n",
       "             ('tax', 4204),\n",
       "             ('sustain', 4203),\n",
       "             ('hallucin', 4202),\n",
       "             ('joel', 4201),\n",
       "             ('patienc', 4200),\n",
       "             ('slam', 4199),\n",
       "             ('wang', 4198),\n",
       "             ('dreck', 4197),\n",
       "             ('roller', 4196),\n",
       "             ('unfair', 4195),\n",
       "             ('2008', 4194),\n",
       "             ('debt', 4193),\n",
       "             ('crippl', 4192),\n",
       "             ('pocket', 4191),\n",
       "             ('temper', 4190),\n",
       "             ('enforc', 4189),\n",
       "             ('1995', 4188),\n",
       "             ('sand', 4187),\n",
       "             ('sunni', 4186),\n",
       "             ('1971', 4185),\n",
       "             ('wretch', 4184),\n",
       "             ('trait', 4183),\n",
       "             ('3000', 4182),\n",
       "             ('conduct', 4181),\n",
       "             ('murray', 4180),\n",
       "             ('alec', 4179),\n",
       "             ('fabric', 4178),\n",
       "             ('fart', 4177),\n",
       "             ('clerk', 4176),\n",
       "             ('behold', 4175),\n",
       "             ('malon', 4174),\n",
       "             ('seldom', 4173),\n",
       "             ('ritual', 4172),\n",
       "             ('expedit', 4171),\n",
       "             ('accuraci', 4170),\n",
       "             ('anchor', 4169),\n",
       "             ('seal', 4168),\n",
       "             ('deceas', 4167),\n",
       "             ('valid', 4166),\n",
       "             ('deniro', 4165),\n",
       "             ('judgment', 4164),\n",
       "             ('nathan', 4163),\n",
       "             ('click', 4162),\n",
       "             ('primit', 4161),\n",
       "             ('reluct', 4160),\n",
       "             ('austin', 4159),\n",
       "             ('1993', 4158),\n",
       "             ('tarantino', 4157),\n",
       "             ('polici', 4156),\n",
       "             ('uncov', 4155),\n",
       "             ('exclus', 4154),\n",
       "             ('sid', 4153),\n",
       "             ('verbal', 4152),\n",
       "             ('dee', 4151),\n",
       "             ('fog', 4150),\n",
       "             ('wholli', 4149),\n",
       "             ('clash', 4148),\n",
       "             ('correctli', 4147),\n",
       "             ('antonioni', 4146),\n",
       "             ('fenc', 4145),\n",
       "             ('jewel', 4144),\n",
       "             ('furiou', 4143),\n",
       "             ('tech', 4142),\n",
       "             ('unravel', 4141),\n",
       "             ('kumar', 4140),\n",
       "             ('norm', 4139),\n",
       "             ('cloud', 4138),\n",
       "             ('sammi', 4137),\n",
       "             ('warrant', 4136),\n",
       "             ('abomin', 4135),\n",
       "             ('mclaglen', 4134),\n",
       "             ('unseen', 4133),\n",
       "             ('pole', 4132),\n",
       "             ('ustinov', 4131),\n",
       "             ('crawford', 4130),\n",
       "             ('shaki', 4129),\n",
       "             ('femm', 4128),\n",
       "             ('censor', 4127),\n",
       "             ('demis', 4126),\n",
       "             ('darren', 4125),\n",
       "             ('wax', 4124),\n",
       "             ('josh', 4123),\n",
       "             ('ross', 4122),\n",
       "             ('painter', 4121),\n",
       "             ('compromis', 4120),\n",
       "             ('spacey', 4119),\n",
       "             ('businessman', 4118),\n",
       "             ('greg', 4117),\n",
       "             ('1997', 4116),\n",
       "             ('pretens', 4115),\n",
       "             ('shoddi', 4114),\n",
       "             ('meryl', 4113),\n",
       "             ('absent', 4112),\n",
       "             ('stargat', 4111),\n",
       "             ('passabl', 4110),\n",
       "             ('fuller', 4109),\n",
       "             ('unsatisfi', 4108),\n",
       "             ('perceiv', 4107),\n",
       "             ('monoton', 4106),\n",
       "             ('1987', 4105),\n",
       "             ('tacki', 4104),\n",
       "             ('soderbergh', 4103),\n",
       "             ('traumat', 4102),\n",
       "             ('baldwin', 4101),\n",
       "             ('dana', 4100),\n",
       "             ('geek', 4099),\n",
       "             ('delic', 4098),\n",
       "             ('distress', 4097),\n",
       "             ('derang', 4096),\n",
       "             ('sucker', 4095),\n",
       "             ('miyazaki', 4094),\n",
       "             ('reson', 4093),\n",
       "             ('han', 4092),\n",
       "             ('din', 4091),\n",
       "             ('exposit', 4090),\n",
       "             ('fido', 4089),\n",
       "             ('cooki', 4088),\n",
       "             ('stake', 4087),\n",
       "             ('buster', 4086),\n",
       "             ('calib', 4085),\n",
       "             ('bro', 4084),\n",
       "             ('gentleman', 4083),\n",
       "             ('valley', 4082),\n",
       "             ('jan', 4081),\n",
       "             ('quinn', 4080),\n",
       "             ('brenda', 4079),\n",
       "             ('cream', 4078),\n",
       "             ('kurosawa', 4077),\n",
       "             ('1984', 4076),\n",
       "             ('stroke', 4075),\n",
       "             ('perpetu', 4074),\n",
       "             ('empathi', 4073),\n",
       "             ('shootout', 4072),\n",
       "             ('rout', 4071),\n",
       "             ('realm', 4070),\n",
       "             ('sabrina', 4069),\n",
       "             ('crawl', 4068),\n",
       "             ('crow', 4067),\n",
       "             ('wig', 4066),\n",
       "             ('unimagin', 4065),\n",
       "             ('mon', 4064),\n",
       "             ('restrain', 4063),\n",
       "             ('scotland', 4062),\n",
       "             ('travesti', 4061),\n",
       "             ('climat', 4060),\n",
       "             ('regist', 4059),\n",
       "             ('contradict', 4058),\n",
       "             ('represent', 4057),\n",
       "             ('valentin', 4056),\n",
       "             ('petti', 4055),\n",
       "             ('zizek', 4054),\n",
       "             ('nun', 4053),\n",
       "             ('orlean', 4052),\n",
       "             ('peck', 4051),\n",
       "             ('minimum', 4050),\n",
       "             ('cassidi', 4049),\n",
       "             ('championship', 4048),\n",
       "             ('pamela', 4047),\n",
       "             ('spain', 4046),\n",
       "             ('13th', 4045),\n",
       "             ('what', 4044),\n",
       "             ('peril', 4043),\n",
       "             ('sergeant', 4042),\n",
       "             ('campaign', 4041),\n",
       "             ('israel', 4040),\n",
       "             ('drip', 4039),\n",
       "             ('1933', 4038),\n",
       "             ('randomli', 4037),\n",
       "             ('beatl', 4036),\n",
       "             ('iraq', 4035),\n",
       "             ('crown', 4034),\n",
       "             ('gestur', 4033),\n",
       "             ('showdown', 4032),\n",
       "             ('thompson', 4031),\n",
       "             ('angela', 4030),\n",
       "             ('session', 4029),\n",
       "             ('profit', 4028),\n",
       "             ('unleash', 4027),\n",
       "             ('distort', 4026),\n",
       "             ('preserv', 4025),\n",
       "             ('eastern', 4024),\n",
       "             ('ponder', 4023),\n",
       "             ('testament', 4022),\n",
       "             ('coup', 4021),\n",
       "             ('glanc', 4020),\n",
       "             ('simultan', 4019),\n",
       "             ('rukh', 4018),\n",
       "             ('watson', 4017),\n",
       "             ('palac', 4016),\n",
       "             ('warmth', 4015),\n",
       "             ('alison', 4014),\n",
       "             ('mtv', 4013),\n",
       "             ('3d', 4012),\n",
       "             ('greed', 4011),\n",
       "             ('roof', 4010),\n",
       "             ('shove', 4009),\n",
       "             ('enthusiasm', 4008),\n",
       "             ('vital', 4007),\n",
       "             ('unawar', 4006),\n",
       "             ('hay', 4005),\n",
       "             ('exquisit', 4004),\n",
       "             ('firm', 4003),\n",
       "             ('dolph', 4002),\n",
       "             ('novak', 4001),\n",
       "             ('errol', 4000),\n",
       "             ...])"
      ]
     },
     "execution_count": 41,
     "metadata": {},
     "output_type": "execute_result"
    }
   ],
   "source": [
    "# TODO: Use this space to determine the five most frequently appearing words in the training set.\n",
    "from collections import OrderedDict\n",
    "\n",
    "import operator\n",
    "sorted_words = sorted(word_dict.items(), key=operator.itemgetter(1), reverse=True)\n",
    "sorted_word_dict = OrderedDict(sorted_words)\n",
    "sorted_word_dict"
   ]
  },
  {
   "cell_type": "markdown",
   "metadata": {
    "colab_type": "text",
    "id": "lFmAQNwbIAyf"
   },
   "source": [
    "### Save `word_dict`\n",
    "\n",
    "Later on when we construct an endpoint which processes a submitted review we will need to make use of the `word_dict` which we have created. As such, we will save it to a file now for future use."
   ]
  },
  {
   "cell_type": "code",
   "execution_count": 42,
   "metadata": {
    "colab": {},
    "colab_type": "code",
    "id": "aHR6zI3tIAyf"
   },
   "outputs": [],
   "source": [
    "data_dir = '../data/pytorch' # The folder we will use for storing data\n",
    "if not os.path.exists(data_dir): # Make sure that the folder exists\n",
    "    os.makedirs(data_dir)"
   ]
  },
  {
   "cell_type": "code",
   "execution_count": 43,
   "metadata": {
    "colab": {},
    "colab_type": "code",
    "id": "u7vXc2bKIAyh"
   },
   "outputs": [],
   "source": [
    "with open(os.path.join(data_dir, 'word_dict.pkl'), \"wb\") as f:\n",
    "    pickle.dump(word_dict, f)"
   ]
  },
  {
   "cell_type": "markdown",
   "metadata": {
    "colab_type": "text",
    "id": "wGUw03OdIAyk"
   },
   "source": [
    "### Transform the reviews\n",
    "\n",
    "Now that we have our word dictionary which allows us to transform the words appearing in the reviews into integers, it is time to make use of it and convert our reviews to their integer sequence representation, making sure to pad or truncate to a fixed length, which in our case is `500`."
   ]
  },
  {
   "cell_type": "code",
   "execution_count": 44,
   "metadata": {
    "colab": {},
    "colab_type": "code",
    "id": "fPGLv2JVIAyl"
   },
   "outputs": [],
   "source": [
    "def convert_and_pad(word_dict, sentence, pad=500):\n",
    "    NOWORD = 0 # We will use 0 to represent the 'no word' category\n",
    "    INFREQ = 1 # and we use 1 to represent the infrequent words, i.e., words not appearing in word_dict\n",
    "    \n",
    "    working_sentence = [NOWORD] * pad\n",
    "    \n",
    "    for word_index, word in enumerate(sentence[:pad]):\n",
    "        if word in word_dict:\n",
    "            working_sentence[word_index] = word_dict[word]\n",
    "        else:\n",
    "            working_sentence[word_index] = INFREQ\n",
    "            \n",
    "    return working_sentence, min(len(sentence), pad)\n",
    "\n",
    "def convert_and_pad_data(word_dict, data, pad=500):\n",
    "    result = []\n",
    "    lengths = []\n",
    "    \n",
    "    for sentence in data:\n",
    "        converted, leng = convert_and_pad(word_dict, sentence, pad)\n",
    "        result.append(converted)\n",
    "        lengths.append(leng)\n",
    "        \n",
    "    return np.array(result), np.array(lengths)"
   ]
  },
  {
   "cell_type": "code",
   "execution_count": 45,
   "metadata": {
    "colab": {},
    "colab_type": "code",
    "id": "M7gXozvJIAyo"
   },
   "outputs": [],
   "source": [
    "train_X, train_X_len = convert_and_pad_data(word_dict, train_X)\n",
    "test_X, test_X_len = convert_and_pad_data(word_dict, test_X)"
   ]
  },
  {
   "cell_type": "markdown",
   "metadata": {
    "colab_type": "text",
    "id": "NwZ4Cl5BIAyr"
   },
   "source": [
    "As a quick check to make sure that things are working as intended, check to see what one of the reviews in the training set looks like after having been processeed. Does this look reasonable? What is the length of a review in the training set?"
   ]
  },
  {
   "cell_type": "code",
   "execution_count": 46,
   "metadata": {
    "colab": {
     "base_uri": "https://localhost:8080/",
     "height": 646
    },
    "colab_type": "code",
    "id": "On6AW-fIIAys",
    "outputId": "ff8df3f1-f20b-442c-8edb-87266536b8a1"
   },
   "outputs": [
    {
     "name": "stdout",
     "output_type": "stream",
     "text": [
      "500\n",
      "[  16   24    2   13  543  496  288   32    1  823 1506   13  174   47\n",
      "  151 2644    1 2324    1    1  941 2349 1032  446 4095   65   69 1549\n",
      "   82  509 3264   63 1047    1  823 1506 4403  546   40  510 2502 3731\n",
      "  271  823 1323 1032  247    1   60 4172 4436    1    1  139  531  823\n",
      "    1   97  227 2519   76  508  829 2644   87 2315 1032 1323   80  132\n",
      "    1    1    1   16   24   32   27  722  129  365  230    1    1  708\n",
      "  897    1 2503 1805    1    1 4314  763  823 1275    1    1    1   79\n",
      " 2062  823 1506  470  723  510   87   62    2   15   19  177   43 2324\n",
      "    1    1  554  148   32  378  509  508  829   12    3  215   63   10\n",
      "  268    4    1   13  274  496  281   32   60   16   24  221  112 2662\n",
      "  429 1534  215   11    3  443   79    2   11   79  990   25  132  453\n",
      "  289   83    0    0    0    0    0    0    0    0    0    0    0    0\n",
      "    0    0    0    0    0    0    0    0    0    0    0    0    0    0\n",
      "    0    0    0    0    0    0    0    0    0    0    0    0    0    0\n",
      "    0    0    0    0    0    0    0    0    0    0    0    0    0    0\n",
      "    0    0    0    0    0    0    0    0    0    0    0    0    0    0\n",
      "    0    0    0    0    0    0    0    0    0    0    0    0    0    0\n",
      "    0    0    0    0    0    0    0    0    0    0    0    0    0    0\n",
      "    0    0    0    0    0    0    0    0    0    0    0    0    0    0\n",
      "    0    0    0    0    0    0    0    0    0    0    0    0    0    0\n",
      "    0    0    0    0    0    0    0    0    0    0    0    0    0    0\n",
      "    0    0    0    0    0    0    0    0    0    0    0    0    0    0\n",
      "    0    0    0    0    0    0    0    0    0    0    0    0    0    0\n",
      "    0    0    0    0    0    0    0    0    0    0    0    0    0    0\n",
      "    0    0    0    0    0    0    0    0    0    0    0    0    0    0\n",
      "    0    0    0    0    0    0    0    0    0    0    0    0    0    0\n",
      "    0    0    0    0    0    0    0    0    0    0    0    0    0    0\n",
      "    0    0    0    0    0    0    0    0    0    0    0    0    0    0\n",
      "    0    0    0    0    0    0    0    0    0    0    0    0    0    0\n",
      "    0    0    0    0    0    0    0    0    0    0    0    0    0    0\n",
      "    0    0    0    0    0    0    0    0    0    0    0    0    0    0\n",
      "    0    0    0    0    0    0    0    0    0    0    0    0    0    0\n",
      "    0    0    0    0    0    0    0    0    0    0    0    0    0    0\n",
      "    0    0    0    0    0    0    0    0    0    0    0    0    0    0\n",
      "    0    0    0    0    0    0    0    0    0    0    0    0    0    0\n",
      "    0    0    0    0    0    0    0    0    0    0]\n"
     ]
    }
   ],
   "source": [
    "# Use this cell to examine one of the processed reviews to make sure everything is working as intended.\n",
    "print(len(train_X[0]))\n",
    "print(train_X[0])"
   ]
  },
  {
   "cell_type": "markdown",
   "metadata": {
    "colab_type": "text",
    "id": "rxdKBIxdIAyu"
   },
   "source": [
    "**Question:** In the cells above we use the `preprocess_data` and `convert_and_pad_data` methods to process both the training and testing set. Why or why not might this be a problem?"
   ]
  },
  {
   "cell_type": "markdown",
   "metadata": {
    "colab_type": "text",
    "id": "So0elYi3IAyv"
   },
   "source": [
    "**Answer:**\n",
    "It might not cause problem. As both train and test set are to be pre-processed in a similar manner so that the model can deal with them properly. It helps maintain a constant data size while training irrespective of the size of reviews. The caching increases the speed on re-executing, but can be a problem if there's a mistake before. In which case cache has to be deleted first."
   ]
  },
  {
   "cell_type": "markdown",
   "metadata": {
    "colab_type": "text",
    "id": "MSz4qJk9IAyw"
   },
   "source": [
    "## Step 3: Upload the data to S3\n",
    "\n",
    "As in the XGBoost notebook, we will need to upload the training dataset to S3 in order for our training code to access it. For now we will save it locally and we will upload to S3 later on.\n",
    "\n",
    "### Save the processed training dataset locally\n",
    "\n",
    "It is important to note the format of the data that we are saving as we will need to know it when we write the training code. In our case, each row of the dataset has the form `label`, `length`, `review[500]` where `review[500]` is a sequence of `500` integers representing the words in the review."
   ]
  },
  {
   "cell_type": "code",
   "execution_count": 47,
   "metadata": {
    "colab": {},
    "colab_type": "code",
    "id": "favg7G95IAyw"
   },
   "outputs": [],
   "source": [
    "import pandas as pd\n",
    "    \n",
    "pd.concat([pd.DataFrame(train_y), pd.DataFrame(train_X_len), pd.DataFrame(train_X)], axis=1) \\\n",
    "        .to_csv(os.path.join(data_dir, 'train.csv'), header=False, index=False)"
   ]
  },
  {
   "cell_type": "markdown",
   "metadata": {
    "colab_type": "text",
    "id": "PeiucJu7IAyz"
   },
   "source": [
    "### Uploading the training data\n",
    "\n",
    "\n",
    "Next, we need to upload the training data to the SageMaker default S3 bucket so that we can provide access to it while training our model."
   ]
  },
  {
   "cell_type": "code",
   "execution_count": 48,
   "metadata": {
    "colab": {},
    "colab_type": "code",
    "id": "zyxJTJMIIAyz"
   },
   "outputs": [],
   "source": [
    "import sagemaker\n",
    "\n",
    "sagemaker_session = sagemaker.Session()\n",
    "\n",
    "bucket = sagemaker_session.default_bucket()\n",
    "prefix = 'sagemaker/sentiment_rnn'\n",
    "\n",
    "role = sagemaker.get_execution_role()"
   ]
  },
  {
   "cell_type": "code",
   "execution_count": 49,
   "metadata": {
    "colab": {},
    "colab_type": "code",
    "id": "Y5u0TQIuIAy1"
   },
   "outputs": [],
   "source": [
    "input_data = sagemaker_session.upload_data(path=data_dir, bucket=bucket, key_prefix=prefix)"
   ]
  },
  {
   "cell_type": "markdown",
   "metadata": {
    "colab_type": "text",
    "id": "AwVF2V9oIAy3"
   },
   "source": [
    "**NOTE:** The cell above uploads the entire contents of our data directory. This includes the `word_dict.pkl` file. This is fortunate as we will need this later on when we create an endpoint that accepts an arbitrary review. For now, we will just take note of the fact that it resides in the data directory (and so also in the S3 training bucket) and that we will need to make sure it gets saved in the model directory."
   ]
  },
  {
   "cell_type": "markdown",
   "metadata": {
    "colab_type": "text",
    "id": "tHzXpIyIIAy3"
   },
   "source": [
    "## Step 4: Build and Train the PyTorch Model\n",
    "\n",
    "In the XGBoost notebook we discussed what a model is in the SageMaker framework. In particular, a model comprises three objects\n",
    "\n",
    " - Model Artifacts,\n",
    " - Training Code, and\n",
    " - Inference Code,\n",
    " \n",
    "each of which interact with one another. In the XGBoost example we used training and inference code that was provided by Amazon. Here we will still be using containers provided by Amazon with the added benefit of being able to include our own custom code.\n",
    "\n",
    "We will start by implementing our own neural network in PyTorch along with a training script. For the purposes of this project we have provided the necessary model object in the `model.py` file, inside of the `train` folder. You can see the provided implementation by running the cell below."
   ]
  },
  {
   "cell_type": "code",
   "execution_count": 50,
   "metadata": {
    "colab": {},
    "colab_type": "code",
    "id": "jIwUa31pIAy4"
   },
   "outputs": [
    {
     "name": "stdout",
     "output_type": "stream",
     "text": [
      "\u001b[34mimport\u001b[39;49;00m \u001b[04m\u001b[36mtorch.nn\u001b[39;49;00m \u001b[34mas\u001b[39;49;00m \u001b[04m\u001b[36mnn\u001b[39;49;00m\r\n",
      "\r\n",
      "\u001b[34mclass\u001b[39;49;00m \u001b[04m\u001b[32mLSTMClassifier\u001b[39;49;00m(nn.Module):\r\n",
      "    \u001b[33m\"\"\"\u001b[39;49;00m\r\n",
      "\u001b[33m    This is the simple RNN model we will be using to perform Sentiment Analysis.\u001b[39;49;00m\r\n",
      "\u001b[33m    \"\"\"\u001b[39;49;00m\r\n",
      "\r\n",
      "    \u001b[34mdef\u001b[39;49;00m \u001b[32m__init__\u001b[39;49;00m(\u001b[36mself\u001b[39;49;00m, embedding_dim, hidden_dim, vocab_size):\r\n",
      "        \u001b[33m\"\"\"\u001b[39;49;00m\r\n",
      "\u001b[33m        Initialize the model by settingg up the various layers.\u001b[39;49;00m\r\n",
      "\u001b[33m        \"\"\"\u001b[39;49;00m\r\n",
      "        \u001b[36msuper\u001b[39;49;00m(LSTMClassifier, \u001b[36mself\u001b[39;49;00m).\u001b[32m__init__\u001b[39;49;00m()\r\n",
      "\r\n",
      "        \u001b[36mself\u001b[39;49;00m.embedding = nn.Embedding(vocab_size, embedding_dim, padding_idx=\u001b[34m0\u001b[39;49;00m)\r\n",
      "        \u001b[36mself\u001b[39;49;00m.lstm = nn.LSTM(embedding_dim, hidden_dim)\r\n",
      "        \u001b[36mself\u001b[39;49;00m.dense = nn.Linear(in_features=hidden_dim, out_features=\u001b[34m1\u001b[39;49;00m)\r\n",
      "        \u001b[36mself\u001b[39;49;00m.sig = nn.Sigmoid()\r\n",
      "        \r\n",
      "        \u001b[36mself\u001b[39;49;00m.word_dict = \u001b[36mNone\u001b[39;49;00m\r\n",
      "\r\n",
      "    \u001b[34mdef\u001b[39;49;00m \u001b[32mforward\u001b[39;49;00m(\u001b[36mself\u001b[39;49;00m, x):\r\n",
      "        \u001b[33m\"\"\"\u001b[39;49;00m\r\n",
      "\u001b[33m        Perform a forward pass of our model on some input.\u001b[39;49;00m\r\n",
      "\u001b[33m        \"\"\"\u001b[39;49;00m\r\n",
      "        x = x.t()\r\n",
      "        lengths = x[\u001b[34m0\u001b[39;49;00m,:]\r\n",
      "        reviews = x[\u001b[34m1\u001b[39;49;00m:,:]\r\n",
      "        embeds = \u001b[36mself\u001b[39;49;00m.embedding(reviews)\r\n",
      "        lstm_out, _ = \u001b[36mself\u001b[39;49;00m.lstm(embeds)\r\n",
      "        out = \u001b[36mself\u001b[39;49;00m.dense(lstm_out)\r\n",
      "        out = out[lengths - \u001b[34m1\u001b[39;49;00m, \u001b[36mrange\u001b[39;49;00m(\u001b[36mlen\u001b[39;49;00m(lengths))]\r\n",
      "        \u001b[34mreturn\u001b[39;49;00m \u001b[36mself\u001b[39;49;00m.sig(out.squeeze())\r\n"
     ]
    }
   ],
   "source": [
    "!pygmentize train/model.py"
   ]
  },
  {
   "cell_type": "markdown",
   "metadata": {
    "colab_type": "text",
    "id": "8zYgYH85IAy6"
   },
   "source": [
    "The important takeaway from the implementation provided is that there are three parameters that we may wish to tweak to improve the performance of our model. These are the embedding dimension, the hidden dimension and the size of the vocabulary. We will likely want to make these parameters configurable in the training script so that if we wish to modify them we do not need to modify the script itself. We will see how to do this later on. To start we will write some of the training code in the notebook so that we can more easily diagnose any issues that arise.\n",
    "\n",
    "First we will load a small portion of the training data set to use as a sample. It would be very time consuming to try and train the model completely in the notebook as we do not have access to a gpu and the compute instance that we are using is not particularly powerful. However, we can work on a small bit of the data to get a feel for how our training script is behaving."
   ]
  },
  {
   "cell_type": "code",
   "execution_count": 51,
   "metadata": {
    "colab": {},
    "colab_type": "code",
    "id": "8M_FOqGCIAy6"
   },
   "outputs": [],
   "source": [
    "import torch\n",
    "import torch.utils.data\n",
    "\n",
    "# Read in only the first 250 rows\n",
    "train_sample = pd.read_csv(os.path.join(data_dir, 'train.csv'), header=None, names=None, nrows=250)\n",
    "\n",
    "# Turn the input pandas dataframe into tensors\n",
    "train_sample_y = torch.from_numpy(train_sample[[0]].values).float().squeeze()\n",
    "train_sample_X = torch.from_numpy(train_sample.drop([0], axis=1).values).long()\n",
    "\n",
    "# Build the dataset\n",
    "train_sample_ds = torch.utils.data.TensorDataset(train_sample_X, train_sample_y)\n",
    "# Build the dataloader\n",
    "train_sample_dl = torch.utils.data.DataLoader(train_sample_ds, batch_size=50)"
   ]
  },
  {
   "cell_type": "markdown",
   "metadata": {
    "colab_type": "text",
    "id": "IEc5hzL9IAy9"
   },
   "source": [
    "### (TODO) Writing the training method\n",
    "\n",
    "Next we need to write the training code itself. This should be very similar to training methods that you have written before to train PyTorch models. We will leave any difficult aspects such as model saving / loading and parameter loading until a little later."
   ]
  },
  {
   "cell_type": "code",
   "execution_count": 52,
   "metadata": {
    "colab": {},
    "colab_type": "code",
    "id": "zuMyGJDGIAy-"
   },
   "outputs": [],
   "source": [
    "def train(model, train_loader, epochs, optimizer, loss_fn, device):\n",
    "    for epoch in range(1, epochs + 1):\n",
    "        model.train()\n",
    "        total_loss = 0\n",
    "        for batch in train_loader:         \n",
    "            batch_X, batch_y = batch\n",
    "            \n",
    "            batch_X = batch_X.to(device)\n",
    "            batch_y = batch_y.to(device)\n",
    "            \n",
    "            # model.zero_grad()\n",
    "            optimizer.zero_grad()\n",
    "            \n",
    "            # TODO: Complete this train method to train the model provided.\n",
    "            output = model(batch_X)\n",
    "            loss = loss_fn(output, batch_y)\n",
    "            loss.backward()\n",
    "            optimizer.step()\n",
    "            \n",
    "            total_loss += loss.data.item()\n",
    "        print(\"Epoch: {}, BCELoss: {}\".format(epoch, total_loss / len(train_loader)))"
   ]
  },
  {
   "cell_type": "code",
   "execution_count": 53,
   "metadata": {
    "colab": {},
    "colab_type": "code",
    "id": "OtNIKZUuXPHX"
   },
   "outputs": [],
   "source": [
    "device = torch.device(\"cuda\" if torch.cuda.is_available() else \"cpu\")"
   ]
  },
  {
   "cell_type": "markdown",
   "metadata": {
    "colab_type": "text",
    "id": "ZolFZSAdIAzA"
   },
   "source": [
    "Supposing we have the training method above, we will test that it is working by writing a bit of code in the notebook that executes our training method on the small sample training set that we loaded earlier. The reason for doing this in the notebook is so that we have an opportunity to fix any errors that arise early when they are easier to diagnose."
   ]
  },
  {
   "cell_type": "code",
   "execution_count": 54,
   "metadata": {
    "colab": {},
    "colab_type": "code",
    "id": "g6yIHDKaIAzB"
   },
   "outputs": [
    {
     "name": "stdout",
     "output_type": "stream",
     "text": [
      "Epoch: 1, BCELoss: 0.6945636153221131\n",
      "Epoch: 2, BCELoss: 0.6842525720596313\n",
      "Epoch: 3, BCELoss: 0.6755072593688964\n",
      "Epoch: 4, BCELoss: 0.6662299752235412\n",
      "Epoch: 5, BCELoss: 0.6554988265037537\n"
     ]
    }
   ],
   "source": [
    "import torch.optim as optim\n",
    "from train.model import LSTMClassifier\n",
    "\n",
    "device = torch.device(\"cuda\" if torch.cuda.is_available() else \"cpu\")\n",
    "model = LSTMClassifier(32, 100, 5000).to(device)\n",
    "optimizer = optim.Adam(model.parameters())\n",
    "loss_fn = torch.nn.BCELoss()\n",
    "\n",
    "train(model, train_sample_dl, 5, optimizer, loss_fn, device)"
   ]
  },
  {
   "cell_type": "markdown",
   "metadata": {
    "colab_type": "text",
    "id": "n0RWKZvVIAzE"
   },
   "source": [
    "In order to construct a PyTorch model using SageMaker we must provide SageMaker with a training script. We may optionally include a directory which will be copied to the container and from which our training code will be run. When the training container is executed it will check the uploaded directory (if there is one) for a `requirements.txt` file and install any required Python libraries, after which the training script will be run."
   ]
  },
  {
   "cell_type": "markdown",
   "metadata": {
    "colab_type": "text",
    "id": "vXjjt5myIAzF"
   },
   "source": [
    "### (TODO) Training the model\n",
    "\n",
    "When a PyTorch model is constructed in SageMaker, an entry point must be specified. This is the Python file which will be executed when the model is trained. Inside of the `train` directory is a file called `train.py` which has been provided and which contains most of the necessary code to train our model. The only thing that is missing is the implementation of the `train()` method which you wrote earlier in this notebook.\n",
    "\n",
    "**TODO**: Copy the `train()` method written above and paste it into the `train/train.py` file where required.\n",
    "\n",
    "The way that SageMaker passes hyperparameters to the training script is by way of arguments. These arguments can then be parsed and used in the training script. To see how this is done take a look at the provided `train/train.py` file."
   ]
  },
  {
   "cell_type": "code",
   "execution_count": 55,
   "metadata": {
    "colab": {},
    "colab_type": "code",
    "id": "yb8XmgsjIAzF"
   },
   "outputs": [],
   "source": [
    "from sagemaker.pytorch import PyTorch\n",
    "\n",
    "estimator = PyTorch(entry_point=\"train.py\",\n",
    "                    source_dir=\"train\",\n",
    "                    role=role,\n",
    "                    framework_version='0.4.0',\n",
    "                    train_instance_count=1,\n",
    "                    train_instance_type='ml.p2.xlarge',\n",
    "                    hyperparameters={\n",
    "                        'epochs': 10,\n",
    "                        'hidden_dim': 200,\n",
    "                    })"
   ]
  },
  {
   "cell_type": "code",
   "execution_count": 56,
   "metadata": {
    "colab": {},
    "colab_type": "code",
    "id": "Zt5mNKkjIAzH"
   },
   "outputs": [
    {
     "name": "stdout",
     "output_type": "stream",
     "text": [
      "2019-06-22 16:28:56 Starting - Starting the training job......\n",
      "2019-06-22 16:29:30 Starting - Launching requested ML instances......\n",
      "2019-06-22 16:30:28 Starting - Preparing the instances for training......\n",
      "2019-06-22 16:31:33 Downloading - Downloading input data...\n",
      "2019-06-22 16:32:11 Training - Downloading the training image..\n",
      "\u001b[31mbash: cannot set terminal process group (-1): Inappropriate ioctl for device\u001b[0m\n",
      "\u001b[31mbash: no job control in this shell\u001b[0m\n",
      "\u001b[31m2019-06-22 16:32:37,452 sagemaker-containers INFO     Imported framework sagemaker_pytorch_container.training\u001b[0m\n",
      "\u001b[31m2019-06-22 16:32:37,481 sagemaker_pytorch_container.training INFO     Block until all host DNS lookups succeed.\u001b[0m\n",
      "\u001b[31m2019-06-22 16:32:37,486 sagemaker_pytorch_container.training INFO     Invoking user training script.\u001b[0m\n",
      "\u001b[31m2019-06-22 16:32:37,817 sagemaker-containers INFO     Module train does not provide a setup.py. \u001b[0m\n",
      "\u001b[31mGenerating setup.py\u001b[0m\n",
      "\u001b[31m2019-06-22 16:32:37,817 sagemaker-containers INFO     Generating setup.cfg\u001b[0m\n",
      "\u001b[31m2019-06-22 16:32:37,817 sagemaker-containers INFO     Generating MANIFEST.in\u001b[0m\n",
      "\u001b[31m2019-06-22 16:32:37,818 sagemaker-containers INFO     Installing module with the following command:\u001b[0m\n",
      "\u001b[31m/usr/bin/python -m pip install -U . -r requirements.txt\u001b[0m\n",
      "\u001b[31mProcessing /opt/ml/code\u001b[0m\n",
      "\u001b[31mCollecting pandas (from -r requirements.txt (line 1))\n",
      "  Downloading https://files.pythonhosted.org/packages/74/24/0cdbf8907e1e3bc5a8da03345c23cbed7044330bb8f73bb12e711a640a00/pandas-0.24.2-cp35-cp35m-manylinux1_x86_64.whl (10.0MB)\u001b[0m\n",
      "\u001b[31mCollecting numpy (from -r requirements.txt (line 2))\n",
      "  Downloading https://files.pythonhosted.org/packages/bb/ef/d5a21cbc094d3f4d5b5336494dbcc9550b70c766a8345513c7c24ed18418/numpy-1.16.4-cp35-cp35m-manylinux1_x86_64.whl (17.2MB)\u001b[0m\n",
      "\u001b[31mCollecting nltk (from -r requirements.txt (line 3))\n",
      "  Downloading https://files.pythonhosted.org/packages/8d/5d/825889810b85c303c8559a3fd74d451d80cf3585a851f2103e69576bf583/nltk-3.4.3.zip (1.4MB)\u001b[0m\n",
      "\u001b[31mCollecting beautifulsoup4 (from -r requirements.txt (line 4))\n",
      "  Downloading https://files.pythonhosted.org/packages/1d/5d/3260694a59df0ec52f8b4883f5d23b130bc237602a1411fa670eae12351e/beautifulsoup4-4.7.1-py3-none-any.whl (94kB)\u001b[0m\n",
      "\u001b[31mCollecting html5lib (from -r requirements.txt (line 5))\n",
      "  Downloading https://files.pythonhosted.org/packages/a5/62/bbd2be0e7943ec8504b517e62bab011b4946e1258842bc159e5dfde15b96/html5lib-1.0.1-py2.py3-none-any.whl (117kB)\u001b[0m\n",
      "\u001b[31mRequirement already satisfied, skipping upgrade: python-dateutil>=2.5.0 in /usr/local/lib/python3.5/dist-packages (from pandas->-r requirements.txt (line 1)) (2.7.5)\u001b[0m\n",
      "\u001b[31mCollecting pytz>=2011k (from pandas->-r requirements.txt (line 1))\u001b[0m\n",
      "\u001b[31m  Downloading https://files.pythonhosted.org/packages/3d/73/fe30c2daaaa0713420d0382b16fbb761409f532c56bdcc514bf7b6262bb6/pytz-2019.1-py2.py3-none-any.whl (510kB)\u001b[0m\n",
      "\u001b[31mRequirement already satisfied, skipping upgrade: six in /usr/local/lib/python3.5/dist-packages (from nltk->-r requirements.txt (line 3)) (1.11.0)\u001b[0m\n",
      "\u001b[31mCollecting soupsieve>=1.2 (from beautifulsoup4->-r requirements.txt (line 4))\n",
      "  Downloading https://files.pythonhosted.org/packages/b9/a5/7ea40d0f8676bde6e464a6435a48bc5db09b1a8f4f06d41dd997b8f3c616/soupsieve-1.9.1-py2.py3-none-any.whl\u001b[0m\n",
      "\u001b[31mCollecting webencodings (from html5lib->-r requirements.txt (line 5))\n",
      "  Downloading https://files.pythonhosted.org/packages/f4/24/2a3e3df732393fed8b3ebf2ec078f05546de641fe1b667ee316ec1dcf3b7/webencodings-0.5.1-py2.py3-none-any.whl\u001b[0m\n",
      "\u001b[31mBuilding wheels for collected packages: nltk, train\n",
      "  Running setup.py bdist_wheel for nltk: started\u001b[0m\n",
      "\u001b[31m  Running setup.py bdist_wheel for nltk: finished with status 'done'\n",
      "  Stored in directory: /root/.cache/pip/wheels/54/40/b7/c56ad418e6cd4d9e1e594b5e138d1ca6eec11a6ee3d464e5bb\n",
      "  Running setup.py bdist_wheel for train: started\n",
      "  Running setup.py bdist_wheel for train: finished with status 'done'\n",
      "  Stored in directory: /tmp/pip-ephem-wheel-cache-1y94fx8i/wheels/35/24/16/37574d11bf9bde50616c67372a334f94fa8356bc7164af8ca3\u001b[0m\n",
      "\u001b[31mSuccessfully built nltk train\u001b[0m\n",
      "\u001b[31mInstalling collected packages: numpy, pytz, pandas, nltk, soupsieve, beautifulsoup4, webencodings, html5lib, train\n",
      "  Found existing installation: numpy 1.15.4\n",
      "    Uninstalling numpy-1.15.4:\u001b[0m\n",
      "\n",
      "2019-06-22 16:32:37 Training - Training image download completed. Training in progress.\u001b[31m      Successfully uninstalled numpy-1.15.4\u001b[0m\n",
      "\u001b[31mSuccessfully installed beautifulsoup4-4.7.1 html5lib-1.0.1 nltk-3.4.3 numpy-1.16.4 pandas-0.24.2 pytz-2019.1 soupsieve-1.9.1 train-1.0.0 webencodings-0.5.1\u001b[0m\n",
      "\u001b[31mYou are using pip version 18.1, however version 19.1.1 is available.\u001b[0m\n",
      "\u001b[31mYou should consider upgrading via the 'pip install --upgrade pip' command.\u001b[0m\n",
      "\u001b[31m2019-06-22 16:32:49,379 sagemaker-containers INFO     Invoking user script\n",
      "\u001b[0m\n",
      "\u001b[31mTraining Env:\n",
      "\u001b[0m\n",
      "\u001b[31m{\n",
      "    \"additional_framework_parameters\": {},\n",
      "    \"current_host\": \"algo-1\",\n",
      "    \"output_dir\": \"/opt/ml/output\",\n",
      "    \"resource_config\": {\n",
      "        \"hosts\": [\n",
      "            \"algo-1\"\n",
      "        ],\n",
      "        \"current_host\": \"algo-1\",\n",
      "        \"network_interface_name\": \"ethwe\"\n",
      "    },\n",
      "    \"input_dir\": \"/opt/ml/input\",\n",
      "    \"framework_module\": \"sagemaker_pytorch_container.training:main\",\n",
      "    \"module_name\": \"train\",\n",
      "    \"hosts\": [\n",
      "        \"algo-1\"\n",
      "    ],\n",
      "    \"input_config_dir\": \"/opt/ml/input/config\",\n",
      "    \"input_data_config\": {\n",
      "        \"training\": {\n",
      "            \"S3DistributionType\": \"FullyReplicated\",\n",
      "            \"RecordWrapperType\": \"None\",\n",
      "            \"TrainingInputMode\": \"File\"\n",
      "        }\n",
      "    },\n",
      "    \"output_intermediate_dir\": \"/opt/ml/output/intermediate\",\n",
      "    \"module_dir\": \"s3://sagemaker-ap-south-1-430146504183/sagemaker-pytorch-2019-06-22-16-28-55-410/source/sourcedir.tar.gz\",\n",
      "    \"channel_input_dirs\": {\n",
      "        \"training\": \"/opt/ml/input/data/training\"\n",
      "    },\n",
      "    \"log_level\": 20,\n",
      "    \"num_cpus\": 4,\n",
      "    \"job_name\": \"sagemaker-pytorch-2019-06-22-16-28-55-410\",\n",
      "    \"network_interface_name\": \"ethwe\",\n",
      "    \"model_dir\": \"/opt/ml/model\",\n",
      "    \"user_entry_point\": \"train.py\",\n",
      "    \"num_gpus\": 1,\n",
      "    \"output_data_dir\": \"/opt/ml/output/data\",\n",
      "    \"hyperparameters\": {\n",
      "        \"hidden_dim\": 200,\n",
      "        \"epochs\": 10\n",
      "    }\u001b[0m\n",
      "\u001b[31m}\n",
      "\u001b[0m\n",
      "\u001b[31mEnvironment variables:\n",
      "\u001b[0m\n",
      "\u001b[31mSM_INPUT_DIR=/opt/ml/input\u001b[0m\n",
      "\u001b[31mSM_CHANNEL_TRAINING=/opt/ml/input/data/training\u001b[0m\n",
      "\u001b[31mSM_FRAMEWORK_PARAMS={}\u001b[0m\n",
      "\u001b[31mSM_OUTPUT_INTERMEDIATE_DIR=/opt/ml/output/intermediate\u001b[0m\n",
      "\u001b[31mSM_RESOURCE_CONFIG={\"current_host\":\"algo-1\",\"hosts\":[\"algo-1\"],\"network_interface_name\":\"ethwe\"}\u001b[0m\n",
      "\u001b[31mSM_NUM_CPUS=4\u001b[0m\n",
      "\u001b[31mSM_INPUT_DATA_CONFIG={\"training\":{\"RecordWrapperType\":\"None\",\"S3DistributionType\":\"FullyReplicated\",\"TrainingInputMode\":\"File\"}}\u001b[0m\n",
      "\u001b[31mSM_HOSTS=[\"algo-1\"]\u001b[0m\n",
      "\u001b[31mSM_INPUT_CONFIG_DIR=/opt/ml/input/config\u001b[0m\n",
      "\u001b[31mSM_FRAMEWORK_MODULE=sagemaker_pytorch_container.training:main\u001b[0m\n",
      "\u001b[31mSM_HP_EPOCHS=10\u001b[0m\n",
      "\u001b[31mSM_OUTPUT_DATA_DIR=/opt/ml/output/data\u001b[0m\n",
      "\u001b[31mSM_TRAINING_ENV={\"additional_framework_parameters\":{},\"channel_input_dirs\":{\"training\":\"/opt/ml/input/data/training\"},\"current_host\":\"algo-1\",\"framework_module\":\"sagemaker_pytorch_container.training:main\",\"hosts\":[\"algo-1\"],\"hyperparameters\":{\"epochs\":10,\"hidden_dim\":200},\"input_config_dir\":\"/opt/ml/input/config\",\"input_data_config\":{\"training\":{\"RecordWrapperType\":\"None\",\"S3DistributionType\":\"FullyReplicated\",\"TrainingInputMode\":\"File\"}},\"input_dir\":\"/opt/ml/input\",\"job_name\":\"sagemaker-pytorch-2019-06-22-16-28-55-410\",\"log_level\":20,\"model_dir\":\"/opt/ml/model\",\"module_dir\":\"s3://sagemaker-ap-south-1-430146504183/sagemaker-pytorch-2019-06-22-16-28-55-410/source/sourcedir.tar.gz\",\"module_name\":\"train\",\"network_interface_name\":\"ethwe\",\"num_cpus\":4,\"num_gpus\":1,\"output_data_dir\":\"/opt/ml/output/data\",\"output_dir\":\"/opt/ml/output\",\"output_intermediate_dir\":\"/opt/ml/output/intermediate\",\"resource_config\":{\"current_host\":\"algo-1\",\"hosts\":[\"algo-1\"],\"network_interface_name\":\"ethwe\"},\"user_entry_point\":\"train.py\"}\u001b[0m\n",
      "\u001b[31mSM_HPS={\"epochs\":10,\"hidden_dim\":200}\u001b[0m\n",
      "\u001b[31mSM_USER_ARGS=[\"--epochs\",\"10\",\"--hidden_dim\",\"200\"]\u001b[0m\n",
      "\u001b[31mSM_HP_HIDDEN_DIM=200\u001b[0m\n",
      "\u001b[31mPYTHONPATH=/usr/local/bin:/usr/lib/python35.zip:/usr/lib/python3.5:/usr/lib/python3.5/plat-x86_64-linux-gnu:/usr/lib/python3.5/lib-dynload:/usr/local/lib/python3.5/dist-packages:/usr/lib/python3/dist-packages\u001b[0m\n",
      "\u001b[31mSM_MODULE_DIR=s3://sagemaker-ap-south-1-430146504183/sagemaker-pytorch-2019-06-22-16-28-55-410/source/sourcedir.tar.gz\u001b[0m\n",
      "\u001b[31mSM_CURRENT_HOST=algo-1\u001b[0m\n",
      "\u001b[31mSM_LOG_LEVEL=20\u001b[0m\n",
      "\u001b[31mSM_USER_ENTRY_POINT=train.py\u001b[0m\n",
      "\u001b[31mSM_MODULE_NAME=train\u001b[0m\n",
      "\u001b[31mSM_NUM_GPUS=1\u001b[0m\n",
      "\u001b[31mSM_CHANNELS=[\"training\"]\u001b[0m\n",
      "\u001b[31mSM_OUTPUT_DIR=/opt/ml/output\u001b[0m\n",
      "\u001b[31mSM_MODEL_DIR=/opt/ml/model\u001b[0m\n",
      "\u001b[31mSM_NETWORK_INTERFACE_NAME=ethwe\n",
      "\u001b[0m\n",
      "\u001b[31mInvoking script with the following command:\n",
      "\u001b[0m\n",
      "\u001b[31m/usr/bin/python -m train --epochs 10 --hidden_dim 200\n",
      "\n",
      "\u001b[0m\n",
      "\u001b[31mUsing device cuda.\u001b[0m\n",
      "\u001b[31mGet train data loader.\u001b[0m\n"
     ]
    },
    {
     "name": "stdout",
     "output_type": "stream",
     "text": [
      "\u001b[31mModel loaded with embedding_dim 32, hidden_dim 200, vocab_size 5000.\u001b[0m\n",
      "\u001b[31mEpoch: 1, BCELoss: 0.672164397580283\u001b[0m\n",
      "\u001b[31mEpoch: 2, BCELoss: 0.6138019792887629\u001b[0m\n",
      "\u001b[31mEpoch: 3, BCELoss: 0.5258178467653236\u001b[0m\n",
      "\u001b[31mEpoch: 4, BCELoss: 0.4511762620234976\u001b[0m\n",
      "\u001b[31mEpoch: 5, BCELoss: 0.40236591380469655\u001b[0m\n",
      "\u001b[31mEpoch: 6, BCELoss: 0.36060272005139565\u001b[0m\n",
      "\u001b[31mEpoch: 7, BCELoss: 0.35783813376815954\u001b[0m\n",
      "\u001b[31mEpoch: 8, BCELoss: 0.3232365287080103\u001b[0m\n",
      "\u001b[31mEpoch: 9, BCELoss: 0.4859765129429953\u001b[0m\n",
      "\n",
      "2019-06-22 16:35:55 Uploading - Uploading generated training model\n",
      "2019-06-22 16:35:55 Completed - Training job completed\n",
      "\u001b[31mEpoch: 10, BCELoss: 0.46085350367487693\u001b[0m\n",
      "\u001b[31m2019-06-22 16:35:46,500 sagemaker-containers INFO     Reporting training SUCCESS\u001b[0m\n",
      "Billable seconds: 262\n"
     ]
    }
   ],
   "source": [
    "estimator.fit({'training': input_data})"
   ]
  },
  {
   "cell_type": "markdown",
   "metadata": {
    "colab_type": "text",
    "id": "kKcGZlP2IAzJ"
   },
   "source": [
    "## Step 5: Testing the model\n",
    "\n",
    "As mentioned at the top of this notebook, we will be testing this model by first deploying it and then sending the testing data to the deployed endpoint. We will do this so that we can make sure that the deployed model is working correctly.\n",
    "\n",
    "## Step 6: Deploy the model for testing\n",
    "\n",
    "Now that we have trained our model, we would like to test it to see how it performs. Currently our model takes input of the form `review_length, review[500]` where `review[500]` is a sequence of `500` integers which describe the words present in the review, encoded using `word_dict`. Fortunately for us, SageMaker provides built-in inference code for models with simple inputs such as this.\n",
    "\n",
    "There is one thing that we need to provide, however, and that is a function which loads the saved model. This function must be called `model_fn()` and takes as its only parameter a path to the directory where the model artifacts are stored. This function must also be present in the python file which we specified as the entry point. In our case the model loading function has been provided and so no changes need to be made.\n",
    "\n",
    "**NOTE**: When the built-in inference code is run it must import the `model_fn()` method from the `train.py` file. This is why the training code is wrapped in a main guard ( ie, `if __name__ == '__main__':` )\n",
    "\n",
    "Since we don't need to change anything in the code that was uploaded during training, we can simply deploy the current model as-is.\n",
    "\n",
    "**NOTE:** When deploying a model you are asking SageMaker to launch an compute instance that will wait for data to be sent to it. As a result, this compute instance will continue to run until *you* shut it down. This is important to know since the cost of a deployed endpoint depends on how long it has been running for.\n",
    "\n",
    "In other words **If you are no longer using a deployed endpoint, shut it down!**\n",
    "\n",
    "**TODO:** Deploy the trained model."
   ]
  },
  {
   "cell_type": "code",
   "execution_count": 65,
   "metadata": {
    "colab": {},
    "colab_type": "code",
    "id": "1oD_iA_kIAzK"
   },
   "outputs": [
    {
     "name": "stderr",
     "output_type": "stream",
     "text": [
      "Using already existing model: sagemaker-pytorch-2019-06-22-16-28-55-410\n"
     ]
    },
    {
     "name": "stdout",
     "output_type": "stream",
     "text": [
      "--------------------------------------------------------------------------------------!"
     ]
    }
   ],
   "source": [
    "# TODO: Deploy the trained model\n",
    "predictor = estimator.deploy(initial_instance_count=1, instance_type='ml.m4.xlarge')"
   ]
  },
  {
   "cell_type": "markdown",
   "metadata": {
    "colab_type": "text",
    "id": "X_e3AvYvIAzN"
   },
   "source": [
    "## Step 7 - Use the model for testing\n",
    "\n",
    "Once deployed, we can read in the test data and send it off to our deployed model to get some results. Once we collect all of the results we can determine how accurate our model is."
   ]
  },
  {
   "cell_type": "code",
   "execution_count": 66,
   "metadata": {
    "colab": {},
    "colab_type": "code",
    "id": "E_elGzgbIAzO"
   },
   "outputs": [],
   "source": [
    "test_X = pd.concat([pd.DataFrame(test_X_len), pd.DataFrame(test_X)], axis=1)"
   ]
  },
  {
   "cell_type": "code",
   "execution_count": 67,
   "metadata": {
    "colab": {},
    "colab_type": "code",
    "id": "XrjB4h08IAzQ"
   },
   "outputs": [],
   "source": [
    "# We split the data into chunks and send each chunk seperately, accumulating the results.\n",
    "\n",
    "def predict(data, rows=512):\n",
    "    split_array = np.array_split(data, int(data.shape[0] / float(rows) + 1))\n",
    "    predictions = np.array([])\n",
    "    for array in split_array:\n",
    "        predictions = np.append(predictions, predictor.predict(array))\n",
    "    \n",
    "    return predictions"
   ]
  },
  {
   "cell_type": "code",
   "execution_count": 68,
   "metadata": {
    "colab": {},
    "colab_type": "code",
    "id": "IqJcDIpFIAzR"
   },
   "outputs": [],
   "source": [
    "predictions = predict(test_X.values)\n",
    "predictions = [round(num) for num in predictions]"
   ]
  },
  {
   "cell_type": "code",
   "execution_count": 69,
   "metadata": {
    "colab": {},
    "colab_type": "code",
    "id": "ahjCqPj4IAzT"
   },
   "outputs": [
    {
     "data": {
      "text/plain": [
       "0.80216"
      ]
     },
     "execution_count": 69,
     "metadata": {},
     "output_type": "execute_result"
    }
   ],
   "source": [
    "from sklearn.metrics import accuracy_score\n",
    "accuracy_score(test_y, predictions)"
   ]
  },
  {
   "cell_type": "markdown",
   "metadata": {
    "colab_type": "text",
    "id": "DGt8eJwPIAzW"
   },
   "source": [
    "**Question:** How does this model compare to the XGBoost model you created earlier? Why might these two models perform differently on this dataset? Which do *you* think is better for sentiment analysis?"
   ]
  },
  {
   "cell_type": "markdown",
   "metadata": {
    "colab_type": "text",
    "id": "Xw9Ue59tIAzW"
   },
   "source": [
    "**Answer:**\n",
    "- Here, both the models have similar performance. RNN model's performace can be improved on further hyperparameter tuning.\n",
    "\n",
    "- For machine learning models like XGBoost, the order of words are not considered. \n",
    "\n",
    "- I think RNN are better because they can remember previous inputs."
   ]
  },
  {
   "cell_type": "markdown",
   "metadata": {
    "colab_type": "text",
    "id": "wddfwpUCIAzY"
   },
   "source": [
    "### (TODO) More testing\n",
    "\n",
    "We now have a trained model which has been deployed and which we can send processed reviews to and which returns the predicted sentiment. However, ultimately we would like to be able to send our model an unprocessed review. That is, we would like to send the review itself as a string. For example, suppose we wish to send the following review to our model."
   ]
  },
  {
   "cell_type": "code",
   "execution_count": 70,
   "metadata": {
    "colab": {},
    "colab_type": "code",
    "id": "KrYgh3EIIAzZ"
   },
   "outputs": [],
   "source": [
    "test_review = 'The simplest pleasures in life are the best, and this film is one of them. Combining a rather basic storyline of love and adventure this movie transcends the usual weekend fair with wit and unmitigated charm.'"
   ]
  },
  {
   "cell_type": "markdown",
   "metadata": {
    "colab_type": "text",
    "id": "5u-bQHo6IAzc"
   },
   "source": [
    "The question we now need to answer is, how do we send this review to our model?\n",
    "\n",
    "Recall in the first section of this notebook we did a bunch of data processing to the IMDb dataset. In particular, we did two specific things to the provided reviews.\n",
    " - Removed any html tags and stemmed the input\n",
    " - Encoded the review as a sequence of integers using `word_dict`\n",
    " \n",
    "In order process the review we will need to repeat these two steps.\n",
    "\n",
    "**TODO**: Using the `review_to_words` and `convert_and_pad` methods from section one, convert `test_review` into a numpy array `test_data` suitable to send to our model. Remember that our model expects input of the form `review_length, review[500]`."
   ]
  },
  {
   "cell_type": "code",
   "execution_count": 71,
   "metadata": {
    "colab": {},
    "colab_type": "code",
    "id": "UZHkKLRxIAze"
   },
   "outputs": [],
   "source": [
    "# TODO: Convert test_review into a form usable by the model and save the results in test_data\n",
    "test_data = review_to_words(test_review)\n",
    "test_data = [np.array(convert_and_pad(word_dict, test_data)[0])]"
   ]
  },
  {
   "cell_type": "markdown",
   "metadata": {
    "colab_type": "text",
    "id": "mmOD_fZsIAzg"
   },
   "source": [
    "Now that we have processed the review, we can send the resulting array to our model to predict the sentiment of the review."
   ]
  },
  {
   "cell_type": "code",
   "execution_count": 72,
   "metadata": {
    "colab": {},
    "colab_type": "code",
    "id": "Q-6hw6weIAzg"
   },
   "outputs": [
    {
     "data": {
      "text/plain": [
       "array(0.59614193, dtype=float32)"
      ]
     },
     "execution_count": 72,
     "metadata": {},
     "output_type": "execute_result"
    }
   ],
   "source": [
    "predictor.predict(test_data)"
   ]
  },
  {
   "cell_type": "markdown",
   "metadata": {
    "colab_type": "text",
    "id": "80qnaDPRIAzi"
   },
   "source": [
    "Since the return value of our model is close to `1`, we can be certain that the review we submitted is positive."
   ]
  },
  {
   "cell_type": "markdown",
   "metadata": {
    "colab_type": "text",
    "id": "rx5oh8CqIAzi"
   },
   "source": [
    "### Delete the endpoint\n",
    "\n",
    "Of course, just like in the XGBoost notebook, once we've deployed an endpoint it continues to run until we tell it to shut down. Since we are done using our endpoint for now, we can delete it."
   ]
  },
  {
   "cell_type": "code",
   "execution_count": 73,
   "metadata": {
    "colab": {},
    "colab_type": "code",
    "id": "tGbtORIMIAzj"
   },
   "outputs": [],
   "source": [
    "estimator.delete_endpoint()"
   ]
  },
  {
   "cell_type": "markdown",
   "metadata": {
    "colab_type": "text",
    "id": "yS9xZ_ijIAzk"
   },
   "source": [
    "## Step 6 (again) - Deploy the model for the web app\n",
    "\n",
    "Now that we know that our model is working, it's time to create some custom inference code so that we can send the model a review which has not been processed and have it determine the sentiment of the review.\n",
    "\n",
    "As we saw above, by default the estimator which we created, when deployed, will use the entry script and directory which we provided when creating the model. However, since we now wish to accept a string as input and our model expects a processed review, we need to write some custom inference code.\n",
    "\n",
    "We will store the code that we write in the `serve` directory. Provided in this directory is the `model.py` file that we used to construct our model, a `utils.py` file which contains the `review_to_words` and `convert_and_pad` pre-processing functions which we used during the initial data processing, and `predict.py`, the file which will contain our custom inference code. Note also that `requirements.txt` is present which will tell SageMaker what Python libraries are required by our custom inference code.\n",
    "\n",
    "When deploying a PyTorch model in SageMaker, you are expected to provide four functions which the SageMaker inference container will use.\n",
    " - `model_fn`: This function is the same function that we used in the training script and it tells SageMaker how to load our model.\n",
    " - `input_fn`: This function receives the raw serialized input that has been sent to the model's endpoint and its job is to de-serialize and make the input available for the inference code.\n",
    " - `output_fn`: This function takes the output of the inference code and its job is to serialize this output and return it to the caller of the model's endpoint.\n",
    " - `predict_fn`: The heart of the inference script, this is where the actual prediction is done and is the function which you will need to complete.\n",
    "\n",
    "For the simple website that we are constructing during this project, the `input_fn` and `output_fn` methods are relatively straightforward. We only require being able to accept a string as input and we expect to return a single value as output. You might imagine though that in a more complex application the input or output may be image data or some other binary data which would require some effort to serialize.\n",
    "\n",
    "### (TODO) Writing inference code\n",
    "\n",
    "Before writing our custom inference code, we will begin by taking a look at the code which has been provided."
   ]
  },
  {
   "cell_type": "code",
   "execution_count": 74,
   "metadata": {
    "colab": {},
    "colab_type": "code",
    "id": "T9C6hDUMIAzl"
   },
   "outputs": [
    {
     "name": "stdout",
     "output_type": "stream",
     "text": [
      "\u001b[34mimport\u001b[39;49;00m \u001b[04m\u001b[36margparse\u001b[39;49;00m\r\n",
      "\u001b[34mimport\u001b[39;49;00m \u001b[04m\u001b[36mjson\u001b[39;49;00m\r\n",
      "\u001b[34mimport\u001b[39;49;00m \u001b[04m\u001b[36mos\u001b[39;49;00m\r\n",
      "\u001b[34mimport\u001b[39;49;00m \u001b[04m\u001b[36mpickle\u001b[39;49;00m\r\n",
      "\u001b[34mimport\u001b[39;49;00m \u001b[04m\u001b[36msys\u001b[39;49;00m\r\n",
      "\u001b[34mimport\u001b[39;49;00m \u001b[04m\u001b[36msagemaker_containers\u001b[39;49;00m\r\n",
      "\u001b[34mimport\u001b[39;49;00m \u001b[04m\u001b[36mpandas\u001b[39;49;00m \u001b[34mas\u001b[39;49;00m \u001b[04m\u001b[36mpd\u001b[39;49;00m\r\n",
      "\u001b[34mimport\u001b[39;49;00m \u001b[04m\u001b[36mnumpy\u001b[39;49;00m \u001b[34mas\u001b[39;49;00m \u001b[04m\u001b[36mnp\u001b[39;49;00m\r\n",
      "\u001b[34mimport\u001b[39;49;00m \u001b[04m\u001b[36mtorch\u001b[39;49;00m\r\n",
      "\u001b[34mimport\u001b[39;49;00m \u001b[04m\u001b[36mtorch.nn\u001b[39;49;00m \u001b[34mas\u001b[39;49;00m \u001b[04m\u001b[36mnn\u001b[39;49;00m\r\n",
      "\u001b[34mimport\u001b[39;49;00m \u001b[04m\u001b[36mtorch.optim\u001b[39;49;00m \u001b[34mas\u001b[39;49;00m \u001b[04m\u001b[36moptim\u001b[39;49;00m\r\n",
      "\u001b[34mimport\u001b[39;49;00m \u001b[04m\u001b[36mtorch.utils.data\u001b[39;49;00m\r\n",
      "\r\n",
      "\u001b[34mfrom\u001b[39;49;00m \u001b[04m\u001b[36mmodel\u001b[39;49;00m \u001b[34mimport\u001b[39;49;00m LSTMClassifier\r\n",
      "\r\n",
      "\u001b[34mfrom\u001b[39;49;00m \u001b[04m\u001b[36mutils\u001b[39;49;00m \u001b[34mimport\u001b[39;49;00m review_to_words, convert_and_pad\r\n",
      "\r\n",
      "\u001b[34mdef\u001b[39;49;00m \u001b[32mmodel_fn\u001b[39;49;00m(model_dir):\r\n",
      "    \u001b[33m\"\"\"Load the PyTorch model from the `model_dir` directory.\"\"\"\u001b[39;49;00m\r\n",
      "    \u001b[34mprint\u001b[39;49;00m(\u001b[33m\"\u001b[39;49;00m\u001b[33mLoading model.\u001b[39;49;00m\u001b[33m\"\u001b[39;49;00m)\r\n",
      "\r\n",
      "    \u001b[37m# First, load the parameters used to create the model.\u001b[39;49;00m\r\n",
      "    model_info = {}\r\n",
      "    model_info_path = os.path.join(model_dir, \u001b[33m'\u001b[39;49;00m\u001b[33mmodel_info.pth\u001b[39;49;00m\u001b[33m'\u001b[39;49;00m)\r\n",
      "    \u001b[34mwith\u001b[39;49;00m \u001b[36mopen\u001b[39;49;00m(model_info_path, \u001b[33m'\u001b[39;49;00m\u001b[33mrb\u001b[39;49;00m\u001b[33m'\u001b[39;49;00m) \u001b[34mas\u001b[39;49;00m f:\r\n",
      "        model_info = torch.load(f)\r\n",
      "\r\n",
      "    \u001b[34mprint\u001b[39;49;00m(\u001b[33m\"\u001b[39;49;00m\u001b[33mmodel_info: {}\u001b[39;49;00m\u001b[33m\"\u001b[39;49;00m.format(model_info))\r\n",
      "\r\n",
      "    \u001b[37m# Determine the device and construct the model.\u001b[39;49;00m\r\n",
      "    device = torch.device(\u001b[33m\"\u001b[39;49;00m\u001b[33mcuda\u001b[39;49;00m\u001b[33m\"\u001b[39;49;00m \u001b[34mif\u001b[39;49;00m torch.cuda.is_available() \u001b[34melse\u001b[39;49;00m \u001b[33m\"\u001b[39;49;00m\u001b[33mcpu\u001b[39;49;00m\u001b[33m\"\u001b[39;49;00m)\r\n",
      "    model = LSTMClassifier(model_info[\u001b[33m'\u001b[39;49;00m\u001b[33membedding_dim\u001b[39;49;00m\u001b[33m'\u001b[39;49;00m], model_info[\u001b[33m'\u001b[39;49;00m\u001b[33mhidden_dim\u001b[39;49;00m\u001b[33m'\u001b[39;49;00m], model_info[\u001b[33m'\u001b[39;49;00m\u001b[33mvocab_size\u001b[39;49;00m\u001b[33m'\u001b[39;49;00m])\r\n",
      "\r\n",
      "    \u001b[37m# Load the store model parameters.\u001b[39;49;00m\r\n",
      "    model_path = os.path.join(model_dir, \u001b[33m'\u001b[39;49;00m\u001b[33mmodel.pth\u001b[39;49;00m\u001b[33m'\u001b[39;49;00m)\r\n",
      "    \u001b[34mwith\u001b[39;49;00m \u001b[36mopen\u001b[39;49;00m(model_path, \u001b[33m'\u001b[39;49;00m\u001b[33mrb\u001b[39;49;00m\u001b[33m'\u001b[39;49;00m) \u001b[34mas\u001b[39;49;00m f:\r\n",
      "        model.load_state_dict(torch.load(f))\r\n",
      "\r\n",
      "    \u001b[37m# Load the saved word_dict.\u001b[39;49;00m\r\n",
      "    word_dict_path = os.path.join(model_dir, \u001b[33m'\u001b[39;49;00m\u001b[33mword_dict.pkl\u001b[39;49;00m\u001b[33m'\u001b[39;49;00m)\r\n",
      "    \u001b[34mwith\u001b[39;49;00m \u001b[36mopen\u001b[39;49;00m(word_dict_path, \u001b[33m'\u001b[39;49;00m\u001b[33mrb\u001b[39;49;00m\u001b[33m'\u001b[39;49;00m) \u001b[34mas\u001b[39;49;00m f:\r\n",
      "        model.word_dict = pickle.load(f)\r\n",
      "\r\n",
      "    model.to(device).eval()\r\n",
      "\r\n",
      "    \u001b[34mprint\u001b[39;49;00m(\u001b[33m\"\u001b[39;49;00m\u001b[33mDone loading model.\u001b[39;49;00m\u001b[33m\"\u001b[39;49;00m)\r\n",
      "    \u001b[34mreturn\u001b[39;49;00m model\r\n",
      "\r\n",
      "\u001b[34mdef\u001b[39;49;00m \u001b[32minput_fn\u001b[39;49;00m(serialized_input_data, content_type):\r\n",
      "    \u001b[34mprint\u001b[39;49;00m(\u001b[33m'\u001b[39;49;00m\u001b[33mDeserializing the input data.\u001b[39;49;00m\u001b[33m'\u001b[39;49;00m)\r\n",
      "    \u001b[34mif\u001b[39;49;00m content_type == \u001b[33m'\u001b[39;49;00m\u001b[33mtext/plain\u001b[39;49;00m\u001b[33m'\u001b[39;49;00m:\r\n",
      "        data = serialized_input_data.decode(\u001b[33m'\u001b[39;49;00m\u001b[33mutf-8\u001b[39;49;00m\u001b[33m'\u001b[39;49;00m)\r\n",
      "        \u001b[34mreturn\u001b[39;49;00m data\r\n",
      "    \u001b[34mraise\u001b[39;49;00m \u001b[36mException\u001b[39;49;00m(\u001b[33m'\u001b[39;49;00m\u001b[33mRequested unsupported ContentType in content_type: \u001b[39;49;00m\u001b[33m'\u001b[39;49;00m + content_type)\r\n",
      "\r\n",
      "\u001b[34mdef\u001b[39;49;00m \u001b[32moutput_fn\u001b[39;49;00m(prediction_output, accept):\r\n",
      "    \u001b[34mprint\u001b[39;49;00m(\u001b[33m'\u001b[39;49;00m\u001b[33mSerializing the generated output.\u001b[39;49;00m\u001b[33m'\u001b[39;49;00m)\r\n",
      "    \u001b[34mreturn\u001b[39;49;00m \u001b[36mstr\u001b[39;49;00m(prediction_output)\r\n",
      "\r\n",
      "\u001b[34mdef\u001b[39;49;00m \u001b[32mpredict_fn\u001b[39;49;00m(input_data, model):\r\n",
      "    \u001b[34mprint\u001b[39;49;00m(\u001b[33m'\u001b[39;49;00m\u001b[33mInferring sentiment of input data.\u001b[39;49;00m\u001b[33m'\u001b[39;49;00m)\r\n",
      "\r\n",
      "    device = torch.device(\u001b[33m\"\u001b[39;49;00m\u001b[33mcuda\u001b[39;49;00m\u001b[33m\"\u001b[39;49;00m \u001b[34mif\u001b[39;49;00m torch.cuda.is_available() \u001b[34melse\u001b[39;49;00m \u001b[33m\"\u001b[39;49;00m\u001b[33mcpu\u001b[39;49;00m\u001b[33m\"\u001b[39;49;00m)\r\n",
      "    \r\n",
      "    \u001b[34mif\u001b[39;49;00m model.word_dict \u001b[35mis\u001b[39;49;00m \u001b[36mNone\u001b[39;49;00m:\r\n",
      "        \u001b[34mraise\u001b[39;49;00m \u001b[36mException\u001b[39;49;00m(\u001b[33m'\u001b[39;49;00m\u001b[33mModel has not been loaded properly, no word_dict.\u001b[39;49;00m\u001b[33m'\u001b[39;49;00m)\r\n",
      "    \r\n",
      "    \u001b[37m# TODO: Process input_data so that it is ready to be sent to our model.\u001b[39;49;00m\r\n",
      "    \u001b[37m#       You should produce two variables:\u001b[39;49;00m\r\n",
      "    \u001b[37m#         data_X   - A sequence of length 500 which represents the converted review\u001b[39;49;00m\r\n",
      "    \u001b[37m#         data_len - The length of the review\u001b[39;49;00m\r\n",
      "\r\n",
      "    data_X ,data_len = convert_and_pad(model.word_dict, review_to_words(input_data))\r\n",
      "\r\n",
      "    \u001b[37m# Using data_X and data_len we construct an appropriate input tensor. Remember\u001b[39;49;00m\r\n",
      "    \u001b[37m# that our model expects input data of the form 'len, review[500]'.\u001b[39;49;00m\r\n",
      "    data_pack = np.hstack((data_len, data_X))\r\n",
      "    data_pack = data_pack.reshape(\u001b[34m1\u001b[39;49;00m, -\u001b[34m1\u001b[39;49;00m)\r\n",
      "    \r\n",
      "    data = torch.from_numpy(data_pack)\r\n",
      "    data = data.to(device)\r\n",
      "\r\n",
      "    \u001b[37m# Make sure to put the model into evaluation mode\u001b[39;49;00m\r\n",
      "    model.eval()\r\n",
      "\r\n",
      "    \u001b[37m# TODO: Compute the result of applying the model to the input data. The variable `result` should\u001b[39;49;00m\r\n",
      "    \u001b[37m#       be a numpy array which contains a single integer which is either 1 or 0\u001b[39;49;00m\r\n",
      "\r\n",
      "    \u001b[34mwith\u001b[39;49;00m torch.no_grad():\r\n",
      "        output = model.forward(data)\r\n",
      "\r\n",
      "    result = np.round(output.numpy())\r\n",
      "\r\n",
      "    \u001b[34mreturn\u001b[39;49;00m result\r\n"
     ]
    }
   ],
   "source": [
    "!pygmentize serve/predict.py"
   ]
  },
  {
   "cell_type": "markdown",
   "metadata": {
    "colab_type": "text",
    "id": "3FHRf1eXIAzo"
   },
   "source": [
    "As mentioned earlier, the `model_fn` method is the same as the one provided in the training code and the `input_fn` and `output_fn` methods are very simple and your task will be to complete the `predict_fn` method. Make sure that you save the completed file as `predict.py` in the `serve` directory.\n",
    "\n",
    "**TODO**: Complete the `predict_fn()` method in the `serve/predict.py` file."
   ]
  },
  {
   "cell_type": "markdown",
   "metadata": {
    "colab_type": "text",
    "id": "FwrlAEL8IAzo"
   },
   "source": [
    "### Deploying the model\n",
    "\n",
    "Now that the custom inference code has been written, we will create and deploy our model. To begin with, we need to construct a new PyTorchModel object which points to the model artifacts created during training and also points to the inference code that we wish to use. Then we can call the deploy method to launch the deployment container.\n",
    "\n",
    "**NOTE**: The default behaviour for a deployed PyTorch model is to assume that any input passed to the predictor is a `numpy` array. In our case we want to send a string so we need to construct a simple wrapper around the `RealTimePredictor` class to accomodate simple strings. In a more complicated situation you may want to provide a serialization object, for example if you wanted to sent image data."
   ]
  },
  {
   "cell_type": "code",
   "execution_count": 75,
   "metadata": {
    "colab": {},
    "colab_type": "code",
    "id": "mFpiqUs7IAzp"
   },
   "outputs": [
    {
     "name": "stdout",
     "output_type": "stream",
     "text": [
      "--------------------------------------------------------------------------!"
     ]
    }
   ],
   "source": [
    "from sagemaker.predictor import RealTimePredictor\n",
    "from sagemaker.pytorch import PyTorchModel\n",
    "\n",
    "class StringPredictor(RealTimePredictor):\n",
    "    def __init__(self, endpoint_name, sagemaker_session):\n",
    "        super(StringPredictor, self).__init__(endpoint_name, sagemaker_session, content_type='text/plain')\n",
    "\n",
    "model = PyTorchModel(model_data=estimator.model_data,\n",
    "                     role = role,\n",
    "                     framework_version='0.4.0',\n",
    "                     entry_point='predict.py',\n",
    "                     source_dir='serve',\n",
    "                     predictor_cls=StringPredictor)\n",
    "predictor = model.deploy(initial_instance_count=1, instance_type='ml.m4.xlarge')"
   ]
  },
  {
   "cell_type": "markdown",
   "metadata": {
    "colab_type": "text",
    "id": "GU1kXYG1IAzs"
   },
   "source": [
    "### Testing the model\n",
    "\n",
    "Now that we have deployed our model with the custom inference code, we should test to see if everything is working. Here we test our model by loading the first `250` positive and negative reviews and send them to the endpoint, then collect the results. The reason for only sending some of the data is that the amount of time it takes for our model to process the input and then perform inference is quite long and so testing the entire data set would be prohibitive."
   ]
  },
  {
   "cell_type": "code",
   "execution_count": 84,
   "metadata": {
    "colab": {},
    "colab_type": "code",
    "id": "squynj3MIAzs"
   },
   "outputs": [],
   "source": [
    "import glob\n",
    "\n",
    "def test_reviews(data_dir='../data/aclImdb', stop=250):\n",
    "    \n",
    "    results = []\n",
    "    ground = []\n",
    "    \n",
    "    # We make sure to test both positive and negative reviews    \n",
    "    for sentiment in ['pos', 'neg']:\n",
    "        \n",
    "        path = os.path.join(data_dir, 'test', sentiment, '*.txt')\n",
    "        files = glob.glob(path)\n",
    "        \n",
    "        files_read = 0\n",
    "        \n",
    "        print('Starting ', sentiment, ' files')\n",
    "        \n",
    "        # Iterate through the files and send them to the predictor\n",
    "        for f in files:\n",
    "            with open(f) as review:\n",
    "                # First, we store the ground truth (was the review positive or negative)\n",
    "                if sentiment == 'pos':\n",
    "                    ground.append(1)\n",
    "                else:\n",
    "                    ground.append(0)\n",
    "                # Read in the review and convert to 'utf-8' for transmission via HTTP\n",
    "                review_input = review.read().encode('utf-8')\n",
    "                # Send the review to the predictor and store the results\n",
    "                results.append(float(predictor.predict(review_input)))\n",
    "                \n",
    "            # Sending reviews to our endpoint one at a time takes a while so we\n",
    "            # only send a small number of reviews\n",
    "            files_read += 1\n",
    "            if files_read == stop:\n",
    "                break\n",
    "            \n",
    "    return ground, results"
   ]
  },
  {
   "cell_type": "code",
   "execution_count": 85,
   "metadata": {
    "colab": {},
    "colab_type": "code",
    "id": "mmUCcVYYIAzu"
   },
   "outputs": [
    {
     "name": "stdout",
     "output_type": "stream",
     "text": [
      "Starting  pos  files\n",
      "Starting  neg  files\n"
     ]
    }
   ],
   "source": [
    "ground, results = test_reviews()"
   ]
  },
  {
   "cell_type": "code",
   "execution_count": 86,
   "metadata": {
    "colab": {},
    "colab_type": "code",
    "id": "71eou0LjIAzv"
   },
   "outputs": [
    {
     "data": {
      "text/plain": [
       "0.83"
      ]
     },
     "execution_count": 86,
     "metadata": {},
     "output_type": "execute_result"
    }
   ],
   "source": [
    "from sklearn.metrics import accuracy_score\n",
    "accuracy_score(ground, results)"
   ]
  },
  {
   "cell_type": "markdown",
   "metadata": {
    "colab_type": "text",
    "id": "9WBnwCaCIAzw"
   },
   "source": [
    "As an additional test, we can try sending the `test_review` that we looked at earlier."
   ]
  },
  {
   "cell_type": "code",
   "execution_count": 87,
   "metadata": {
    "colab": {},
    "colab_type": "code",
    "id": "AIrmHpkHIAzx"
   },
   "outputs": [
    {
     "data": {
      "text/plain": [
       "b'1.0'"
      ]
     },
     "execution_count": 87,
     "metadata": {},
     "output_type": "execute_result"
    }
   ],
   "source": [
    "predictor.predict(test_review)"
   ]
  },
  {
   "cell_type": "markdown",
   "metadata": {
    "colab_type": "text",
    "id": "yaGdRdXuIAzz"
   },
   "source": [
    "Now that we know our endpoint is working as expected, we can set up the web page that will interact with it. If you don't have time to finish the project now, make sure to skip down to the end of this notebook and shut down your endpoint. You can deploy it again when you come back."
   ]
  },
  {
   "cell_type": "markdown",
   "metadata": {
    "colab_type": "text",
    "id": "Xgy0vncJIAz0"
   },
   "source": [
    "## Step 7 (again): Use the model for the web app\n",
    "\n",
    "> **TODO:** This entire section and the next contain tasks for you to complete, mostly using the AWS console.\n",
    "\n",
    "So far we have been accessing our model endpoint by constructing a predictor object which uses the endpoint and then just using the predictor object to perform inference. What if we wanted to create a web app which accessed our model? The way things are set up currently makes that not possible since in order to access a SageMaker endpoint the app would first have to authenticate with AWS using an IAM role which included access to SageMaker endpoints. However, there is an easier way! We just need to use some additional AWS services.\n",
    "\n",
    "![webapp](Web App Diagram.svg)\n",
    "\n",
    "The diagram above gives an overview of how the various services will work together. On the far right is the model which we trained above and which is deployed using SageMaker. On the far left is our web app that collects a user's movie review, sends it off and expects a positive or negative sentiment in return.\n",
    "\n",
    "In the middle is where some of the magic happens. We will construct a Lambda function, which you can think of as a straightforward Python function that can be executed whenever a specified event occurs. We will give this function permission to send and recieve data from a SageMaker endpoint.\n",
    "\n",
    "Lastly, the method we will use to execute the Lambda function is a new endpoint that we will create using API Gateway. This endpoint will be a url that listens for data to be sent to it. Once it gets some data it will pass that data on to the Lambda function and then return whatever the Lambda function returns. Essentially it will act as an interface that lets our web app communicate with the Lambda function.\n",
    "\n",
    "### Setting up a Lambda function\n",
    "\n",
    "The first thing we are going to do is set up a Lambda function. This Lambda function will be executed whenever our public API has data sent to it. When it is executed it will receive the data, perform any sort of processing that is required, send the data (the review) to the SageMaker endpoint we've created and then return the result.\n",
    "\n",
    "#### Part A: Create an IAM Role for the Lambda function\n",
    "\n",
    "Since we want the Lambda function to call a SageMaker endpoint, we need to make sure that it has permission to do so. To do this, we will construct a role that we can later give the Lambda function.\n",
    "\n",
    "Using the AWS Console, navigate to the **IAM** page and click on **Roles**. Then, click on **Create role**. Make sure that the **AWS service** is the type of trusted entity selected and choose **Lambda** as the service that will use this role, then click **Next: Permissions**.\n",
    "\n",
    "In the search box type `sagemaker` and select the check box next to the **AmazonSageMakerFullAccess** policy. Then, click on **Next: Review**.\n",
    "\n",
    "Lastly, give this role a name. Make sure you use a name that you will remember later on, for example `LambdaSageMakerRole`. Then, click on **Create role**.\n",
    "\n",
    "#### Part B: Create a Lambda function\n",
    "\n",
    "Now it is time to actually create the Lambda function.\n",
    "\n",
    "Using the AWS Console, navigate to the AWS Lambda page and click on **Create a function**. When you get to the next page, make sure that **Author from scratch** is selected. Now, name your Lambda function, using a name that you will remember later on, for example `sentiment_analysis_func`. Make sure that the **Python 3.6** runtime is selected and then choose the role that you created in the previous part. Then, click on **Create Function**.\n",
    "\n",
    "On the next page you will see some information about the Lambda function you've just created. If you scroll down you should see an editor in which you can write the code that will be executed when your Lambda function is triggered. In our example, we will use the code below. \n",
    "\n",
    "```python\n",
    "# We need to use the low-level library to interact with SageMaker since the SageMaker API\n",
    "# is not available natively through Lambda.\n",
    "import boto3\n",
    "\n",
    "def lambda_handler(event, context):\n",
    "\n",
    "    # The SageMaker runtime is what allows us to invoke the endpoint that we've created.\n",
    "    runtime = boto3.Session().client('sagemaker-runtime')\n",
    "\n",
    "    # Now we use the SageMaker runtime to invoke our endpoint, sending the review we were given\n",
    "    response = runtime.invoke_endpoint(EndpointName = '**ENDPOINT NAME HERE**',    # The name of the endpoint we created\n",
    "                                       ContentType = 'text/plain',                 # The data format that is expected\n",
    "                                       Body = event['body'])                       # The actual review\n",
    "\n",
    "    # The response is an HTTP response whose body contains the result of our inference\n",
    "    result = response['Body'].read().decode('utf-8')\n",
    "\n",
    "    return {\n",
    "        'statusCode' : 200,\n",
    "        'headers' : { 'Content-Type' : 'text/plain', 'Access-Control-Allow-Origin' : '*' },\n",
    "        'body' : result\n",
    "    }\n",
    "```\n",
    "\n",
    "Once you have copy and pasted the code above into the Lambda code editor, replace the `**ENDPOINT NAME HERE**` portion with the name of the endpoint that we deployed earlier. You can determine the name of the endpoint using the code cell below."
   ]
  },
  {
   "cell_type": "code",
   "execution_count": 88,
   "metadata": {
    "colab": {},
    "colab_type": "code",
    "id": "0y9UPK2FIAz1"
   },
   "outputs": [
    {
     "data": {
      "text/plain": [
       "'sagemaker-pytorch-2019-06-22-17-29-41-790'"
      ]
     },
     "execution_count": 88,
     "metadata": {},
     "output_type": "execute_result"
    }
   ],
   "source": [
    "predictor.endpoint"
   ]
  },
  {
   "cell_type": "markdown",
   "metadata": {
    "colab_type": "text",
    "id": "gJAZvWjeIAz3"
   },
   "source": [
    "Once you have added the endpoint name to the Lambda function, click on **Save**. Your Lambda function is now up and running. Next we need to create a way for our web app to execute the Lambda function.\n",
    "\n",
    "### Setting up API Gateway\n",
    "\n",
    "Now that our Lambda function is set up, it is time to create a new API using API Gateway that will trigger the Lambda function we have just created.\n",
    "\n",
    "Using AWS Console, navigate to **Amazon API Gateway** and then click on **Get started**.\n",
    "\n",
    "On the next page, make sure that **New API** is selected and give the new api a name, for example, `sentiment_analysis_api`. Then, click on **Create API**.\n",
    "\n",
    "Now we have created an API, however it doesn't currently do anything. What we want it to do is to trigger the Lambda function that we created earlier.\n",
    "\n",
    "Select the **Actions** dropdown menu and click **Create Method**. A new blank method will be created, select its dropdown menu and select **POST**, then click on the check mark beside it.\n",
    "\n",
    "For the integration point, make sure that **Lambda Function** is selected and click on the **Use Lambda Proxy integration**. This option makes sure that the data that is sent to the API is then sent directly to the Lambda function with no processing. It also means that the return value must be a proper response object as it will also not be processed by API Gateway.\n",
    "\n",
    "Type the name of the Lambda function you created earlier into the **Lambda Function** text entry box and then click on **Save**. Click on **OK** in the pop-up box that then appears, giving permission to API Gateway to invoke the Lambda function you created.\n",
    "\n",
    "The last step in creating the API Gateway is to select the **Actions** dropdown and click on **Deploy API**. You will need to create a new Deployment stage and name it anything you like, for example `prod`.\n",
    "\n",
    "You have now successfully set up a public API to access your SageMaker model. Make sure to copy or write down the URL provided to invoke your newly created public API as this will be needed in the next step. This URL can be found at the top of the page, highlighted in blue next to the text **Invoke URL**."
   ]
  },
  {
   "cell_type": "markdown",
   "metadata": {
    "colab_type": "text",
    "id": "Oacc9YgiIAz3"
   },
   "source": [
    "## Step 4: Deploying our web app\n",
    "\n",
    "Now that we have a publicly available API, we can start using it in a web app. For our purposes, we have provided a simple static html file which can make use of the public api you created earlier.\n",
    "\n",
    "In the `website` folder there should be a file called `index.html`. Download the file to your computer and open that file up in a text editor of your choice. There should be a line which contains **\\*\\*REPLACE WITH PUBLIC API URL\\*\\***. Replace this string with the url that you wrote down in the last step and then save the file.\n",
    "\n",
    "Now, if you open `index.html` on your local computer, your browser will behave as a local web server and you can use the provided site to interact with your SageMaker model.\n",
    "\n",
    "If you'd like to go further, you can host this html file anywhere you'd like, for example using github or hosting a static site on Amazon's S3. Once you have done this you can share the link with anyone you'd like and have them play with it too!\n",
    "\n",
    "> **Important Note** In order for the web app to communicate with the SageMaker endpoint, the endpoint has to actually be deployed and running. This means that you are paying for it. Make sure that the endpoint is running when you want to use the web app but that you shut it down when you don't need it, otherwise you will end up with a surprisingly large AWS bill.\n",
    "\n",
    "**TODO:** Make sure that you include the edited `index.html` file in your project submission."
   ]
  },
  {
   "cell_type": "markdown",
   "metadata": {
    "colab_type": "text",
    "id": "Z9b6E1-mIAz4"
   },
   "source": [
    "Now that your web app is working, trying playing around with it and see how well it works.\n",
    "\n",
    "**Question**: Give an example of a review that you entered into your web app. What was the predicted sentiment of your example review?"
   ]
  },
  {
   "cell_type": "markdown",
   "metadata": {
    "colab_type": "text",
    "id": "cov_ibU9IAz4"
   },
   "source": [
    "**Answer:**\n",
    "\n",
    "Example Review: \"I scooped up this title by accident with the Grindhouse Vol. 1 collection of pure Euro-trash movies. But this movie has a nice stamp of approval and should deserve a better transfer than what is out there. Stupednous it is not... satisfying it is! Watching this movie I couldn't help to wonder... how come Sergio Martino didn't make this flick? This has his signature all over it and punctuated by Edwedge Fenech (alas not as well known as she should be but she did get a nice cameo in Hostel II). Double-crosses and triple-crosses underly and cement this film from beginning to end with Lee Van Cleef oozing coolness under pressure from the 1st second. Did this guy have to go to Italy to finally reach his potential or did the studio system let this guy slip through? Besides Lee's more recognizable films, film-goers should try this on for size and see how if Sergio Leone would've lowered his epic scale down on Once Upon a Time in America to half the running time (and 1/4 of the budget) this is what it would've turned out to be like. So refreshing, it should be taken in during the day at home and make it for an couch matinée\"\n",
    "\n",
    "Prediction: NEGATIVE\n",
    "\n",
    "![ss](ss_webapp.png)"
   ]
  },
  {
   "cell_type": "markdown",
   "metadata": {
    "colab_type": "text",
    "id": "5zYdPJM9IAz7"
   },
   "source": [
    "### Delete the endpoint\n",
    "\n",
    "Remember to always shut down your endpoint if you are no longer using it. You are charged for the length of time that the endpoint is running so if you forget and leave it on you could end up with an unexpectedly large bill."
   ]
  },
  {
   "cell_type": "code",
   "execution_count": 89,
   "metadata": {
    "colab": {},
    "colab_type": "code",
    "id": "NXVVYFfcIAz7"
   },
   "outputs": [],
   "source": [
    "predictor.delete_endpoint()"
   ]
  },
  {
   "cell_type": "code",
   "execution_count": null,
   "metadata": {},
   "outputs": [],
   "source": []
  }
 ],
 "metadata": {
  "accelerator": "GPU",
  "colab": {
   "name": "SageMaker Project.ipynb",
   "provenance": [],
   "version": "0.3.2"
  },
  "kernelspec": {
   "display_name": "conda_pytorch_p36",
   "language": "python",
   "name": "conda_pytorch_p36"
  },
  "language_info": {
   "codemirror_mode": {
    "name": "ipython",
    "version": 3
   },
   "file_extension": ".py",
   "mimetype": "text/x-python",
   "name": "python",
   "nbconvert_exporter": "python",
   "pygments_lexer": "ipython3",
   "version": "3.6.5"
  }
 },
 "nbformat": 4,
 "nbformat_minor": 1
}
