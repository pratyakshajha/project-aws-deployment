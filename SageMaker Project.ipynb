{
  "nbformat": 4,
  "nbformat_minor": 0,
  "metadata": {
    "colab": {
      "name": "SageMaker Project.ipynb",
      "version": "0.3.2",
      "provenance": []
    },
    "kernelspec": {
      "name": "python3",
      "display_name": "Python 3"
    },
    "accelerator": "GPU"
  },
  "cells": [
    {
      "cell_type": "markdown",
      "metadata": {
        "id": "0dFlx7LqIAxy",
        "colab_type": "text"
      },
      "source": [
        "# Creating a Sentiment Analysis Web App\n",
        "## Using PyTorch and SageMaker\n",
        "\n",
        "_Deep Learning Nanodegree Program | Deployment_\n",
        "\n",
        "---\n",
        "\n",
        "Now that we have a basic understanding of how SageMaker works we will try to use it to construct a complete project from end to end. Our goal will be to have a simple web page which a user can use to enter a movie review. The web page will then send the review off to our deployed model which will predict the sentiment of the entered review.\n",
        "\n",
        "## Instructions\n",
        "\n",
        "Some template code has already been provided for you, and you will need to implement additional functionality to successfully complete this notebook. You will not need to modify the included code beyond what is requested. Sections that begin with '**TODO**' in the header indicate that you need to complete or implement some portion within them. Instructions will be provided for each section and the specifics of the implementation are marked in the code block with a `# TODO: ...` comment. Please be sure to read the instructions carefully!\n",
        "\n",
        "In addition to implementing code, there will be questions for you to answer which relate to the task and your implementation. Each section where you will answer a question is preceded by a '**Question:**' header. Carefully read each question and provide your answer below the '**Answer:**' header by editing the Markdown cell.\n",
        "\n",
        "> **Note**: Code and Markdown cells can be executed using the **Shift+Enter** keyboard shortcut. In addition, a cell can be edited by typically clicking it (double-click for Markdown cells) or by pressing **Enter** while it is highlighted.\n",
        "\n",
        "## General Outline\n",
        "\n",
        "Recall the general outline for SageMaker projects using a notebook instance.\n",
        "\n",
        "1. Download or otherwise retrieve the data.\n",
        "2. Process / Prepare the data.\n",
        "3. Upload the processed data to S3.\n",
        "4. Train a chosen model.\n",
        "5. Test the trained model (typically using a batch transform job).\n",
        "6. Deploy the trained model.\n",
        "7. Use the deployed model.\n",
        "\n",
        "For this project, you will be following the steps in the general outline with some modifications. \n",
        "\n",
        "First, you will not be testing the model in its own step. You will still be testing the model, however, you will do it by deploying your model and then using the deployed model by sending the test data to it. One of the reasons for doing this is so that you can make sure that your deployed model is working correctly before moving forward.\n",
        "\n",
        "In addition, you will deploy and use your trained model a second time. In the second iteration you will customize the way that your trained model is deployed by including some of your own code. In addition, your newly deployed model will be used in the sentiment analysis web app."
      ]
    },
    {
      "cell_type": "markdown",
      "metadata": {
        "id": "IEroONppIAx0",
        "colab_type": "text"
      },
      "source": [
        "## Step 1: Downloading the data\n",
        "\n",
        "As in the XGBoost in SageMaker notebook, we will be using the [IMDb dataset](http://ai.stanford.edu/~amaas/data/sentiment/)\n",
        "\n",
        "> Maas, Andrew L., et al. [Learning Word Vectors for Sentiment Analysis](http://ai.stanford.edu/~amaas/data/sentiment/). In _Proceedings of the 49th Annual Meeting of the Association for Computational Linguistics: Human Language Technologies_. Association for Computational Linguistics, 2011."
      ]
    },
    {
      "cell_type": "code",
      "metadata": {
        "id": "cBhPjpDXIAx1",
        "colab_type": "code",
        "colab": {
          "base_uri": "https://localhost:8080/",
          "height": 221
        },
        "outputId": "54279881-c463-46da-8f87-496559840352"
      },
      "source": [
        "%mkdir ../data\n",
        "!wget -O ../data/aclImdb_v1.tar.gz http://ai.stanford.edu/~amaas/data/sentiment/aclImdb_v1.tar.gz\n",
        "!tar -zxf ../data/aclImdb_v1.tar.gz -C ../data"
      ],
      "execution_count": 1,
      "outputs": [
        {
          "output_type": "stream",
          "text": [
            "mkdir: cannot create directory ‘../data’: File exists\n",
            "--2019-06-21 13:21:46--  http://ai.stanford.edu/~amaas/data/sentiment/aclImdb_v1.tar.gz\n",
            "Resolving ai.stanford.edu (ai.stanford.edu)... 171.64.68.10\n",
            "Connecting to ai.stanford.edu (ai.stanford.edu)|171.64.68.10|:80... connected.\n",
            "HTTP request sent, awaiting response... 200 OK\n",
            "Length: 84125825 (80M) [application/x-gzip]\n",
            "Saving to: ‘../data/aclImdb_v1.tar.gz’\n",
            "\n",
            "../data/aclImdb_v1. 100%[===================>]  80.23M  22.8MB/s    in 3.5s    \n",
            "\n",
            "2019-06-21 13:21:50 (22.8 MB/s) - ‘../data/aclImdb_v1.tar.gz’ saved [84125825/84125825]\n",
            "\n"
          ],
          "name": "stdout"
        }
      ]
    },
    {
      "cell_type": "markdown",
      "metadata": {
        "id": "DNpfX_4hIAx4",
        "colab_type": "text"
      },
      "source": [
        "## Step 2: Preparing and Processing the data\n",
        "\n",
        "Also, as in the XGBoost notebook, we will be doing some initial data processing. The first few steps are the same as in the XGBoost example. To begin with, we will read in each of the reviews and combine them into a single input structure. Then, we will split the dataset into a training set and a testing set."
      ]
    },
    {
      "cell_type": "code",
      "metadata": {
        "id": "Hff0N3AZIAx4",
        "colab_type": "code",
        "colab": {}
      },
      "source": [
        "import os\n",
        "import glob\n",
        "\n",
        "def read_imdb_data(data_dir='../data/aclImdb'):\n",
        "    data = {}\n",
        "    labels = {}\n",
        "    \n",
        "    for data_type in ['train', 'test']:\n",
        "        data[data_type] = {}\n",
        "        labels[data_type] = {}\n",
        "        \n",
        "        for sentiment in ['pos', 'neg']:\n",
        "            data[data_type][sentiment] = []\n",
        "            labels[data_type][sentiment] = []\n",
        "            \n",
        "            path = os.path.join(data_dir, data_type, sentiment, '*.txt')\n",
        "            files = glob.glob(path)\n",
        "            \n",
        "            for f in files:\n",
        "                with open(f) as review:\n",
        "                    data[data_type][sentiment].append(review.read())\n",
        "                    # Here we represent a positive review by '1' and a negative review by '0'\n",
        "                    labels[data_type][sentiment].append(1 if sentiment == 'pos' else 0)\n",
        "                    \n",
        "            assert len(data[data_type][sentiment]) == len(labels[data_type][sentiment]), \\\n",
        "                    \"{}/{} data size does not match labels size\".format(data_type, sentiment)\n",
        "                \n",
        "    return data, labels"
      ],
      "execution_count": 0,
      "outputs": []
    },
    {
      "cell_type": "code",
      "metadata": {
        "id": "hzm0SnGyIAx6",
        "colab_type": "code",
        "colab": {
          "base_uri": "https://localhost:8080/",
          "height": 34
        },
        "outputId": "0caf5abf-41bd-4e03-f824-2b3d53ef3fe5"
      },
      "source": [
        "data, labels = read_imdb_data()\n",
        "print(\"IMDB reviews: train = {} pos / {} neg, test = {} pos / {} neg\".format(\n",
        "            len(data['train']['pos']), len(data['train']['neg']),\n",
        "            len(data['test']['pos']), len(data['test']['neg'])))"
      ],
      "execution_count": 3,
      "outputs": [
        {
          "output_type": "stream",
          "text": [
            "IMDB reviews: train = 12500 pos / 12500 neg, test = 12500 pos / 12500 neg\n"
          ],
          "name": "stdout"
        }
      ]
    },
    {
      "cell_type": "markdown",
      "metadata": {
        "id": "x2qTtdULIAx9",
        "colab_type": "text"
      },
      "source": [
        "Now that we've read the raw training and testing data from the downloaded dataset, we will combine the positive and negative reviews and shuffle the resulting records."
      ]
    },
    {
      "cell_type": "code",
      "metadata": {
        "id": "ISbczp8uIAx9",
        "colab_type": "code",
        "colab": {}
      },
      "source": [
        "from sklearn.utils import shuffle\n",
        "\n",
        "def prepare_imdb_data(data, labels):\n",
        "    \"\"\"Prepare training and test sets from IMDb movie reviews.\"\"\"\n",
        "    \n",
        "    #Combine positive and negative reviews and labels\n",
        "    data_train = data['train']['pos'] + data['train']['neg']\n",
        "    data_test = data['test']['pos'] + data['test']['neg']\n",
        "    labels_train = labels['train']['pos'] + labels['train']['neg']\n",
        "    labels_test = labels['test']['pos'] + labels['test']['neg']\n",
        "    \n",
        "    #Shuffle reviews and corresponding labels within training and test sets\n",
        "    data_train, labels_train = shuffle(data_train, labels_train)\n",
        "    data_test, labels_test = shuffle(data_test, labels_test)\n",
        "    \n",
        "    # Return a unified training data, test data, training labels, test labets\n",
        "    return data_train, data_test, labels_train, labels_test"
      ],
      "execution_count": 0,
      "outputs": []
    },
    {
      "cell_type": "code",
      "metadata": {
        "id": "aLx-0C3KIAx_",
        "colab_type": "code",
        "colab": {
          "base_uri": "https://localhost:8080/",
          "height": 34
        },
        "outputId": "15e2fc9c-b7b5-46ef-9dcb-ec2b43f3e441"
      },
      "source": [
        "train_X, test_X, train_y, test_y = prepare_imdb_data(data, labels)\n",
        "print(\"IMDb reviews (combined): train = {}, test = {}\".format(len(train_X), len(test_X)))"
      ],
      "execution_count": 5,
      "outputs": [
        {
          "output_type": "stream",
          "text": [
            "IMDb reviews (combined): train = 25000, test = 25000\n"
          ],
          "name": "stdout"
        }
      ]
    },
    {
      "cell_type": "markdown",
      "metadata": {
        "id": "HMUVmFVgIAyB",
        "colab_type": "text"
      },
      "source": [
        "Now that we have our training and testing sets unified and prepared, we should do a quick check and see an example of the data our model will be trained on. This is generally a good idea as it allows you to see how each of the further processing steps affects the reviews and it also ensures that the data has been loaded correctly."
      ]
    },
    {
      "cell_type": "code",
      "metadata": {
        "id": "gfvuhZG2IAyC",
        "colab_type": "code",
        "colab": {
          "base_uri": "https://localhost:8080/",
          "height": 71
        },
        "outputId": "15b08fdf-a111-4d11-f286-dec6693d1477"
      },
      "source": [
        "print(train_X[100])\n",
        "print(train_y[100])"
      ],
      "execution_count": 6,
      "outputs": [
        {
          "output_type": "stream",
          "text": [
            "About the only thing I liked about this film is that there was JUST enough in it to keep me in my seat to the end... I kept thinking that maybe in the NEXT scene things would gel... Alas...<br /><br />Those who like Gus Van Sant's films - especially his later ones - will probably like this. Personally, I find van Sant's films to be dull, pretentious and facile. Well, he was an executive producer for this film, so it is no surprise that the film could almost have been made by him - although personally I actually liked this better than van Sant's latest efforts (e.g. Elephant).<br /><br />Contrary to many here, I did not think the film was difficult to understand or disjointed, I thought that above all it is a film that wishes to portray a certain mood - the mood of an adolescent moving slowly into the adult world - but so slowly that the changes are barely visible if at all. But I feel that the problem with the film is that \"mood\" is not enough... and not only that, but that the mood painted here is, to my mind, incorrectly chosen for the story that is supposedly happening. The dream-like quality, so closely linked to nature, is beautifully captured here, but it is a mood which belongs much more to a much younger child, one who really still does get totally caught up in watching nature unfold (waves on a beach, grasses and flowers, spiders etc). The rhythm of the film reminds me of my summers when I was about eight or nine. There is a LANGUOR to the film that is in opposition to what SHOULD be a very tense time in an adolescent life. When you are caught up in a crush on someone - or being the object of bullying at school - you are anything BUT languorous! There are only two moments that truly worked for me in the film...SPOILERS HERE - first when Logan drops the groceries and his mother throws a bit of a fit. The frustrations of an adult dealing with a klutzy kid - especially with no father present - seemed real to me.<br /><br />The second, and ONLY part of the film with any tension to it, were the scenes where \"Leah\" (Logan's re-creation of himself) phones Rodeo and tries to seduce him into phone-sex. The first reason I liked it is because the person who did the voice-over of \"Leah\" was the most convincing actor in the entire film. (It made me think of Claire Danes from My So-Called Life ...the voice even sounded like Claire.) She and Rodeo had the only scenes that seemed totally believable between the kids. And what I especially liked was the fact that Rodeo only pretended to play along... it was perhaps the best moment in the film as - finally! - we got some character development.<br /><br />All in all, a somewhat misplaced effort... we will have to see what he does in his next film before we can really say much about the director's possible talents. In the meantime, if he can get away from van Sant's influence, it might do him a world of good. Who is this director anyhow - one of van Sant's boy toys?\n",
            "0\n"
          ],
          "name": "stdout"
        }
      ]
    },
    {
      "cell_type": "markdown",
      "metadata": {
        "id": "ERstWob3IAyE",
        "colab_type": "text"
      },
      "source": [
        "The first step in processing the reviews is to make sure that any html tags that appear should be removed. In addition we wish to tokenize our input, that way words such as *entertained* and *entertaining* are considered the same with regard to sentiment analysis."
      ]
    },
    {
      "cell_type": "code",
      "metadata": {
        "id": "GGJd9kkCIAyF",
        "colab_type": "code",
        "colab": {}
      },
      "source": [
        "import nltk\n",
        "from nltk.corpus import stopwords\n",
        "from nltk.stem.porter import *\n",
        "\n",
        "import re\n",
        "from bs4 import BeautifulSoup\n",
        "\n",
        "def review_to_words(review):\n",
        "    nltk.download(\"stopwords\", quiet=True)\n",
        "    stemmer = PorterStemmer()\n",
        "    \n",
        "    text = BeautifulSoup(review, \"html.parser\").get_text() # Remove HTML tags\n",
        "    text = re.sub(r\"[^a-zA-Z0-9]\", \" \", text.lower()) # Convert to lower case\n",
        "    words = text.split() # Split string into words\n",
        "    words = [w for w in words if w not in stopwords.words(\"english\")] # Remove stopwords\n",
        "    words = [PorterStemmer().stem(w) for w in words] # stem\n",
        "    \n",
        "    return words"
      ],
      "execution_count": 0,
      "outputs": []
    },
    {
      "cell_type": "markdown",
      "metadata": {
        "id": "yqJrIaq9IAyH",
        "colab_type": "text"
      },
      "source": [
        "The `review_to_words` method defined above uses `BeautifulSoup` to remove any html tags that appear and uses the `nltk` package to tokenize the reviews. As a check to ensure we know how everything is working, try applying `review_to_words` to one of the reviews in the training set."
      ]
    },
    {
      "cell_type": "code",
      "metadata": {
        "id": "pP32Z3O1IAyJ",
        "colab_type": "code",
        "colab": {
          "base_uri": "https://localhost:8080/",
          "height": 4250
        },
        "outputId": "35498a2d-782d-4527-8676-be5e143f04bb"
      },
      "source": [
        "review_to_words(train_X[100])\n"
      ],
      "execution_count": 8,
      "outputs": [
        {
          "output_type": "execute_result",
          "data": {
            "text/plain": [
              "['thing',\n",
              " 'like',\n",
              " 'film',\n",
              " 'enough',\n",
              " 'keep',\n",
              " 'seat',\n",
              " 'end',\n",
              " 'kept',\n",
              " 'think',\n",
              " 'mayb',\n",
              " 'next',\n",
              " 'scene',\n",
              " 'thing',\n",
              " 'would',\n",
              " 'gel',\n",
              " 'ala',\n",
              " 'like',\n",
              " 'gu',\n",
              " 'van',\n",
              " 'sant',\n",
              " 'film',\n",
              " 'especi',\n",
              " 'later',\n",
              " 'one',\n",
              " 'probabl',\n",
              " 'like',\n",
              " 'person',\n",
              " 'find',\n",
              " 'van',\n",
              " 'sant',\n",
              " 'film',\n",
              " 'dull',\n",
              " 'pretenti',\n",
              " 'facil',\n",
              " 'well',\n",
              " 'execut',\n",
              " 'produc',\n",
              " 'film',\n",
              " 'surpris',\n",
              " 'film',\n",
              " 'could',\n",
              " 'almost',\n",
              " 'made',\n",
              " 'although',\n",
              " 'person',\n",
              " 'actual',\n",
              " 'like',\n",
              " 'better',\n",
              " 'van',\n",
              " 'sant',\n",
              " 'latest',\n",
              " 'effort',\n",
              " 'e',\n",
              " 'g',\n",
              " 'eleph',\n",
              " 'contrari',\n",
              " 'mani',\n",
              " 'think',\n",
              " 'film',\n",
              " 'difficult',\n",
              " 'understand',\n",
              " 'disjoint',\n",
              " 'thought',\n",
              " 'film',\n",
              " 'wish',\n",
              " 'portray',\n",
              " 'certain',\n",
              " 'mood',\n",
              " 'mood',\n",
              " 'adolesc',\n",
              " 'move',\n",
              " 'slowli',\n",
              " 'adult',\n",
              " 'world',\n",
              " 'slowli',\n",
              " 'chang',\n",
              " 'bare',\n",
              " 'visibl',\n",
              " 'feel',\n",
              " 'problem',\n",
              " 'film',\n",
              " 'mood',\n",
              " 'enough',\n",
              " 'mood',\n",
              " 'paint',\n",
              " 'mind',\n",
              " 'incorrectli',\n",
              " 'chosen',\n",
              " 'stori',\n",
              " 'supposedli',\n",
              " 'happen',\n",
              " 'dream',\n",
              " 'like',\n",
              " 'qualiti',\n",
              " 'close',\n",
              " 'link',\n",
              " 'natur',\n",
              " 'beauti',\n",
              " 'captur',\n",
              " 'mood',\n",
              " 'belong',\n",
              " 'much',\n",
              " 'much',\n",
              " 'younger',\n",
              " 'child',\n",
              " 'one',\n",
              " 'realli',\n",
              " 'still',\n",
              " 'get',\n",
              " 'total',\n",
              " 'caught',\n",
              " 'watch',\n",
              " 'natur',\n",
              " 'unfold',\n",
              " 'wave',\n",
              " 'beach',\n",
              " 'grass',\n",
              " 'flower',\n",
              " 'spider',\n",
              " 'etc',\n",
              " 'rhythm',\n",
              " 'film',\n",
              " 'remind',\n",
              " 'summer',\n",
              " 'eight',\n",
              " 'nine',\n",
              " 'languor',\n",
              " 'film',\n",
              " 'opposit',\n",
              " 'tens',\n",
              " 'time',\n",
              " 'adolesc',\n",
              " 'life',\n",
              " 'caught',\n",
              " 'crush',\n",
              " 'someon',\n",
              " 'object',\n",
              " 'bulli',\n",
              " 'school',\n",
              " 'anyth',\n",
              " 'languor',\n",
              " 'two',\n",
              " 'moment',\n",
              " 'truli',\n",
              " 'work',\n",
              " 'film',\n",
              " 'spoiler',\n",
              " 'first',\n",
              " 'logan',\n",
              " 'drop',\n",
              " 'groceri',\n",
              " 'mother',\n",
              " 'throw',\n",
              " 'bit',\n",
              " 'fit',\n",
              " 'frustrat',\n",
              " 'adult',\n",
              " 'deal',\n",
              " 'klutzi',\n",
              " 'kid',\n",
              " 'especi',\n",
              " 'father',\n",
              " 'present',\n",
              " 'seem',\n",
              " 'real',\n",
              " 'second',\n",
              " 'part',\n",
              " 'film',\n",
              " 'tension',\n",
              " 'scene',\n",
              " 'leah',\n",
              " 'logan',\n",
              " 'creation',\n",
              " 'phone',\n",
              " 'rodeo',\n",
              " 'tri',\n",
              " 'seduc',\n",
              " 'phone',\n",
              " 'sex',\n",
              " 'first',\n",
              " 'reason',\n",
              " 'like',\n",
              " 'person',\n",
              " 'voic',\n",
              " 'leah',\n",
              " 'convinc',\n",
              " 'actor',\n",
              " 'entir',\n",
              " 'film',\n",
              " 'made',\n",
              " 'think',\n",
              " 'clair',\n",
              " 'dane',\n",
              " 'call',\n",
              " 'life',\n",
              " 'voic',\n",
              " 'even',\n",
              " 'sound',\n",
              " 'like',\n",
              " 'clair',\n",
              " 'rodeo',\n",
              " 'scene',\n",
              " 'seem',\n",
              " 'total',\n",
              " 'believ',\n",
              " 'kid',\n",
              " 'especi',\n",
              " 'like',\n",
              " 'fact',\n",
              " 'rodeo',\n",
              " 'pretend',\n",
              " 'play',\n",
              " 'along',\n",
              " 'perhap',\n",
              " 'best',\n",
              " 'moment',\n",
              " 'film',\n",
              " 'final',\n",
              " 'got',\n",
              " 'charact',\n",
              " 'develop',\n",
              " 'somewhat',\n",
              " 'misplac',\n",
              " 'effort',\n",
              " 'see',\n",
              " 'next',\n",
              " 'film',\n",
              " 'realli',\n",
              " 'say',\n",
              " 'much',\n",
              " 'director',\n",
              " 'possibl',\n",
              " 'talent',\n",
              " 'meantim',\n",
              " 'get',\n",
              " 'away',\n",
              " 'van',\n",
              " 'sant',\n",
              " 'influenc',\n",
              " 'might',\n",
              " 'world',\n",
              " 'good',\n",
              " 'director',\n",
              " 'anyhow',\n",
              " 'one',\n",
              " 'van',\n",
              " 'sant',\n",
              " 'boy',\n",
              " 'toy']"
            ]
          },
          "metadata": {
            "tags": []
          },
          "execution_count": 8
        }
      ]
    },
    {
      "cell_type": "markdown",
      "metadata": {
        "id": "-vqW0KmtIAyO",
        "colab_type": "text"
      },
      "source": [
        "**Question:** Above we mentioned that `review_to_words` method removes html formatting and allows us to tokenize the words found in a review, for example, converting *entertained* and *entertaining* into *entertain* so that they are treated as though they are the same word. What else, if anything, does this method do to the input?"
      ]
    },
    {
      "cell_type": "markdown",
      "metadata": {
        "id": "0WAq7CQ2IAyP",
        "colab_type": "text"
      },
      "source": [
        "**Answer:**\n",
        "\n",
        "Apart from reducing other word forms, review_to_words also:\n",
        "- Removes any of the HTML tags.\n",
        "- Turns all words to lower case.\n",
        "- Removes stopwords using nltk library"
      ]
    },
    {
      "cell_type": "markdown",
      "metadata": {
        "id": "hayaNDLjIAyQ",
        "colab_type": "text"
      },
      "source": [
        "The method below applies the `review_to_words` method to each of the reviews in the training and testing datasets. In addition it caches the results. This is because performing this processing step can take a long time. This way if you are unable to complete the notebook in the current session, you can come back without needing to process the data a second time."
      ]
    },
    {
      "cell_type": "code",
      "metadata": {
        "id": "9O5FYNDJIAyR",
        "colab_type": "code",
        "colab": {}
      },
      "source": [
        "import pickle\n",
        "\n",
        "cache_dir = os.path.join(\"../cache\", \"sentiment_analysis\")  # where to store cache files\n",
        "os.makedirs(cache_dir, exist_ok=True)  # ensure cache directory exists\n",
        "\n",
        "def preprocess_data(data_train, data_test, labels_train, labels_test,\n",
        "                    cache_dir=cache_dir, cache_file=\"preprocessed_data.pkl\"):\n",
        "    \"\"\"Convert each review to words; read from cache if available.\"\"\"\n",
        "\n",
        "    # If cache_file is not None, try to read from it first\n",
        "    cache_data = None\n",
        "    if cache_file is not None:\n",
        "        try:\n",
        "            with open(os.path.join(cache_dir, cache_file), \"rb\") as f:\n",
        "                cache_data = pickle.load(f)\n",
        "            print(\"Read preprocessed data from cache file:\", cache_file)\n",
        "        except:\n",
        "            pass  # unable to read from cache, but that's okay\n",
        "    \n",
        "    # If cache is missing, then do the heavy lifting\n",
        "    if cache_data is None:\n",
        "        # Preprocess training and test data to obtain words for each review\n",
        "        #words_train = list(map(review_to_words, data_train))\n",
        "        #words_test = list(map(review_to_words, data_test))\n",
        "        words_train = [review_to_words(review) for review in data_train]\n",
        "        words_test = [review_to_words(review) for review in data_test]\n",
        "        \n",
        "        # Write to cache file for future runs\n",
        "        if cache_file is not None:\n",
        "            cache_data = dict(words_train=words_train, words_test=words_test,\n",
        "                              labels_train=labels_train, labels_test=labels_test)\n",
        "            with open(os.path.join(cache_dir, cache_file), \"wb\") as f:\n",
        "                pickle.dump(cache_data, f)\n",
        "            print(\"Wrote preprocessed data to cache file:\", cache_file)\n",
        "    else:\n",
        "        # Unpack data loaded from cache file\n",
        "        words_train, words_test, labels_train, labels_test = (cache_data['words_train'],\n",
        "                cache_data['words_test'], cache_data['labels_train'], cache_data['labels_test'])\n",
        "    \n",
        "    return words_train, words_test, labels_train, labels_test"
      ],
      "execution_count": 0,
      "outputs": []
    },
    {
      "cell_type": "code",
      "metadata": {
        "id": "OkoO3w8DIAyU",
        "colab_type": "code",
        "colab": {
          "base_uri": "https://localhost:8080/",
          "height": 34
        },
        "outputId": "96c2680b-8875-4de6-b240-35d09f650cd0"
      },
      "source": [
        "### Sample of total data, replace in sagemaker\n",
        "\n",
        "# Preprocess data\n",
        "train_X, test_X, train_y, test_y = preprocess_data(train_X[:1000], test_X[:1000], train_y[:1000], test_y[:1000])"
      ],
      "execution_count": 10,
      "outputs": [
        {
          "output_type": "stream",
          "text": [
            "Wrote preprocessed data to cache file: preprocessed_data.pkl\n"
          ],
          "name": "stdout"
        }
      ]
    },
    {
      "cell_type": "markdown",
      "metadata": {
        "id": "_j3VZ5OwIAyW",
        "colab_type": "text"
      },
      "source": [
        "## Transform the data\n",
        "\n",
        "In the XGBoost notebook we transformed the data from its word representation to a bag-of-words feature representation. For the model we are going to construct in this notebook we will construct a feature representation which is very similar. To start, we will represent each word as an integer. Of course, some of the words that appear in the reviews occur very infrequently and so likely don't contain much information for the purposes of sentiment analysis. The way we will deal with this problem is that we will fix the size of our working vocabulary and we will only include the words that appear most frequently. We will then combine all of the infrequent words into a single category and, in our case, we will label it as `1`.\n",
        "\n",
        "Since we will be using a recurrent neural network, it will be convenient if the length of each review is the same. To do this, we will fix a size for our reviews and then pad short reviews with the category 'no word' (which we will label `0`) and truncate long reviews."
      ]
    },
    {
      "cell_type": "markdown",
      "metadata": {
        "id": "wp0ucXslIAyX",
        "colab_type": "text"
      },
      "source": [
        "### (TODO) Create a word dictionary\n",
        "\n",
        "To begin with, we need to construct a way to map words that appear in the reviews to integers. Here we fix the size of our vocabulary (including the 'no word' and 'infrequent' categories) to be `5000` but you may wish to change this to see how it affects the model.\n",
        "\n",
        "> **TODO:** Complete the implementation for the `build_dict()` method below. Note that even though the vocab_size is set to `5000`, we only want to construct a mapping for the most frequently appearing `4998` words. This is because we want to reserve the special labels `0` for 'no word' and `1` for 'infrequent word'."
      ]
    },
    {
      "cell_type": "code",
      "metadata": {
        "id": "Rd4-kzgGIAyX",
        "colab_type": "code",
        "colab": {}
      },
      "source": [
        "import numpy as np\n",
        "import re\n",
        "from collections import Counter\n",
        "\n",
        "def build_dict(data, vocab_size = 5000):\n",
        "    \"\"\"Construct and return a dictionary mapping each of the most frequently appearing words to a unique integer.\"\"\"\n",
        "    \n",
        "    # TODO: Determine how often each word appears in `data`. Note that `data` is a list of sentences and that a\n",
        "    #       sentence is a list of words.\n",
        "    \n",
        "    word_count = Counter(np.concatenate( data, axis=0 ))\n",
        "    # A dict storing the words that appear in the reviews along with how often they occur\n",
        "    \n",
        "    # TODO: Sort the words found in `data` so that sorted_words[0] is the most frequently appearing word and\n",
        "    #       sorted_words[-1] is the least frequently appearing word.\n",
        "    \n",
        "    sorted_words = sorted(word_count, key=word_count.get, reverse=True)\n",
        "    \n",
        "    word_dict = {} # This is what we are building, a dictionary that translates words into integers\n",
        "    for idx, word in enumerate(sorted_words[:vocab_size - 2]): # The -2 is so that we save room for the 'no word'\n",
        "        word_dict[word] = idx + 2                              # 'infrequent' labels\n",
        "        \n",
        "    return word_dict"
      ],
      "execution_count": 0,
      "outputs": []
    },
    {
      "cell_type": "code",
      "metadata": {
        "id": "8-BWkylFIAya",
        "colab_type": "code",
        "colab": {}
      },
      "source": [
        "word_dict = build_dict(train_X)"
      ],
      "execution_count": 0,
      "outputs": []
    },
    {
      "cell_type": "markdown",
      "metadata": {
        "id": "8CJBxAHqIAyc",
        "colab_type": "text"
      },
      "source": [
        "**Question:** What are the five most frequently appearing (tokenized) words in the training set? Does it makes sense that these words appear frequently in the training set?"
      ]
    },
    {
      "cell_type": "markdown",
      "metadata": {
        "id": "UA0iaXZlIAyc",
        "colab_type": "text"
      },
      "source": [
        "**Answer:**\n",
        "\n",
        "UPDATE IN SAGEMAKER"
      ]
    },
    {
      "cell_type": "code",
      "metadata": {
        "id": "GkAKEFERQxr4",
        "colab_type": "code",
        "colab": {
          "base_uri": "https://localhost:8080/",
          "height": 17034
        },
        "outputId": "85fa0dcc-b860-4c64-ef2d-8b4d416997d8"
      },
      "source": [
        "# TODO: Use this space to determine the five most frequently appearing words in the training set.\n",
        "from collections import OrderedDict\n",
        "\n",
        "import operator\n",
        "sorted_words = sorted(word_dict.items(), key=operator.itemgetter(1), reverse=True)\n",
        "sorted_word_dict = OrderedDict(sorted_words)\n",
        "sorted_word_dict"
      ],
      "execution_count": 27,
      "outputs": [
        {
          "output_type": "execute_result",
          "data": {
            "text/plain": [
              "OrderedDict([('olympia', 4999),\n",
              "             ('tender', 4998),\n",
              "             ('curli', 4997),\n",
              "             ('foundat', 4996),\n",
              "             ('pandora', 4995),\n",
              "             ('renoir', 4994),\n",
              "             ('nana', 4993),\n",
              "             ('poke', 4992),\n",
              "             ('clees', 4991),\n",
              "             ('dunst', 4990),\n",
              "             ('phenomen', 4989),\n",
              "             ('dc', 4988),\n",
              "             ('pecker', 4987),\n",
              "             ('frontal', 4986),\n",
              "             ('inflict', 4985),\n",
              "             ('acid', 4984),\n",
              "             ('humili', 4983),\n",
              "             ('chalk', 4982),\n",
              "             ('recip', 4981),\n",
              "             ('hogan', 4980),\n",
              "             ('freeman', 4979),\n",
              "             ('cassandra', 4978),\n",
              "             ('revolt', 4977),\n",
              "             ('todd', 4976),\n",
              "             ('legaci', 4975),\n",
              "             ('lanki', 4974),\n",
              "             ('shrill', 4973),\n",
              "             ('dissolv', 4972),\n",
              "             ('bent', 4971),\n",
              "             ('wrest', 4970),\n",
              "             ('shue', 4969),\n",
              "             ('spark', 4968),\n",
              "             ('pattern', 4967),\n",
              "             ('wagner', 4966),\n",
              "             ('1998', 4965),\n",
              "             ('senior', 4964),\n",
              "             ('tattoo', 4963),\n",
              "             ('twister', 4962),\n",
              "             ('hallmark', 4961),\n",
              "             ('dumber', 4960),\n",
              "             ('disgrac', 4959),\n",
              "             ('penguin', 4958),\n",
              "             ('goodby', 4957),\n",
              "             ('hayward', 4956),\n",
              "             ('hussey', 4955),\n",
              "             ('exorcist', 4954),\n",
              "             ('fant', 4953),\n",
              "             ('anni', 4952),\n",
              "             ('collin', 4951),\n",
              "             ('angelica', 4950),\n",
              "             ('huston', 4949),\n",
              "             ('quinn', 4948),\n",
              "             ('jet', 4947),\n",
              "             ('ballad', 4946),\n",
              "             ('burlesqu', 4945),\n",
              "             ('yahoo', 4944),\n",
              "             ('thick', 4943),\n",
              "             ('serl', 4942),\n",
              "             ('nightmarish', 4941),\n",
              "             ('nicola', 4940),\n",
              "             ('mafioso', 4939),\n",
              "             ('dessert', 4938),\n",
              "             ('calm', 4937),\n",
              "             ('rehears', 4936),\n",
              "             ('greg', 4935),\n",
              "             ('bogard', 4934),\n",
              "             ('dirk', 4933),\n",
              "             ('donlan', 4932),\n",
              "             ('lampidorran', 4931),\n",
              "             ('switzerland', 4930),\n",
              "             ('kingdom', 4929),\n",
              "             ('heret', 4928),\n",
              "             ('1941', 4927),\n",
              "             ('backfir', 4926),\n",
              "             ('granddaught', 4925),\n",
              "             ('rout', 4924),\n",
              "             ('travesti', 4923),\n",
              "             ('sierra', 4922),\n",
              "             ('gender', 4921),\n",
              "             ('paranoia', 4920),\n",
              "             ('misunderstood', 4919),\n",
              "             ('counter', 4918),\n",
              "             ('tax', 4917),\n",
              "             ('pleasenc', 4916),\n",
              "             ('sharpli', 4915),\n",
              "             ('irresist', 4914),\n",
              "             ('vast', 4913),\n",
              "             ('anxiou', 4912),\n",
              "             ('potboil', 4911),\n",
              "             ('fearless', 4910),\n",
              "             ('hopeless', 4909),\n",
              "             ('jade', 4908),\n",
              "             ('nose', 4907),\n",
              "             ('moreov', 4906),\n",
              "             ('lt', 4905),\n",
              "             ('accomplic', 4904),\n",
              "             ('underl', 4903),\n",
              "             ('foremost', 4902),\n",
              "             ('86', 4901),\n",
              "             ('conrad', 4900),\n",
              "             ('24', 4899),\n",
              "             ('passag', 4898),\n",
              "             ('flare', 4897),\n",
              "             ('shield', 4896),\n",
              "             ('lightheart', 4895),\n",
              "             ('interlud', 4894),\n",
              "             ('bodybuild', 4893),\n",
              "             ('daylight', 4892),\n",
              "             ('bartram', 4891),\n",
              "             ('godfath', 4890),\n",
              "             ('frawley', 4889),\n",
              "             ('bing', 4888),\n",
              "             ('underdevelop', 4887),\n",
              "             ('improvis', 4886),\n",
              "             ('chemic', 4885),\n",
              "             ('horseback', 4884),\n",
              "             ('deaf', 4883),\n",
              "             ('thinn', 4882),\n",
              "             ('rogu', 4881),\n",
              "             ('threat', 4880),\n",
              "             ('jealou', 4879),\n",
              "             ('madam', 4878),\n",
              "             ('california', 4877),\n",
              "             ('tornado', 4876),\n",
              "             ('vomit', 4875),\n",
              "             ('sexist', 4874),\n",
              "             ('caribbean', 4873),\n",
              "             ('rumor', 4872),\n",
              "             ('warp', 4871),\n",
              "             ('knight', 4870),\n",
              "             ('rachel', 4869),\n",
              "             ('ulyss', 4868),\n",
              "             ('snap', 4867),\n",
              "             ('booth', 4866),\n",
              "             ('poo', 4865),\n",
              "             ('sheet', 4864),\n",
              "             ('lengthi', 4863),\n",
              "             ('fog', 4862),\n",
              "             ('senseless', 4861),\n",
              "             ('donkey', 4860),\n",
              "             ('featurett', 4859),\n",
              "             ('quotabl', 4858),\n",
              "             ('tad', 4857),\n",
              "             ('bargain', 4856),\n",
              "             ('urgenc', 4855),\n",
              "             ('loomi', 4854),\n",
              "             ('proceed', 4853),\n",
              "             ('vulner', 4852),\n",
              "             ('scot', 4851),\n",
              "             ('sahay', 4850),\n",
              "             ('viren', 4849),\n",
              "             ('mel', 4848),\n",
              "             ('rivet', 4847),\n",
              "             ('strut', 4846),\n",
              "             ('hispan', 4845),\n",
              "             ('lightli', 4844),\n",
              "             ('harmless', 4843),\n",
              "             ('splice', 4842),\n",
              "             ('sand', 4841),\n",
              "             ('hum', 4840),\n",
              "             ('bicker', 4839),\n",
              "             ('chu', 4838),\n",
              "             ('lian', 4837),\n",
              "             ('lifeless', 4836),\n",
              "             ('whitak', 4835),\n",
              "             ('financ', 4834),\n",
              "             ('investor', 4833),\n",
              "             ('antz', 4832),\n",
              "             ('deliveri', 4831),\n",
              "             ('manic', 4830),\n",
              "             ('lib', 4829),\n",
              "             ('hansen', 4828),\n",
              "             ('patti', 4827),\n",
              "             ('colleen', 4826),\n",
              "             ('civilian', 4825),\n",
              "             ('romero', 4824),\n",
              "             ('bleed', 4823),\n",
              "             ('commend', 4822),\n",
              "             ('descent', 4821),\n",
              "             ('careless', 4820),\n",
              "             ('strangelov', 4819),\n",
              "             ('kirk', 4818),\n",
              "             ('boston', 4817),\n",
              "             ('dunaway', 4816),\n",
              "             ('redford', 4815),\n",
              "             ('28', 4814),\n",
              "             ('minimum', 4813),\n",
              "             ('tedious', 4812),\n",
              "             ('bronson', 4811),\n",
              "             ('mytholog', 4810),\n",
              "             ('matin', 4809),\n",
              "             ('horrid', 4808),\n",
              "             ('significantli', 4807),\n",
              "             ('clone', 4806),\n",
              "             ('verbal', 4805),\n",
              "             ('compuls', 4804),\n",
              "             ('juri', 4803),\n",
              "             ('leon', 4802),\n",
              "             ('lawrenc', 4801),\n",
              "             ('steami', 4800),\n",
              "             ('incident', 4799),\n",
              "             ('cater', 4798),\n",
              "             ('holden', 4797),\n",
              "             ('scarc', 4796),\n",
              "             ('1962', 4795),\n",
              "             ('ghoul', 4794),\n",
              "             ('roam', 4793),\n",
              "             ('dim', 4792),\n",
              "             ('blackwood', 4791),\n",
              "             ('anthoni', 4790),\n",
              "             ('custer', 4789),\n",
              "             ('calam', 4788),\n",
              "             ('mediev', 4787),\n",
              "             ('2nd', 4786),\n",
              "             ('improb', 4785),\n",
              "             ('enthral', 4784),\n",
              "             ('deniro', 4783),\n",
              "             ('whack', 4782),\n",
              "             ('underli', 4781),\n",
              "             ('sonni', 4780),\n",
              "             ('baddi', 4779),\n",
              "             ('aggress', 4778),\n",
              "             ('stifl', 4777),\n",
              "             ('constitut', 4776),\n",
              "             ('outlaw', 4775),\n",
              "             ('hail', 4774),\n",
              "             ('tool', 4773),\n",
              "             ('tempt', 4772),\n",
              "             ('seedi', 4771),\n",
              "             ('dutch', 4770),\n",
              "             ('2009', 4769),\n",
              "             ('readili', 4768),\n",
              "             ('plummer', 4767),\n",
              "             ('1963', 4766),\n",
              "             ('closet', 4765),\n",
              "             ('defi', 4764),\n",
              "             ('mcclure', 4763),\n",
              "             ('doug', 4762),\n",
              "             ('anticip', 4761),\n",
              "             ('pancak', 4760),\n",
              "             ('priyanka', 4759),\n",
              "             ('overplay', 4758),\n",
              "             ('khanna', 4757),\n",
              "             ('kapoor', 4756),\n",
              "             ('anil', 4755),\n",
              "             ('ayesha', 4754),\n",
              "             ('kal', 4753),\n",
              "             ('applaud', 4752),\n",
              "             ('advani', 4751),\n",
              "             ('nikhil', 4750),\n",
              "             ('scar', 4749),\n",
              "             ('agatha', 4748),\n",
              "             ('thomson', 4747),\n",
              "             ('publish', 4746),\n",
              "             ('promin', 4745),\n",
              "             ('milverton', 4744),\n",
              "             ('puppi', 4743),\n",
              "             ('archiv', 4742),\n",
              "             ('pool', 4741),\n",
              "             ('gonna', 4740),\n",
              "             ('uh', 4739),\n",
              "             ('drool', 4738),\n",
              "             ('jojo', 4737),\n",
              "             ('hack', 4736),\n",
              "             ('devis', 4735),\n",
              "             ('inanim', 4734),\n",
              "             ('frantic', 4733),\n",
              "             ('mall', 4732),\n",
              "             ('kong', 4731),\n",
              "             ('hong', 4730),\n",
              "             ('mainland', 4729),\n",
              "             ('soviet', 4728),\n",
              "             ('pm', 4727),\n",
              "             ('minist', 4726),\n",
              "             ('dwell', 4725),\n",
              "             ('ensur', 4724),\n",
              "             ('airport', 4723),\n",
              "             ('schizophren', 4722),\n",
              "             ('paradox', 4721),\n",
              "             ('enix', 4720),\n",
              "             ('rpg', 4719),\n",
              "             ('von', 4718),\n",
              "             ('veronika', 4717),\n",
              "             ('headstrong', 4716),\n",
              "             ('cope', 4715),\n",
              "             ('inher', 4714),\n",
              "             ('interestingli', 4713),\n",
              "             ('servant', 4712),\n",
              "             ('sultri', 4711),\n",
              "             ('schygulla', 4710),\n",
              "             ('werner', 4709),\n",
              "             ('rubbl', 4708),\n",
              "             ('per', 4707),\n",
              "             ('sheryl', 4706),\n",
              "             ('vonnegut', 4705),\n",
              "             ('avalanch', 4704),\n",
              "             ('conceal', 4703),\n",
              "             ('regim', 4702),\n",
              "             ('beaton', 4701),\n",
              "             ('bias', 4700),\n",
              "             ('1st', 4699),\n",
              "             ('unearth', 4698),\n",
              "             ('betti', 4697),\n",
              "             ('antiqu', 4696),\n",
              "             ('preteen', 4695),\n",
              "             ('pon', 4694),\n",
              "             ('pere', 4693),\n",
              "             ('gotta', 4692),\n",
              "             ('parker', 4691),\n",
              "             ('baseketbal', 4690),\n",
              "             ('zone', 4689),\n",
              "             ('agoni', 4688),\n",
              "             ('sync', 4687),\n",
              "             ('todesk', 4686),\n",
              "             ('showgirl', 4685),\n",
              "             ('bewild', 4684),\n",
              "             ('fold', 4683),\n",
              "             ('belt', 4682),\n",
              "             ('vivian', 4681),\n",
              "             ('lament', 4680),\n",
              "             ('mankiewicz', 4679),\n",
              "             ('spout', 4678),\n",
              "             ('wretch', 4677),\n",
              "             ('entranc', 4676),\n",
              "             ('persever', 4675),\n",
              "             ('sweetheart', 4674),\n",
              "             ('fide', 4673),\n",
              "             ('empathi', 4672),\n",
              "             ('criterion', 4671),\n",
              "             ('dostoyevski', 4670),\n",
              "             ('diari', 4669),\n",
              "             ('sensit', 4668),\n",
              "             ('clumsi', 4667),\n",
              "             ('squad', 4666),\n",
              "             ('tick', 4665),\n",
              "             ('bliss', 4664),\n",
              "             ('genius', 4663),\n",
              "             ('blonder', 4662),\n",
              "             ('dreyfuss', 4661),\n",
              "             ('dictat', 4660),\n",
              "             ('raul', 4659),\n",
              "             ('weari', 4658),\n",
              "             ('lacklust', 4657),\n",
              "             ('vartan', 4656),\n",
              "             ('indi', 4655),\n",
              "             ('classifi', 4654),\n",
              "             ('disord', 4653),\n",
              "             ('milder', 4652),\n",
              "             ('sympathis', 4651),\n",
              "             ('1992', 4650),\n",
              "             ('reckon', 4649),\n",
              "             ('whip', 4648),\n",
              "             ('suitabl', 4647),\n",
              "             ('patron', 4646),\n",
              "             ('stall', 4645),\n",
              "             ('weather', 4644),\n",
              "             ('trail', 4643),\n",
              "             ('francisco', 4642),\n",
              "             ('shi', 4641),\n",
              "             ('biographi', 4640),\n",
              "             ('eg', 4639),\n",
              "             ('artemesia', 4638),\n",
              "             ('modest', 4637),\n",
              "             ('einstein', 4636),\n",
              "             ('marilyn', 4635),\n",
              "             ('circa', 4634),\n",
              "             ('wash', 4633),\n",
              "             ('wtf', 4632),\n",
              "             ('blooper', 4631),\n",
              "             ('blake', 4630),\n",
              "             ('boost', 4629),\n",
              "             ('miniseri', 4628),\n",
              "             ('sweden', 4627),\n",
              "             ('im', 4626),\n",
              "             ('hardest', 4625),\n",
              "             ('choir', 4624),\n",
              "             ('denzel', 4623),\n",
              "             ('overwhelm', 4622),\n",
              "             ('mcandrew', 4621),\n",
              "             ('catchi', 4620),\n",
              "             ('misfit', 4619),\n",
              "             ('winston', 4618),\n",
              "             ('ingenu', 4617),\n",
              "             ('soar', 4616),\n",
              "             ('placid', 4615),\n",
              "             ('geograph', 4614),\n",
              "             ('skimpi', 4613),\n",
              "             ('sin', 4612),\n",
              "             ('what', 4611),\n",
              "             ('simpler', 4610),\n",
              "             ('aftermath', 4609),\n",
              "             ('shortcom', 4608),\n",
              "             ('normalci', 4607),\n",
              "             ('afghanistan', 4606),\n",
              "             ('2007', 4605),\n",
              "             ('valuabl', 4604),\n",
              "             ('calib', 4603),\n",
              "             ('disregard', 4602),\n",
              "             ('oblivion', 4601),\n",
              "             ('sleaz', 4600),\n",
              "             ('sade', 4599),\n",
              "             ('wire', 4598),\n",
              "             ('endlessli', 4597),\n",
              "             ('ineptitud', 4596),\n",
              "             ('consumpt', 4595),\n",
              "             ('equival', 4594),\n",
              "             ('sutherland', 4593),\n",
              "             ('undeni', 4592),\n",
              "             ('pie', 4591),\n",
              "             ('scarier', 4590),\n",
              "             ('sabu', 4589),\n",
              "             ('colleagu', 4588),\n",
              "             ('demeanor', 4587),\n",
              "             ('corinn', 4586),\n",
              "             ('carrigan', 4585),\n",
              "             ('row', 4584),\n",
              "             ('midnight', 4583),\n",
              "             ('smug', 4582),\n",
              "             ('slipshod', 4581),\n",
              "             ('dewaer', 4580),\n",
              "             ('blier', 4579),\n",
              "             ('flippin', 4578),\n",
              "             ('premchand', 4577),\n",
              "             ('nasal', 4576),\n",
              "             ('balloon', 4575),\n",
              "             ('broad', 4574),\n",
              "             ('primarili', 4573),\n",
              "             ('fencer', 4572),\n",
              "             ('claymor', 4571),\n",
              "             ('rapier', 4570),\n",
              "             ('chest', 4569),\n",
              "             ('pregnanc', 4568),\n",
              "             ('ghetto', 4567),\n",
              "             ('tore', 4566),\n",
              "             ('twirl', 4565),\n",
              "             ('fierc', 4564),\n",
              "             ('stomp', 4563),\n",
              "             ('perenni', 4562),\n",
              "             ('meantim', 4561),\n",
              "             ('misplac', 4560),\n",
              "             ('rodeo', 4559),\n",
              "             ('logan', 4558),\n",
              "             ('languor', 4557),\n",
              "             ('disjoint', 4556),\n",
              "             ('ala', 4555),\n",
              "             ('celluloid', 4554),\n",
              "             ('paus', 4553),\n",
              "             ('furiou', 4552),\n",
              "             ('nostalgia', 4551),\n",
              "             ('junki', 4550),\n",
              "             ('morrison', 4549),\n",
              "             ('heroic', 4548),\n",
              "             ('recollect', 4547),\n",
              "             ('nash', 4546),\n",
              "             ('mcdermott', 4545),\n",
              "             ('dylan', 4544),\n",
              "             ('boyl', 4543),\n",
              "             ('drawback', 4542),\n",
              "             ('debt', 4541),\n",
              "             ('cohes', 4540),\n",
              "             ('phibe', 4539),\n",
              "             ('hypnot', 4538),\n",
              "             ('fifti', 4537),\n",
              "             ('claymat', 4536),\n",
              "             ('cousin', 4535),\n",
              "             ('burden', 4534),\n",
              "             ('fist', 4533),\n",
              "             ('bout', 4532),\n",
              "             ('lace', 4531),\n",
              "             ('rerun', 4530),\n",
              "             ('cher', 4529),\n",
              "             ('lectur', 4528),\n",
              "             ('sink', 4527),\n",
              "             ('iii', 4526),\n",
              "             ('brilliantli', 4525),\n",
              "             ('surrend', 4524),\n",
              "             ('envelop', 4523),\n",
              "             ('hayek', 4522),\n",
              "             ('ventura', 4521),\n",
              "             ('fugit', 4520),\n",
              "             ('mystic', 4519),\n",
              "             ('psychedel', 4518),\n",
              "             ('lieuten', 4517),\n",
              "             ('karl', 4516),\n",
              "             ('mobster', 4515),\n",
              "             ('gritti', 4514),\n",
              "             ('rumbl', 4513),\n",
              "             ('otto', 4512),\n",
              "             ('coach', 4511),\n",
              "             ('brillianc', 4510),\n",
              "             ('repertoir', 4509),\n",
              "             ('delici', 4508),\n",
              "             ('rite', 4507),\n",
              "             ('lit', 4506),\n",
              "             ('discipl', 4505),\n",
              "             ('loyal', 4504),\n",
              "             ('bloodthirsti', 4503),\n",
              "             ('jo', 4502),\n",
              "             ('omin', 4501),\n",
              "             ('irredeem', 4500),\n",
              "             ('laden', 4499),\n",
              "             ('sarno', 4498),\n",
              "             ('disillus', 4497),\n",
              "             ('widow', 4496),\n",
              "             ('ought', 4495),\n",
              "             ('incarn', 4494),\n",
              "             ('idioci', 4493),\n",
              "             ('transpar', 4492),\n",
              "             ('ol', 4491),\n",
              "             ('dyke', 4490),\n",
              "             ('traffic', 4489),\n",
              "             ('valentin', 4488),\n",
              "             ('whodunit', 4487),\n",
              "             ('atkin', 4486),\n",
              "             ('martinez', 4485),\n",
              "             ('unexplain', 4484),\n",
              "             ('composit', 4483),\n",
              "             ('biker', 4482),\n",
              "             ('tomorrow', 4481),\n",
              "             ('seaver', 4480),\n",
              "             ('arguabl', 4479),\n",
              "             ('silverman', 4478),\n",
              "             ('useless', 4477),\n",
              "             ('jewel', 4476),\n",
              "             ('hyde', 4475),\n",
              "             ('moonchild', 4474),\n",
              "             ('applaus', 4473),\n",
              "             ('capit', 4472),\n",
              "             ('childish', 4471),\n",
              "             ('spade', 4470),\n",
              "             ('nott', 4469),\n",
              "             ('seller', 4468),\n",
              "             ('distributor', 4467),\n",
              "             ('dysfunct', 4466),\n",
              "             ('coloni', 4465),\n",
              "             ('tendenc', 4464),\n",
              "             ('uneasi', 4463),\n",
              "             ('pollut', 4462),\n",
              "             ('badass', 4461),\n",
              "             ('thorn', 4460),\n",
              "             ('macho', 4459),\n",
              "             ('wasteland', 4458),\n",
              "             ('unforgiv', 4457),\n",
              "             ('cunningham', 4456),\n",
              "             ('liam', 4455),\n",
              "             ('wisdom', 4454),\n",
              "             ('rampant', 4453),\n",
              "             ('pyramid', 4452),\n",
              "             ('recogniz', 4451),\n",
              "             ('sloppi', 4450),\n",
              "             ('dreck', 4449),\n",
              "             ('runner', 4448),\n",
              "             ('rabbit', 4447),\n",
              "             ('applic', 4446),\n",
              "             ('nietzsch', 4445),\n",
              "             ('theresa', 4444),\n",
              "             ('tat', 4443),\n",
              "             ('congress', 4442),\n",
              "             ('goth', 4441),\n",
              "             ('freaki', 4440),\n",
              "             ('snippet', 4439),\n",
              "             ('prod', 4438),\n",
              "             ('sugar', 4437),\n",
              "             ('pander', 4436),\n",
              "             ('burnett', 4435),\n",
              "             ('seal', 4434),\n",
              "             ('esther', 4433),\n",
              "             ('bacal', 4432),\n",
              "             ('99', 4431),\n",
              "             ('glamor', 4430),\n",
              "             ('suppli', 4429),\n",
              "             ('mindset', 4428),\n",
              "             ('swashbuckl', 4427),\n",
              "             ('measli', 4426),\n",
              "             ('warfar', 4425),\n",
              "             ('duel', 4424),\n",
              "             ('gigant', 4423),\n",
              "             ('attach', 4422),\n",
              "             ('slice', 4421),\n",
              "             ('perplex', 4420),\n",
              "             ('vanilla', 4419),\n",
              "             ('melissa', 4418),\n",
              "             ('eliza', 4417),\n",
              "             ('rudi', 4416),\n",
              "             ('ricki', 4415),\n",
              "             ('nelson', 4414),\n",
              "             ('shore', 4413),\n",
              "             ('hilliard', 4412),\n",
              "             ('randolph', 4411),\n",
              "             ('jerom', 4410),\n",
              "             ('awe', 4409),\n",
              "             ('pleasantli', 4408),\n",
              "             ('elabor', 4407),\n",
              "             ('bitch', 4406),\n",
              "             ('tetsuo', 4405),\n",
              "             ('00', 4404),\n",
              "             ('forens', 4403),\n",
              "             ('alibi', 4402),\n",
              "             ('mild', 4401),\n",
              "             ('swallow', 4400),\n",
              "             ('complement', 4399),\n",
              "             ('attribut', 4398),\n",
              "             ('sale', 4397),\n",
              "             ('frost', 4396),\n",
              "             ('miniatur', 4395),\n",
              "             ('www', 4394),\n",
              "             ('mail', 4393),\n",
              "             ('uneduc', 4392),\n",
              "             ('loyalti', 4391),\n",
              "             ('carlin', 4390),\n",
              "             ('deceiv', 4389),\n",
              "             ('compass', 4388),\n",
              "             ('jail', 4387),\n",
              "             ('mason', 4386),\n",
              "             ('norm', 4385),\n",
              "             ('wilder', 4384),\n",
              "             ('hercul', 4383),\n",
              "             ('caesar', 4382),\n",
              "             ('piano', 4381),\n",
              "             ('plate', 4380),\n",
              "             ('cleverli', 4379),\n",
              "             ('eastwood', 4378),\n",
              "             ('gentli', 4377),\n",
              "             ('overt', 4376),\n",
              "             ('guin', 4375),\n",
              "             ('turmoil', 4374),\n",
              "             ('plight', 4373),\n",
              "             ('instantli', 4372),\n",
              "             ('uncertainti', 4371),\n",
              "             ('israel', 4370),\n",
              "             ('saint', 4369),\n",
              "             ('peculiar', 4368),\n",
              "             ('apolog', 4367),\n",
              "             ('alik', 4366),\n",
              "             ('supplier', 4365),\n",
              "             ('avenu', 4364),\n",
              "             ('sappi', 4363),\n",
              "             ('razzi', 4362),\n",
              "             ('brooklyn', 4361),\n",
              "             ('taim', 4360),\n",
              "             ('da', 4359),\n",
              "             ('radha', 4358),\n",
              "             ('unreal', 4357),\n",
              "             ('india', 4356),\n",
              "             ('dash', 4355),\n",
              "             ('sigh', 4354),\n",
              "             ('hmmm', 4353),\n",
              "             ('insecur', 4352),\n",
              "             ('mustach', 4351),\n",
              "             ('dement', 4350),\n",
              "             ('sneer', 4349),\n",
              "             ('kudo', 4348),\n",
              "             ('shenanigan', 4347),\n",
              "             ('intimid', 4346),\n",
              "             ('rebelli', 4345),\n",
              "             ('pj', 4344),\n",
              "             ('elsewher', 4343),\n",
              "             ('absenc', 4342),\n",
              "             ('heap', 4341),\n",
              "             ('duggan', 4340),\n",
              "             ('foggi', 4339),\n",
              "             ('segal', 4338),\n",
              "             ('clad', 4337),\n",
              "             ('util', 4336),\n",
              "             ('messi', 4335),\n",
              "             ('habit', 4334),\n",
              "             ('alleg', 4333),\n",
              "             ('bitchi', 4332),\n",
              "             ('fever', 4331),\n",
              "             ('nitpick', 4330),\n",
              "             ('jinx', 4329),\n",
              "             ('strung', 4328),\n",
              "             ('amanda', 4327),\n",
              "             ('sunk', 4326),\n",
              "             ('nickelodeon', 4325),\n",
              "             ('labeouf', 4324),\n",
              "             ('shia', 4323),\n",
              "             ('gloss', 4322),\n",
              "             ('tag', 4321),\n",
              "             ('volunt', 4320),\n",
              "             ('henderson', 4319),\n",
              "             ('instruct', 4318),\n",
              "             ('nanni', 4317),\n",
              "             ('sublim', 4316),\n",
              "             ('museum', 4315),\n",
              "             ('wax', 4314),\n",
              "             ('doubtlessli', 4313),\n",
              "             ('antholog', 4312),\n",
              "             ('crypt', 4311),\n",
              "             ('cheapli', 4310),\n",
              "             ('brad', 4309),\n",
              "             ('bog', 4308),\n",
              "             ('duval', 4307),\n",
              "             ('allur', 4306),\n",
              "             ('letdown', 4305),\n",
              "             ('creed', 4304),\n",
              "             ('sematari', 4303),\n",
              "             ('wishbon', 4302),\n",
              "             ('samway', 4301),\n",
              "             ('confer', 4300),\n",
              "             ('rukh', 4299),\n",
              "             ('galico', 4298),\n",
              "             ('sidney', 4297),\n",
              "             ('rohmer', 4296),\n",
              "             ('labut', 4295),\n",
              "             ('stole', 4294),\n",
              "             ('choco', 4293),\n",
              "             ('bounti', 4292),\n",
              "             ('lordi', 4291),\n",
              "             ('karen', 4290),\n",
              "             ('django', 4289),\n",
              "             ('aforement', 4288),\n",
              "             ('sheeta', 4287),\n",
              "             ('marischka', 4286),\n",
              "             ('pikachu', 4285),\n",
              "             ('muppet', 4284),\n",
              "             ('nascar', 4283),\n",
              "             ('bsg', 4282),\n",
              "             ('55', 4281),\n",
              "             ('barney', 4280),\n",
              "             ('radium', 4279),\n",
              "             ('speaker', 4278),\n",
              "             ('dickinson', 4277),\n",
              "             ('austrian', 4276),\n",
              "             ('gor', 4275),\n",
              "             ('fort', 4274),\n",
              "             ('brien', 4273),\n",
              "             ('bombardi', 4272),\n",
              "             ('teff', 4271),\n",
              "             ('jam', 4270),\n",
              "             ('traci', 4269),\n",
              "             ('corman', 4268),\n",
              "             ('dchen', 4267),\n",
              "             ('leachman', 4266),\n",
              "             ('clori', 4265),\n",
              "             ('christina', 4264),\n",
              "             ('eleven', 4263),\n",
              "             ('annakin', 4262),\n",
              "             ('holland', 4261),\n",
              "             ('midget', 4260),\n",
              "             ('immigr', 4259),\n",
              "             ('kikuno', 4258),\n",
              "             ('rochest', 4257),\n",
              "             ('eyr', 4256),\n",
              "             ('brashear', 4255),\n",
              "             ('adjust', 4254),\n",
              "             ('unisol', 4253),\n",
              "             ('electron', 4252),\n",
              "             ('album', 4251),\n",
              "             ('dreamlik', 4250),\n",
              "             ('weir', 4249),\n",
              "             ('anniversari', 4248),\n",
              "             ('superhero', 4247),\n",
              "             ('gellar', 4246),\n",
              "             ('metal', 4245),\n",
              "             ('spooki', 4244),\n",
              "             ('massacr', 4243),\n",
              "             ('toro', 4242),\n",
              "             ('muddl', 4241),\n",
              "             ('courtyard', 4240),\n",
              "             ('ceremoni', 4239),\n",
              "             ('spain', 4238),\n",
              "             ('1984', 4237),\n",
              "             ('aristocrat', 4236),\n",
              "             ('sundanc', 4235),\n",
              "             ('outfit', 4234),\n",
              "             ('smaller', 4233),\n",
              "             ('je', 4232),\n",
              "             ('distort', 4231),\n",
              "             ('quarter', 4230),\n",
              "             ('brainwash', 4229),\n",
              "             ('sudden', 4228),\n",
              "             ('boll', 4227),\n",
              "             ('uwe', 4226),\n",
              "             ('tara', 4225),\n",
              "             ('vault', 4224),\n",
              "             ('loren', 4223),\n",
              "             ('enthusiasm', 4222),\n",
              "             ('sirk', 4221),\n",
              "             ('scarecrow', 4220),\n",
              "             ('mors', 4219),\n",
              "             ('swamp', 4218),\n",
              "             ('gamera', 4217),\n",
              "             ('tower', 4216),\n",
              "             ('owl', 4215),\n",
              "             ('mortal', 4214),\n",
              "             ('spous', 4213),\n",
              "             ('s2rd', 4212),\n",
              "             ('prematur', 4211),\n",
              "             ('fallen', 4210),\n",
              "             ('wicker', 4209),\n",
              "             ('permit', 4208),\n",
              "             ('chao', 4207),\n",
              "             ('poetri', 4206),\n",
              "             ('harvard', 4205),\n",
              "             ('prolong', 4204),\n",
              "             ('cemeteri', 4203),\n",
              "             ('hoo', 4202),\n",
              "             ('custom', 4201),\n",
              "             ('healey', 4200),\n",
              "             ('ego', 4199),\n",
              "             ('herbert', 4198),\n",
              "             ('tin', 4197),\n",
              "             ('colin', 4196),\n",
              "             ('tripl', 4195),\n",
              "             ('intric', 4194),\n",
              "             ('immatur', 4193),\n",
              "             ('basement', 4192),\n",
              "             ('melvyn', 4191),\n",
              "             ('crank', 4190),\n",
              "             ('chicken', 4189),\n",
              "             ('chapter', 4188),\n",
              "             ('empir', 4187),\n",
              "             ('tan', 4186),\n",
              "             ('abc', 4185),\n",
              "             ('knightley', 4184),\n",
              "             ('nit', 4183),\n",
              "             ('mobi', 4182),\n",
              "             ('closur', 4181),\n",
              "             ('witti', 4180),\n",
              "             ('undoubtedli', 4179),\n",
              "             ('trace', 4178),\n",
              "             ('immort', 4177),\n",
              "             ('err', 4176),\n",
              "             ('toon', 4175),\n",
              "             ('sarandon', 4174),\n",
              "             ('juda', 4173),\n",
              "             ('medal', 4172),\n",
              "             ('templ', 4171),\n",
              "             ('wore', 4170),\n",
              "             ('cutter', 4169),\n",
              "             ('jennif', 4168),\n",
              "             ('urin', 4167),\n",
              "             ('scientif', 4166),\n",
              "             ('grotesqu', 4165),\n",
              "             ('sandra', 4164),\n",
              "             ('jameson', 4163),\n",
              "             ('muriel', 4162),\n",
              "             ('kleinman', 4161),\n",
              "             ('2008', 4160),\n",
              "             ('briefli', 4159),\n",
              "             ('kidnapp', 4158),\n",
              "             ('basketbal', 4157),\n",
              "             ('dire', 4156),\n",
              "             ('seed', 4155),\n",
              "             ('contempt', 4154),\n",
              "             ('coffe', 4153),\n",
              "             ('resent', 4152),\n",
              "             ('divis', 4151),\n",
              "             ('furthermor', 4150),\n",
              "             ('reckless', 4149),\n",
              "             ('strangler', 4148),\n",
              "             ('errol', 4147),\n",
              "             ('baffl', 4146),\n",
              "             ('blob', 4145),\n",
              "             ('aspir', 4144),\n",
              "             ('tip', 4143),\n",
              "             ('newspap', 4142),\n",
              "             ('pavlov', 4141),\n",
              "             ('ohio', 4140),\n",
              "             ('unorigin', 4139),\n",
              "             ('prior', 4138),\n",
              "             ('gulfax', 4137),\n",
              "             ('stripper', 4136),\n",
              "             ('liber', 4135),\n",
              "             ('tolkien', 4134),\n",
              "             ('walker', 4133),\n",
              "             ('garland', 4132),\n",
              "             ('whale', 4131),\n",
              "             ('ultimatum', 4130),\n",
              "             ('butterfli', 4129),\n",
              "             ('mesh', 4128),\n",
              "             ('extremist', 4127),\n",
              "             ('batwoman', 4126),\n",
              "             ('worthless', 4125),\n",
              "             ('shameless', 4124),\n",
              "             ('recreat', 4123),\n",
              "             ('snipe', 4122),\n",
              "             ('shelf', 4121),\n",
              "             ('absent', 4120),\n",
              "             ('drab', 4119),\n",
              "             ('burton', 4118),\n",
              "             ('isabel', 4117),\n",
              "             ('enthusiast', 4116),\n",
              "             ('strand', 4115),\n",
              "             ('befit', 4114),\n",
              "             ('martha', 4113),\n",
              "             ('weakest', 4112),\n",
              "             ('crumbl', 4111),\n",
              "             ('3000', 4110),\n",
              "             ('bartend', 4109),\n",
              "             ('pocket', 4108),\n",
              "             ('gomez', 4107),\n",
              "             ('myth', 4106),\n",
              "             ('presum', 4105),\n",
              "             ('communist', 4104),\n",
              "             ('biopic', 4103),\n",
              "             ('majesti', 4102),\n",
              "             ('tasteless', 4101),\n",
              "             ('chevi', 4100),\n",
              "             ('newer', 4099),\n",
              "             ('dip', 4098),\n",
              "             ('intim', 4097),\n",
              "             ('timothi', 4096),\n",
              "             ('rick', 4095),\n",
              "             ('exot', 4094),\n",
              "             ('toss', 4093),\n",
              "             ('gradi', 4092),\n",
              "             ('emphas', 4091),\n",
              "             ('flawlessli', 4090),\n",
              "             ('transit', 4089),\n",
              "             ('awaken', 4088),\n",
              "             ('beckinsal', 4087),\n",
              "             ('churchil', 4086),\n",
              "             ('eloqu', 4085),\n",
              "             ('capsul', 4084),\n",
              "             ('chilli', 4083),\n",
              "             ('kirsten', 4082),\n",
              "             ('willem', 4081),\n",
              "             ('dunk', 4080),\n",
              "             ('reunion', 4079),\n",
              "             ('vicki', 4078),\n",
              "             ('deceas', 4077),\n",
              "             ('ira', 4076),\n",
              "             ('shrek', 4075),\n",
              "             ('bromfield', 4074),\n",
              "             ('notion', 4073),\n",
              "             ('proport', 4072),\n",
              "             ('document', 4071),\n",
              "             ('straightforward', 4070),\n",
              "             ('picturesqu', 4069),\n",
              "             ('fend', 4068),\n",
              "             ('fonda', 4067),\n",
              "             ('beatl', 4066),\n",
              "             ('leonard', 4065),\n",
              "             ('annual', 4064),\n",
              "             ('sun', 4063),\n",
              "             ('agenda', 4062),\n",
              "             ('hollow', 4061),\n",
              "             ('revisit', 4060),\n",
              "             ('confirm', 4059),\n",
              "             ('ransom', 4058),\n",
              "             ('cliver', 4057),\n",
              "             ('net', 4056),\n",
              "             ('resourc', 4055),\n",
              "             ('float', 4054),\n",
              "             ('stinker', 4053),\n",
              "             ('threaten', 4052),\n",
              "             ('morgana', 4051),\n",
              "             ('virginia', 4050),\n",
              "             ('romeo', 4049),\n",
              "             ('trend', 4048),\n",
              "             ('1981', 4047),\n",
              "             ('blair', 4046),\n",
              "             ('camilla', 4045),\n",
              "             ('cum', 4044),\n",
              "             ('bate', 4043),\n",
              "             ('deliri', 4042),\n",
              "             ('sunris', 4041),\n",
              "             ('consum', 4040),\n",
              "             ('asia', 4039),\n",
              "             ('boundari', 4038),\n",
              "             ('divin', 4037),\n",
              "             ('greed', 4036),\n",
              "             ('burk', 4035),\n",
              "             ('elder', 4034),\n",
              "             ('schmeez', 4033),\n",
              "             ('millionair', 4032),\n",
              "             ('owe', 4031),\n",
              "             ('presidenti', 4030),\n",
              "             ('innuendo', 4029),\n",
              "             ('lon', 4028),\n",
              "             ('shelley', 4027),\n",
              "             ('palanc', 4026),\n",
              "             ('sack', 4025),\n",
              "             ('fur', 4024),\n",
              "             ('radioact', 4023),\n",
              "             ('file', 4022),\n",
              "             ('lulu', 4021),\n",
              "             ('mum', 4020),\n",
              "             ('ice', 4019),\n",
              "             ('duti', 4018),\n",
              "             ('columbo', 4017),\n",
              "             ('integr', 4016),\n",
              "             ('motorcycl', 4015),\n",
              "             ('modul', 4014),\n",
              "             ('disguis', 4013),\n",
              "             ('collora', 4012),\n",
              "             ('levant', 4011),\n",
              "             ('instrument', 4010),\n",
              "             ('swing', 4009),\n",
              "             ('impromptu', 4008),\n",
              "             ('basil', 4007),\n",
              "             ('wee', 4006),\n",
              "             ('snowman', 4005),\n",
              "             ('bbc', 4004),\n",
              "             ('armour', 4003),\n",
              "             ('keen', 4002),\n",
              "             ('nightclub', 4001),\n",
              "             ('neal', 4000),\n",
              "             ...])"
            ]
          },
          "metadata": {
            "tags": []
          },
          "execution_count": 27
        }
      ]
    },
    {
      "cell_type": "markdown",
      "metadata": {
        "id": "lFmAQNwbIAyf",
        "colab_type": "text"
      },
      "source": [
        "### Save `word_dict`\n",
        "\n",
        "Later on when we construct an endpoint which processes a submitted review we will need to make use of the `word_dict` which we have created. As such, we will save it to a file now for future use."
      ]
    },
    {
      "cell_type": "code",
      "metadata": {
        "id": "aHR6zI3tIAyf",
        "colab_type": "code",
        "colab": {}
      },
      "source": [
        "data_dir = '../data/pytorch' # The folder we will use for storing data\n",
        "if not os.path.exists(data_dir): # Make sure that the folder exists\n",
        "    os.makedirs(data_dir)"
      ],
      "execution_count": 0,
      "outputs": []
    },
    {
      "cell_type": "code",
      "metadata": {
        "id": "u7vXc2bKIAyh",
        "colab_type": "code",
        "colab": {}
      },
      "source": [
        "with open(os.path.join(data_dir, 'word_dict.pkl'), \"wb\") as f:\n",
        "    pickle.dump(word_dict, f)"
      ],
      "execution_count": 0,
      "outputs": []
    },
    {
      "cell_type": "markdown",
      "metadata": {
        "id": "wGUw03OdIAyk",
        "colab_type": "text"
      },
      "source": [
        "### Transform the reviews\n",
        "\n",
        "Now that we have our word dictionary which allows us to transform the words appearing in the reviews into integers, it is time to make use of it and convert our reviews to their integer sequence representation, making sure to pad or truncate to a fixed length, which in our case is `500`."
      ]
    },
    {
      "cell_type": "code",
      "metadata": {
        "id": "fPGLv2JVIAyl",
        "colab_type": "code",
        "colab": {}
      },
      "source": [
        "def convert_and_pad(word_dict, sentence, pad=500):\n",
        "    NOWORD = 0 # We will use 0 to represent the 'no word' category\n",
        "    INFREQ = 1 # and we use 1 to represent the infrequent words, i.e., words not appearing in word_dict\n",
        "    \n",
        "    working_sentence = [NOWORD] * pad\n",
        "    \n",
        "    for word_index, word in enumerate(sentence[:pad]):\n",
        "        if word in word_dict:\n",
        "            working_sentence[word_index] = word_dict[word]\n",
        "        else:\n",
        "            working_sentence[word_index] = INFREQ\n",
        "            \n",
        "    return working_sentence, min(len(sentence), pad)\n",
        "\n",
        "def convert_and_pad_data(word_dict, data, pad=500):\n",
        "    result = []\n",
        "    lengths = []\n",
        "    \n",
        "    for sentence in data:\n",
        "        converted, leng = convert_and_pad(word_dict, sentence, pad)\n",
        "        result.append(converted)\n",
        "        lengths.append(leng)\n",
        "        \n",
        "    return np.array(result), np.array(lengths)"
      ],
      "execution_count": 0,
      "outputs": []
    },
    {
      "cell_type": "code",
      "metadata": {
        "id": "M7gXozvJIAyo",
        "colab_type": "code",
        "colab": {}
      },
      "source": [
        "train_X, train_X_len = convert_and_pad_data(word_dict, train_X)\n",
        "test_X, test_X_len = convert_and_pad_data(word_dict, test_X)"
      ],
      "execution_count": 0,
      "outputs": []
    },
    {
      "cell_type": "markdown",
      "metadata": {
        "id": "NwZ4Cl5BIAyr",
        "colab_type": "text"
      },
      "source": [
        "As a quick check to make sure that things are working as intended, check to see what one of the reviews in the training set looks like after having been processeed. Does this look reasonable? What is the length of a review in the training set?"
      ]
    },
    {
      "cell_type": "code",
      "metadata": {
        "id": "On6AW-fIIAys",
        "colab_type": "code",
        "colab": {
          "base_uri": "https://localhost:8080/",
          "height": 646
        },
        "outputId": "ff8df3f1-f20b-442c-8edb-87266536b8a1"
      },
      "source": [
        "# Use this cell to examine one of the processed reviews to make sure everything is working as intended.\n",
        "print(len(train_X[0]))\n",
        "print(train_X[0])"
      ],
      "execution_count": 33,
      "outputs": [
        {
          "output_type": "stream",
          "text": [
            "500\n",
            "[ 514    1   16  902  336 2743  139  589   52  296   65  678  139    1\n",
            " 2744 2460  139  784    8  388   84   22 1196    8  449  326  237    4\n",
            "  381 1756 4303 1386  312    1  555  784   51  155   31 2053 1467  125\n",
            "  267    3  253  313   34    9   12  374 2054  532 1647   34   71   26\n",
            "  231    3    5  139 1197   41  350  706  590 1757    3  351 1556  126\n",
            "  284 2055 1757  264  211   84 1756 4303 1756   22   48   65  257  375\n",
            "  336 1311    1    1  148  433  381   31  161  706  863  679 2745 4304\n",
            "  327  833    8  461  382    2   51 1312   30  968  706  483  329  329\n",
            "    1   52   12  360 1313  590 1758  120    3 2461 1198 2462  641   19\n",
            "  112 4305  189   94  785 1556   97  211   84  113    1    4 3092   84\n",
            "    3   59   35   32   10  427    0    0    0    0    0    0    0    0\n",
            "    0    0    0    0    0    0    0    0    0    0    0    0    0    0\n",
            "    0    0    0    0    0    0    0    0    0    0    0    0    0    0\n",
            "    0    0    0    0    0    0    0    0    0    0    0    0    0    0\n",
            "    0    0    0    0    0    0    0    0    0    0    0    0    0    0\n",
            "    0    0    0    0    0    0    0    0    0    0    0    0    0    0\n",
            "    0    0    0    0    0    0    0    0    0    0    0    0    0    0\n",
            "    0    0    0    0    0    0    0    0    0    0    0    0    0    0\n",
            "    0    0    0    0    0    0    0    0    0    0    0    0    0    0\n",
            "    0    0    0    0    0    0    0    0    0    0    0    0    0    0\n",
            "    0    0    0    0    0    0    0    0    0    0    0    0    0    0\n",
            "    0    0    0    0    0    0    0    0    0    0    0    0    0    0\n",
            "    0    0    0    0    0    0    0    0    0    0    0    0    0    0\n",
            "    0    0    0    0    0    0    0    0    0    0    0    0    0    0\n",
            "    0    0    0    0    0    0    0    0    0    0    0    0    0    0\n",
            "    0    0    0    0    0    0    0    0    0    0    0    0    0    0\n",
            "    0    0    0    0    0    0    0    0    0    0    0    0    0    0\n",
            "    0    0    0    0    0    0    0    0    0    0    0    0    0    0\n",
            "    0    0    0    0    0    0    0    0    0    0    0    0    0    0\n",
            "    0    0    0    0    0    0    0    0    0    0    0    0    0    0\n",
            "    0    0    0    0    0    0    0    0    0    0    0    0    0    0\n",
            "    0    0    0    0    0    0    0    0    0    0    0    0    0    0\n",
            "    0    0    0    0    0    0    0    0    0    0    0    0    0    0\n",
            "    0    0    0    0    0    0    0    0    0    0    0    0    0    0\n",
            "    0    0    0    0    0    0    0    0    0    0    0    0    0    0\n",
            "    0    0    0    0    0    0    0    0    0    0]\n"
          ],
          "name": "stdout"
        }
      ]
    },
    {
      "cell_type": "markdown",
      "metadata": {
        "id": "rxdKBIxdIAyu",
        "colab_type": "text"
      },
      "source": [
        "**Question:** In the cells above we use the `preprocess_data` and `convert_and_pad_data` methods to process both the training and testing set. Why or why not might this be a problem?"
      ]
    },
    {
      "cell_type": "markdown",
      "metadata": {
        "id": "So0elYi3IAyv",
        "colab_type": "text"
      },
      "source": [
        "**Answer:**\n",
        "It might not cause problem. As both train and test set are to be pre-processed in a similar manner so that the model can deal with them properly. It helps maintain a constant data size while training irrespective of the size of reviews."
      ]
    },
    {
      "cell_type": "markdown",
      "metadata": {
        "id": "MSz4qJk9IAyw",
        "colab_type": "text"
      },
      "source": [
        "## Step 3: Upload the data to S3\n",
        "\n",
        "As in the XGBoost notebook, we will need to upload the training dataset to S3 in order for our training code to access it. For now we will save it locally and we will upload to S3 later on.\n",
        "\n",
        "### Save the processed training dataset locally\n",
        "\n",
        "It is important to note the format of the data that we are saving as we will need to know it when we write the training code. In our case, each row of the dataset has the form `label`, `length`, `review[500]` where `review[500]` is a sequence of `500` integers representing the words in the review."
      ]
    },
    {
      "cell_type": "code",
      "metadata": {
        "id": "favg7G95IAyw",
        "colab_type": "code",
        "colab": {}
      },
      "source": [
        "import pandas as pd\n",
        "    \n",
        "pd.concat([pd.DataFrame(train_y), pd.DataFrame(train_X_len), pd.DataFrame(train_X)], axis=1) \\\n",
        "        .to_csv(os.path.join(data_dir, 'train.csv'), header=False, index=False)"
      ],
      "execution_count": 0,
      "outputs": []
    },
    {
      "cell_type": "markdown",
      "metadata": {
        "id": "PeiucJu7IAyz",
        "colab_type": "text"
      },
      "source": [
        "### Uploading the training data\n",
        "\n",
        "\n",
        "Next, we need to upload the training data to the SageMaker default S3 bucket so that we can provide access to it while training our model."
      ]
    },
    {
      "cell_type": "code",
      "metadata": {
        "id": "zyxJTJMIIAyz",
        "colab_type": "code",
        "colab": {}
      },
      "source": [
        "import sagemaker\n",
        "\n",
        "sagemaker_session = sagemaker.Session()\n",
        "\n",
        "bucket = sagemaker_session.default_bucket()\n",
        "prefix = 'sagemaker/sentiment_rnn'\n",
        "\n",
        "role = sagemaker.get_execution_role()"
      ],
      "execution_count": 0,
      "outputs": []
    },
    {
      "cell_type": "code",
      "metadata": {
        "id": "Y5u0TQIuIAy1",
        "colab_type": "code",
        "colab": {}
      },
      "source": [
        "input_data = sagemaker_session.upload_data(path=data_dir, bucket=bucket, key_prefix=prefix)"
      ],
      "execution_count": 0,
      "outputs": []
    },
    {
      "cell_type": "markdown",
      "metadata": {
        "id": "AwVF2V9oIAy3",
        "colab_type": "text"
      },
      "source": [
        "**NOTE:** The cell above uploads the entire contents of our data directory. This includes the `word_dict.pkl` file. This is fortunate as we will need this later on when we create an endpoint that accepts an arbitrary review. For now, we will just take note of the fact that it resides in the data directory (and so also in the S3 training bucket) and that we will need to make sure it gets saved in the model directory."
      ]
    },
    {
      "cell_type": "markdown",
      "metadata": {
        "id": "tHzXpIyIIAy3",
        "colab_type": "text"
      },
      "source": [
        "## Step 4: Build and Train the PyTorch Model\n",
        "\n",
        "In the XGBoost notebook we discussed what a model is in the SageMaker framework. In particular, a model comprises three objects\n",
        "\n",
        " - Model Artifacts,\n",
        " - Training Code, and\n",
        " - Inference Code,\n",
        " \n",
        "each of which interact with one another. In the XGBoost example we used training and inference code that was provided by Amazon. Here we will still be using containers provided by Amazon with the added benefit of being able to include our own custom code.\n",
        "\n",
        "We will start by implementing our own neural network in PyTorch along with a training script. For the purposes of this project we have provided the necessary model object in the `model.py` file, inside of the `train` folder. You can see the provided implementation by running the cell below."
      ]
    },
    {
      "cell_type": "code",
      "metadata": {
        "id": "jIwUa31pIAy4",
        "colab_type": "code",
        "colab": {}
      },
      "source": [
        "!pygmentize train/model.py"
      ],
      "execution_count": 0,
      "outputs": []
    },
    {
      "cell_type": "markdown",
      "metadata": {
        "id": "8zYgYH85IAy6",
        "colab_type": "text"
      },
      "source": [
        "The important takeaway from the implementation provided is that there are three parameters that we may wish to tweak to improve the performance of our model. These are the embedding dimension, the hidden dimension and the size of the vocabulary. We will likely want to make these parameters configurable in the training script so that if we wish to modify them we do not need to modify the script itself. We will see how to do this later on. To start we will write some of the training code in the notebook so that we can more easily diagnose any issues that arise.\n",
        "\n",
        "First we will load a small portion of the training data set to use as a sample. It would be very time consuming to try and train the model completely in the notebook as we do not have access to a gpu and the compute instance that we are using is not particularly powerful. However, we can work on a small bit of the data to get a feel for how our training script is behaving."
      ]
    },
    {
      "cell_type": "code",
      "metadata": {
        "id": "8M_FOqGCIAy6",
        "colab_type": "code",
        "colab": {}
      },
      "source": [
        "import torch\n",
        "import torch.utils.data\n",
        "\n",
        "# Read in only the first 250 rows\n",
        "train_sample = pd.read_csv(os.path.join(data_dir, 'train.csv'), header=None, names=None, nrows=250)\n",
        "\n",
        "# Turn the input pandas dataframe into tensors\n",
        "train_sample_y = torch.from_numpy(train_sample[[0]].values).float().squeeze()\n",
        "train_sample_X = torch.from_numpy(train_sample.drop([0], axis=1).values).long()\n",
        "\n",
        "# Build the dataset\n",
        "train_sample_ds = torch.utils.data.TensorDataset(train_sample_X, train_sample_y)\n",
        "# Build the dataloader\n",
        "train_sample_dl = torch.utils.data.DataLoader(train_sample_ds, batch_size=50)"
      ],
      "execution_count": 0,
      "outputs": []
    },
    {
      "cell_type": "markdown",
      "metadata": {
        "id": "IEc5hzL9IAy9",
        "colab_type": "text"
      },
      "source": [
        "### (TODO) Writing the training method\n",
        "\n",
        "Next we need to write the training code itself. This should be very similar to training methods that you have written before to train PyTorch models. We will leave any difficult aspects such as model saving / loading and parameter loading until a little later."
      ]
    },
    {
      "cell_type": "code",
      "metadata": {
        "id": "zuMyGJDGIAy-",
        "colab_type": "code",
        "colab": {}
      },
      "source": [
        "def train(model, train_loader, epochs, optimizer, loss_fn, device):\n",
        "    for epoch in range(1, epochs + 1):\n",
        "        model.train()\n",
        "        total_loss = 0\n",
        "        for batch in train_loader:         \n",
        "            batch_X, batch_y = batch\n",
        "            \n",
        "            batch_X = batch_X.to(device)\n",
        "            batch_y = batch_y.to(device)\n",
        "            \n",
        "            # model.zero_grad()\n",
        "            optimizer.zero_grad()\n",
        "            \n",
        "            # TODO: Complete this train method to train the model provided.\n",
        "            output = model(batch_X)\n",
        "            loss = loss_fn(output, batch_y)\n",
        "            loss.backward()\n",
        "            optimizer.step()\n",
        "            \n",
        "            total_loss += loss.data.item()\n",
        "        print(\"Epoch: {}, BCELoss: {}\".format(epoch, total_loss / len(train_loader)))"
      ],
      "execution_count": 0,
      "outputs": []
    },
    {
      "cell_type": "code",
      "metadata": {
        "id": "OtNIKZUuXPHX",
        "colab_type": "code",
        "colab": {}
      },
      "source": [
        "device = torch.device(\"cuda\" if torch.cuda.is_available() else \"cpu\")"
      ],
      "execution_count": 0,
      "outputs": []
    },
    {
      "cell_type": "markdown",
      "metadata": {
        "id": "ZolFZSAdIAzA",
        "colab_type": "text"
      },
      "source": [
        "Supposing we have the training method above, we will test that it is working by writing a bit of code in the notebook that executes our training method on the small sample training set that we loaded earlier. The reason for doing this in the notebook is so that we have an opportunity to fix any errors that arise early when they are easier to diagnose."
      ]
    },
    {
      "cell_type": "code",
      "metadata": {
        "id": "g6yIHDKaIAzB",
        "colab_type": "code",
        "colab": {}
      },
      "source": [
        "import torch.optim as optim\n",
        "from train.model import LSTMClassifier\n",
        "\n",
        "device = torch.device(\"cuda\" if torch.cuda.is_available() else \"cpu\")\n",
        "model = LSTMClassifier(32, 100, 5000).to(device)\n",
        "optimizer = optim.Adam(model.parameters())\n",
        "loss_fn = torch.nn.BCELoss()\n",
        "\n",
        "train(model, train_sample_dl, 5, optimizer, loss_fn, device)"
      ],
      "execution_count": 0,
      "outputs": []
    },
    {
      "cell_type": "markdown",
      "metadata": {
        "id": "n0RWKZvVIAzE",
        "colab_type": "text"
      },
      "source": [
        "In order to construct a PyTorch model using SageMaker we must provide SageMaker with a training script. We may optionally include a directory which will be copied to the container and from which our training code will be run. When the training container is executed it will check the uploaded directory (if there is one) for a `requirements.txt` file and install any required Python libraries, after which the training script will be run."
      ]
    },
    {
      "cell_type": "markdown",
      "metadata": {
        "id": "vXjjt5myIAzF",
        "colab_type": "text"
      },
      "source": [
        "### (TODO) Training the model\n",
        "\n",
        "When a PyTorch model is constructed in SageMaker, an entry point must be specified. This is the Python file which will be executed when the model is trained. Inside of the `train` directory is a file called `train.py` which has been provided and which contains most of the necessary code to train our model. The only thing that is missing is the implementation of the `train()` method which you wrote earlier in this notebook.\n",
        "\n",
        "**TODO**: Copy the `train()` method written above and paste it into the `train/train.py` file where required.\n",
        "\n",
        "The way that SageMaker passes hyperparameters to the training script is by way of arguments. These arguments can then be parsed and used in the training script. To see how this is done take a look at the provided `train/train.py` file."
      ]
    },
    {
      "cell_type": "code",
      "metadata": {
        "id": "yb8XmgsjIAzF",
        "colab_type": "code",
        "colab": {}
      },
      "source": [
        "from sagemaker.pytorch import PyTorch\n",
        "\n",
        "estimator = PyTorch(entry_point=\"train.py\",\n",
        "                    source_dir=\"train\",\n",
        "                    role=role,\n",
        "                    framework_version='0.4.0',\n",
        "                    train_instance_count=1,\n",
        "                    train_instance_type='ml.p2.xlarge',\n",
        "                    hyperparameters={\n",
        "                        'epochs': 10,\n",
        "                        'hidden_dim': 200,\n",
        "                    })"
      ],
      "execution_count": 0,
      "outputs": []
    },
    {
      "cell_type": "code",
      "metadata": {
        "id": "Zt5mNKkjIAzH",
        "colab_type": "code",
        "colab": {}
      },
      "source": [
        "estimator.fit({'training': input_data})"
      ],
      "execution_count": 0,
      "outputs": []
    },
    {
      "cell_type": "markdown",
      "metadata": {
        "id": "kKcGZlP2IAzJ",
        "colab_type": "text"
      },
      "source": [
        "## Step 5: Testing the model\n",
        "\n",
        "As mentioned at the top of this notebook, we will be testing this model by first deploying it and then sending the testing data to the deployed endpoint. We will do this so that we can make sure that the deployed model is working correctly.\n",
        "\n",
        "## Step 6: Deploy the model for testing\n",
        "\n",
        "Now that we have trained our model, we would like to test it to see how it performs. Currently our model takes input of the form `review_length, review[500]` where `review[500]` is a sequence of `500` integers which describe the words present in the review, encoded using `word_dict`. Fortunately for us, SageMaker provides built-in inference code for models with simple inputs such as this.\n",
        "\n",
        "There is one thing that we need to provide, however, and that is a function which loads the saved model. This function must be called `model_fn()` and takes as its only parameter a path to the directory where the model artifacts are stored. This function must also be present in the python file which we specified as the entry point. In our case the model loading function has been provided and so no changes need to be made.\n",
        "\n",
        "**NOTE**: When the built-in inference code is run it must import the `model_fn()` method from the `train.py` file. This is why the training code is wrapped in a main guard ( ie, `if __name__ == '__main__':` )\n",
        "\n",
        "Since we don't need to change anything in the code that was uploaded during training, we can simply deploy the current model as-is.\n",
        "\n",
        "**NOTE:** When deploying a model you are asking SageMaker to launch an compute instance that will wait for data to be sent to it. As a result, this compute instance will continue to run until *you* shut it down. This is important to know since the cost of a deployed endpoint depends on how long it has been running for.\n",
        "\n",
        "In other words **If you are no longer using a deployed endpoint, shut it down!**\n",
        "\n",
        "**TODO:** Deploy the trained model."
      ]
    },
    {
      "cell_type": "code",
      "metadata": {
        "id": "1oD_iA_kIAzK",
        "colab_type": "code",
        "colab": {}
      },
      "source": [
        "# TODO: Deploy the trained model\n",
        "predictor = estimator.deploy(initial_instance_count=1, instance_type='ml.m4.xlarge')"
      ],
      "execution_count": 0,
      "outputs": []
    },
    {
      "cell_type": "markdown",
      "metadata": {
        "id": "X_e3AvYvIAzN",
        "colab_type": "text"
      },
      "source": [
        "## Step 7 - Use the model for testing\n",
        "\n",
        "Once deployed, we can read in the test data and send it off to our deployed model to get some results. Once we collect all of the results we can determine how accurate our model is."
      ]
    },
    {
      "cell_type": "code",
      "metadata": {
        "id": "E_elGzgbIAzO",
        "colab_type": "code",
        "colab": {}
      },
      "source": [
        "test_X = pd.concat([pd.DataFrame(test_X_len), pd.DataFrame(test_X)], axis=1)"
      ],
      "execution_count": 0,
      "outputs": []
    },
    {
      "cell_type": "code",
      "metadata": {
        "id": "XrjB4h08IAzQ",
        "colab_type": "code",
        "colab": {}
      },
      "source": [
        "# We split the data into chunks and send each chunk seperately, accumulating the results.\n",
        "\n",
        "def predict(data, rows=512):\n",
        "    split_array = np.array_split(data, int(data.shape[0] / float(rows) + 1))\n",
        "    predictions = np.array([])\n",
        "    for array in split_array:\n",
        "        predictions = np.append(predictions, predictor.predict(array))\n",
        "    \n",
        "    return predictions"
      ],
      "execution_count": 0,
      "outputs": []
    },
    {
      "cell_type": "code",
      "metadata": {
        "id": "IqJcDIpFIAzR",
        "colab_type": "code",
        "colab": {}
      },
      "source": [
        "predictions = predict(test_X.values)\n",
        "predictions = [round(num) for num in predictions]"
      ],
      "execution_count": 0,
      "outputs": []
    },
    {
      "cell_type": "code",
      "metadata": {
        "id": "ahjCqPj4IAzT",
        "colab_type": "code",
        "colab": {}
      },
      "source": [
        "from sklearn.metrics import accuracy_score\n",
        "accuracy_score(test_y, predictions)"
      ],
      "execution_count": 0,
      "outputs": []
    },
    {
      "cell_type": "markdown",
      "metadata": {
        "id": "DGt8eJwPIAzW",
        "colab_type": "text"
      },
      "source": [
        "**Question:** How does this model compare to the XGBoost model you created earlier? Why might these two models perform differently on this dataset? Which do *you* think is better for sentiment analysis?"
      ]
    },
    {
      "cell_type": "markdown",
      "metadata": {
        "id": "Xw9Ue59tIAzW",
        "colab_type": "text"
      },
      "source": [
        "**Answer:**\n",
        "- Here, both the models have similar performance. RNN model's performace can be improved on further hyperparameter tuning.\n",
        "\n",
        "- For machine learning models like XGBoost, the order of words are not considered. \n",
        "\n",
        "- I think RNN are better because they can remember previous inputs."
      ]
    },
    {
      "cell_type": "markdown",
      "metadata": {
        "id": "wddfwpUCIAzY",
        "colab_type": "text"
      },
      "source": [
        "### (TODO) More testing\n",
        "\n",
        "We now have a trained model which has been deployed and which we can send processed reviews to and which returns the predicted sentiment. However, ultimately we would like to be able to send our model an unprocessed review. That is, we would like to send the review itself as a string. For example, suppose we wish to send the following review to our model."
      ]
    },
    {
      "cell_type": "code",
      "metadata": {
        "id": "KrYgh3EIIAzZ",
        "colab_type": "code",
        "colab": {}
      },
      "source": [
        "test_review = 'The simplest pleasures in life are the best, and this film is one of them. Combining a rather basic storyline of love and adventure this movie transcends the usual weekend fair with wit and unmitigated charm.'"
      ],
      "execution_count": 0,
      "outputs": []
    },
    {
      "cell_type": "markdown",
      "metadata": {
        "id": "5u-bQHo6IAzc",
        "colab_type": "text"
      },
      "source": [
        "The question we now need to answer is, how do we send this review to our model?\n",
        "\n",
        "Recall in the first section of this notebook we did a bunch of data processing to the IMDb dataset. In particular, we did two specific things to the provided reviews.\n",
        " - Removed any html tags and stemmed the input\n",
        " - Encoded the review as a sequence of integers using `word_dict`\n",
        " \n",
        "In order process the review we will need to repeat these two steps.\n",
        "\n",
        "**TODO**: Using the `review_to_words` and `convert_and_pad` methods from section one, convert `test_review` into a numpy array `test_data` suitable to send to our model. Remember that our model expects input of the form `review_length, review[500]`."
      ]
    },
    {
      "cell_type": "code",
      "metadata": {
        "id": "UZHkKLRxIAze",
        "colab_type": "code",
        "colab": {}
      },
      "source": [
        "# TODO: Convert test_review into a form usable by the model and save the results in test_data\n",
        "test_data = review_to_words(test_review)\n",
        "test_data = [np.array(convert_and_pad(word_dict, test_data)[0])]"
      ],
      "execution_count": 0,
      "outputs": []
    },
    {
      "cell_type": "markdown",
      "metadata": {
        "id": "mmOD_fZsIAzg",
        "colab_type": "text"
      },
      "source": [
        "Now that we have processed the review, we can send the resulting array to our model to predict the sentiment of the review."
      ]
    },
    {
      "cell_type": "code",
      "metadata": {
        "id": "Q-6hw6weIAzg",
        "colab_type": "code",
        "colab": {}
      },
      "source": [
        "predictor.predict(test_data)"
      ],
      "execution_count": 0,
      "outputs": []
    },
    {
      "cell_type": "markdown",
      "metadata": {
        "id": "80qnaDPRIAzi",
        "colab_type": "text"
      },
      "source": [
        "Since the return value of our model is close to `1`, we can be certain that the review we submitted is positive."
      ]
    },
    {
      "cell_type": "markdown",
      "metadata": {
        "id": "rx5oh8CqIAzi",
        "colab_type": "text"
      },
      "source": [
        "### Delete the endpoint\n",
        "\n",
        "Of course, just like in the XGBoost notebook, once we've deployed an endpoint it continues to run until we tell it to shut down. Since we are done using our endpoint for now, we can delete it."
      ]
    },
    {
      "cell_type": "code",
      "metadata": {
        "id": "tGbtORIMIAzj",
        "colab_type": "code",
        "colab": {}
      },
      "source": [
        "estimator.delete_endpoint()"
      ],
      "execution_count": 0,
      "outputs": []
    },
    {
      "cell_type": "markdown",
      "metadata": {
        "id": "yS9xZ_ijIAzk",
        "colab_type": "text"
      },
      "source": [
        "## Step 6 (again) - Deploy the model for the web app\n",
        "\n",
        "Now that we know that our model is working, it's time to create some custom inference code so that we can send the model a review which has not been processed and have it determine the sentiment of the review.\n",
        "\n",
        "As we saw above, by default the estimator which we created, when deployed, will use the entry script and directory which we provided when creating the model. However, since we now wish to accept a string as input and our model expects a processed review, we need to write some custom inference code.\n",
        "\n",
        "We will store the code that we write in the `serve` directory. Provided in this directory is the `model.py` file that we used to construct our model, a `utils.py` file which contains the `review_to_words` and `convert_and_pad` pre-processing functions which we used during the initial data processing, and `predict.py`, the file which will contain our custom inference code. Note also that `requirements.txt` is present which will tell SageMaker what Python libraries are required by our custom inference code.\n",
        "\n",
        "When deploying a PyTorch model in SageMaker, you are expected to provide four functions which the SageMaker inference container will use.\n",
        " - `model_fn`: This function is the same function that we used in the training script and it tells SageMaker how to load our model.\n",
        " - `input_fn`: This function receives the raw serialized input that has been sent to the model's endpoint and its job is to de-serialize and make the input available for the inference code.\n",
        " - `output_fn`: This function takes the output of the inference code and its job is to serialize this output and return it to the caller of the model's endpoint.\n",
        " - `predict_fn`: The heart of the inference script, this is where the actual prediction is done and is the function which you will need to complete.\n",
        "\n",
        "For the simple website that we are constructing during this project, the `input_fn` and `output_fn` methods are relatively straightforward. We only require being able to accept a string as input and we expect to return a single value as output. You might imagine though that in a more complex application the input or output may be image data or some other binary data which would require some effort to serialize.\n",
        "\n",
        "### (TODO) Writing inference code\n",
        "\n",
        "Before writing our custom inference code, we will begin by taking a look at the code which has been provided."
      ]
    },
    {
      "cell_type": "code",
      "metadata": {
        "id": "T9C6hDUMIAzl",
        "colab_type": "code",
        "colab": {}
      },
      "source": [
        "!pygmentize serve/predict.py"
      ],
      "execution_count": 0,
      "outputs": []
    },
    {
      "cell_type": "markdown",
      "metadata": {
        "id": "3FHRf1eXIAzo",
        "colab_type": "text"
      },
      "source": [
        "As mentioned earlier, the `model_fn` method is the same as the one provided in the training code and the `input_fn` and `output_fn` methods are very simple and your task will be to complete the `predict_fn` method. Make sure that you save the completed file as `predict.py` in the `serve` directory.\n",
        "\n",
        "**TODO**: Complete the `predict_fn()` method in the `serve/predict.py` file."
      ]
    },
    {
      "cell_type": "markdown",
      "metadata": {
        "id": "FwrlAEL8IAzo",
        "colab_type": "text"
      },
      "source": [
        "### Deploying the model\n",
        "\n",
        "Now that the custom inference code has been written, we will create and deploy our model. To begin with, we need to construct a new PyTorchModel object which points to the model artifacts created during training and also points to the inference code that we wish to use. Then we can call the deploy method to launch the deployment container.\n",
        "\n",
        "**NOTE**: The default behaviour for a deployed PyTorch model is to assume that any input passed to the predictor is a `numpy` array. In our case we want to send a string so we need to construct a simple wrapper around the `RealTimePredictor` class to accomodate simple strings. In a more complicated situation you may want to provide a serialization object, for example if you wanted to sent image data."
      ]
    },
    {
      "cell_type": "code",
      "metadata": {
        "id": "mFpiqUs7IAzp",
        "colab_type": "code",
        "colab": {}
      },
      "source": [
        "from sagemaker.predictor import RealTimePredictor\n",
        "from sagemaker.pytorch import PyTorchModel\n",
        "\n",
        "class StringPredictor(RealTimePredictor):\n",
        "    def __init__(self, endpoint_name, sagemaker_session):\n",
        "        super(StringPredictor, self).__init__(endpoint_name, sagemaker_session, content_type='text/plain')\n",
        "\n",
        "model = PyTorchModel(model_data=estimator.model_data,\n",
        "                     role = role,\n",
        "                     framework_version='0.4.0',\n",
        "                     entry_point='predict.py',\n",
        "                     source_dir='serve',\n",
        "                     predictor_cls=StringPredictor)\n",
        "predictor = model.deploy(initial_instance_count=1, instance_type='ml.m4.xlarge')"
      ],
      "execution_count": 0,
      "outputs": []
    },
    {
      "cell_type": "markdown",
      "metadata": {
        "id": "GU1kXYG1IAzs",
        "colab_type": "text"
      },
      "source": [
        "### Testing the model\n",
        "\n",
        "Now that we have deployed our model with the custom inference code, we should test to see if everything is working. Here we test our model by loading the first `250` positive and negative reviews and send them to the endpoint, then collect the results. The reason for only sending some of the data is that the amount of time it takes for our model to process the input and then perform inference is quite long and so testing the entire data set would be prohibitive."
      ]
    },
    {
      "cell_type": "code",
      "metadata": {
        "id": "squynj3MIAzs",
        "colab_type": "code",
        "colab": {}
      },
      "source": [
        "import glob\n",
        "\n",
        "def test_reviews(data_dir='../data/aclImdb', stop=250):\n",
        "    \n",
        "    results = []\n",
        "    ground = []\n",
        "    \n",
        "    # We make sure to test both positive and negative reviews    \n",
        "    for sentiment in ['pos', 'neg']:\n",
        "        \n",
        "        path = os.path.join(data_dir, 'test', sentiment, '*.txt')\n",
        "        files = glob.glob(path)\n",
        "        \n",
        "        files_read = 0\n",
        "        \n",
        "        print('Starting ', sentiment, ' files')\n",
        "        \n",
        "        # Iterate through the files and send them to the predictor\n",
        "        for f in files:\n",
        "            with open(f) as review:\n",
        "                # First, we store the ground truth (was the review positive or negative)\n",
        "                if sentiment == 'pos':\n",
        "                    ground.append(1)\n",
        "                else:\n",
        "                    ground.append(0)\n",
        "                # Read in the review and convert to 'utf-8' for transmission via HTTP\n",
        "                review_input = review.read().encode('utf-8')\n",
        "                # Send the review to the predictor and store the results\n",
        "                results.append(int(predictor.predict(review_input)))\n",
        "                \n",
        "            # Sending reviews to our endpoint one at a time takes a while so we\n",
        "            # only send a small number of reviews\n",
        "            files_read += 1\n",
        "            if files_read == stop:\n",
        "                break\n",
        "            \n",
        "    return ground, results"
      ],
      "execution_count": 0,
      "outputs": []
    },
    {
      "cell_type": "code",
      "metadata": {
        "id": "mmUCcVYYIAzu",
        "colab_type": "code",
        "colab": {}
      },
      "source": [
        "ground, results = test_reviews()"
      ],
      "execution_count": 0,
      "outputs": []
    },
    {
      "cell_type": "code",
      "metadata": {
        "id": "71eou0LjIAzv",
        "colab_type": "code",
        "colab": {}
      },
      "source": [
        "from sklearn.metrics import accuracy_score\n",
        "accuracy_score(ground, results)"
      ],
      "execution_count": 0,
      "outputs": []
    },
    {
      "cell_type": "markdown",
      "metadata": {
        "id": "9WBnwCaCIAzw",
        "colab_type": "text"
      },
      "source": [
        "As an additional test, we can try sending the `test_review` that we looked at earlier."
      ]
    },
    {
      "cell_type": "code",
      "metadata": {
        "id": "AIrmHpkHIAzx",
        "colab_type": "code",
        "colab": {}
      },
      "source": [
        "predictor.predict(test_review)"
      ],
      "execution_count": 0,
      "outputs": []
    },
    {
      "cell_type": "markdown",
      "metadata": {
        "id": "yaGdRdXuIAzz",
        "colab_type": "text"
      },
      "source": [
        "Now that we know our endpoint is working as expected, we can set up the web page that will interact with it. If you don't have time to finish the project now, make sure to skip down to the end of this notebook and shut down your endpoint. You can deploy it again when you come back."
      ]
    },
    {
      "cell_type": "markdown",
      "metadata": {
        "id": "Xgy0vncJIAz0",
        "colab_type": "text"
      },
      "source": [
        "## Step 7 (again): Use the model for the web app\n",
        "\n",
        "> **TODO:** This entire section and the next contain tasks for you to complete, mostly using the AWS console.\n",
        "\n",
        "So far we have been accessing our model endpoint by constructing a predictor object which uses the endpoint and then just using the predictor object to perform inference. What if we wanted to create a web app which accessed our model? The way things are set up currently makes that not possible since in order to access a SageMaker endpoint the app would first have to authenticate with AWS using an IAM role which included access to SageMaker endpoints. However, there is an easier way! We just need to use some additional AWS services.\n",
        "\n",
        "<img src=\"https://github.com/pratyakshajha/project-aws-deployment/blob/master/Web%20App%20Diagram.svg?raw=1\">\n",
        "\n",
        "The diagram above gives an overview of how the various services will work together. On the far right is the model which we trained above and which is deployed using SageMaker. On the far left is our web app that collects a user's movie review, sends it off and expects a positive or negative sentiment in return.\n",
        "\n",
        "In the middle is where some of the magic happens. We will construct a Lambda function, which you can think of as a straightforward Python function that can be executed whenever a specified event occurs. We will give this function permission to send and recieve data from a SageMaker endpoint.\n",
        "\n",
        "Lastly, the method we will use to execute the Lambda function is a new endpoint that we will create using API Gateway. This endpoint will be a url that listens for data to be sent to it. Once it gets some data it will pass that data on to the Lambda function and then return whatever the Lambda function returns. Essentially it will act as an interface that lets our web app communicate with the Lambda function.\n",
        "\n",
        "### Setting up a Lambda function\n",
        "\n",
        "The first thing we are going to do is set up a Lambda function. This Lambda function will be executed whenever our public API has data sent to it. When it is executed it will receive the data, perform any sort of processing that is required, send the data (the review) to the SageMaker endpoint we've created and then return the result.\n",
        "\n",
        "#### Part A: Create an IAM Role for the Lambda function\n",
        "\n",
        "Since we want the Lambda function to call a SageMaker endpoint, we need to make sure that it has permission to do so. To do this, we will construct a role that we can later give the Lambda function.\n",
        "\n",
        "Using the AWS Console, navigate to the **IAM** page and click on **Roles**. Then, click on **Create role**. Make sure that the **AWS service** is the type of trusted entity selected and choose **Lambda** as the service that will use this role, then click **Next: Permissions**.\n",
        "\n",
        "In the search box type `sagemaker` and select the check box next to the **AmazonSageMakerFullAccess** policy. Then, click on **Next: Review**.\n",
        "\n",
        "Lastly, give this role a name. Make sure you use a name that you will remember later on, for example `LambdaSageMakerRole`. Then, click on **Create role**.\n",
        "\n",
        "#### Part B: Create a Lambda function\n",
        "\n",
        "Now it is time to actually create the Lambda function.\n",
        "\n",
        "Using the AWS Console, navigate to the AWS Lambda page and click on **Create a function**. When you get to the next page, make sure that **Author from scratch** is selected. Now, name your Lambda function, using a name that you will remember later on, for example `sentiment_analysis_func`. Make sure that the **Python 3.6** runtime is selected and then choose the role that you created in the previous part. Then, click on **Create Function**.\n",
        "\n",
        "On the next page you will see some information about the Lambda function you've just created. If you scroll down you should see an editor in which you can write the code that will be executed when your Lambda function is triggered. In our example, we will use the code below. \n",
        "\n",
        "```python\n",
        "# We need to use the low-level library to interact with SageMaker since the SageMaker API\n",
        "# is not available natively through Lambda.\n",
        "import boto3\n",
        "\n",
        "def lambda_handler(event, context):\n",
        "\n",
        "    # The SageMaker runtime is what allows us to invoke the endpoint that we've created.\n",
        "    runtime = boto3.Session().client('sagemaker-runtime')\n",
        "\n",
        "    # Now we use the SageMaker runtime to invoke our endpoint, sending the review we were given\n",
        "    response = runtime.invoke_endpoint(EndpointName = '**ENDPOINT NAME HERE**',    # The name of the endpoint we created\n",
        "                                       ContentType = 'text/plain',                 # The data format that is expected\n",
        "                                       Body = event['body'])                       # The actual review\n",
        "\n",
        "    # The response is an HTTP response whose body contains the result of our inference\n",
        "    result = response['Body'].read().decode('utf-8')\n",
        "\n",
        "    return {\n",
        "        'statusCode' : 200,\n",
        "        'headers' : { 'Content-Type' : 'text/plain', 'Access-Control-Allow-Origin' : '*' },\n",
        "        'body' : result\n",
        "    }\n",
        "```\n",
        "\n",
        "Once you have copy and pasted the code above into the Lambda code editor, replace the `**ENDPOINT NAME HERE**` portion with the name of the endpoint that we deployed earlier. You can determine the name of the endpoint using the code cell below."
      ]
    },
    {
      "cell_type": "code",
      "metadata": {
        "id": "0y9UPK2FIAz1",
        "colab_type": "code",
        "colab": {}
      },
      "source": [
        "predictor.endpoint"
      ],
      "execution_count": 0,
      "outputs": []
    },
    {
      "cell_type": "markdown",
      "metadata": {
        "id": "gJAZvWjeIAz3",
        "colab_type": "text"
      },
      "source": [
        "Once you have added the endpoint name to the Lambda function, click on **Save**. Your Lambda function is now up and running. Next we need to create a way for our web app to execute the Lambda function.\n",
        "\n",
        "### Setting up API Gateway\n",
        "\n",
        "Now that our Lambda function is set up, it is time to create a new API using API Gateway that will trigger the Lambda function we have just created.\n",
        "\n",
        "Using AWS Console, navigate to **Amazon API Gateway** and then click on **Get started**.\n",
        "\n",
        "On the next page, make sure that **New API** is selected and give the new api a name, for example, `sentiment_analysis_api`. Then, click on **Create API**.\n",
        "\n",
        "Now we have created an API, however it doesn't currently do anything. What we want it to do is to trigger the Lambda function that we created earlier.\n",
        "\n",
        "Select the **Actions** dropdown menu and click **Create Method**. A new blank method will be created, select its dropdown menu and select **POST**, then click on the check mark beside it.\n",
        "\n",
        "For the integration point, make sure that **Lambda Function** is selected and click on the **Use Lambda Proxy integration**. This option makes sure that the data that is sent to the API is then sent directly to the Lambda function with no processing. It also means that the return value must be a proper response object as it will also not be processed by API Gateway.\n",
        "\n",
        "Type the name of the Lambda function you created earlier into the **Lambda Function** text entry box and then click on **Save**. Click on **OK** in the pop-up box that then appears, giving permission to API Gateway to invoke the Lambda function you created.\n",
        "\n",
        "The last step in creating the API Gateway is to select the **Actions** dropdown and click on **Deploy API**. You will need to create a new Deployment stage and name it anything you like, for example `prod`.\n",
        "\n",
        "You have now successfully set up a public API to access your SageMaker model. Make sure to copy or write down the URL provided to invoke your newly created public API as this will be needed in the next step. This URL can be found at the top of the page, highlighted in blue next to the text **Invoke URL**."
      ]
    },
    {
      "cell_type": "markdown",
      "metadata": {
        "id": "Oacc9YgiIAz3",
        "colab_type": "text"
      },
      "source": [
        "## Step 4: Deploying our web app\n",
        "\n",
        "Now that we have a publicly available API, we can start using it in a web app. For our purposes, we have provided a simple static html file which can make use of the public api you created earlier.\n",
        "\n",
        "In the `website` folder there should be a file called `index.html`. Download the file to your computer and open that file up in a text editor of your choice. There should be a line which contains **\\*\\*REPLACE WITH PUBLIC API URL\\*\\***. Replace this string with the url that you wrote down in the last step and then save the file.\n",
        "\n",
        "Now, if you open `index.html` on your local computer, your browser will behave as a local web server and you can use the provided site to interact with your SageMaker model.\n",
        "\n",
        "If you'd like to go further, you can host this html file anywhere you'd like, for example using github or hosting a static site on Amazon's S3. Once you have done this you can share the link with anyone you'd like and have them play with it too!\n",
        "\n",
        "> **Important Note** In order for the web app to communicate with the SageMaker endpoint, the endpoint has to actually be deployed and running. This means that you are paying for it. Make sure that the endpoint is running when you want to use the web app but that you shut it down when you don't need it, otherwise you will end up with a surprisingly large AWS bill.\n",
        "\n",
        "**TODO:** Make sure that you include the edited `index.html` file in your project submission."
      ]
    },
    {
      "cell_type": "markdown",
      "metadata": {
        "id": "Z9b6E1-mIAz4",
        "colab_type": "text"
      },
      "source": [
        "Now that your web app is working, trying playing around with it and see how well it works.\n",
        "\n",
        "**Question**: Give an example of a review that you entered into your web app. What was the predicted sentiment of your example review?"
      ]
    },
    {
      "cell_type": "markdown",
      "metadata": {
        "id": "cov_ibU9IAz4",
        "colab_type": "text"
      },
      "source": [
        "**Answer:**\n",
        "UPDATE ON DEPLOYMENT"
      ]
    },
    {
      "cell_type": "markdown",
      "metadata": {
        "id": "5zYdPJM9IAz7",
        "colab_type": "text"
      },
      "source": [
        "### Delete the endpoint\n",
        "\n",
        "Remember to always shut down your endpoint if you are no longer using it. You are charged for the length of time that the endpoint is running so if you forget and leave it on you could end up with an unexpectedly large bill."
      ]
    },
    {
      "cell_type": "code",
      "metadata": {
        "id": "NXVVYFfcIAz7",
        "colab_type": "code",
        "colab": {}
      },
      "source": [
        "predictor.delete_endpoint()"
      ],
      "execution_count": 0,
      "outputs": []
    },
    {
      "cell_type": "code",
      "metadata": {
        "id": "TFdTXycoIAz8",
        "colab_type": "code",
        "colab": {}
      },
      "source": [
        ""
      ],
      "execution_count": 0,
      "outputs": []
    }
  ]
}